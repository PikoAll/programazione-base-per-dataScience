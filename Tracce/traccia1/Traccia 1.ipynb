{
 "cells": [
  {
   "cell_type": "markdown",
   "metadata": {},
   "source": [
    "\n",
    "# Prova di esame (laboratorio)\n",
    "\n",
    "La prova avrà una durata massima di due ore e porterà a una valutazione massima di 21 punti. Il voto finale si otterrà per somma del punteggio del test di teoria e della prova di laboratorio. \n",
    "\n",
    "La prova consiste in un insieme di quiz proposti attraverso un Jupyter Notebook (non sono ammessi altri strumenti software) da svolgere sui computer del laboratorio (non sono ammessi altri strumenti hardware). Durante la prova si può consultare il libro di testo, le slide usate a lezione, un manuale python (approvato dal docente) oppure le guide in linea suggerite da Jupyter Notebook. Non sono ammessi altri strumenti di consultazione. \n",
    "\n"
   ]
  },
  {
   "cell_type": "markdown",
   "metadata": {},
   "source": [
    "Prima della prova\n",
    "Specificare la informazioni richieste nelle celle sottostanti e salvare il notebook con il proprio nome.\n",
    "\n",
    "Durante la prova\n",
    "Nelle celle markdown, cancellare il testo \"YOUR ANSWER HERE\" con la propria risposta. Nelle celle codice, rimuovere la linea di codice\n",
    "\n",
    "raise NotImplementedError()\n",
    "e sostituirla con la propria implementazione. Dopo ogni cella codice che deve contenere la risposta al quesito, esiste una cella codice con delle asserzioni, ossia delle istruzioni che verificano la correttezza della propria soluzione. (Queste asserzioni saranno usate per valutare la correttezza della risposta data e assegnare un punteggio.) E' possibile eseguire queste celle per verificare che la soluzione proposta sia corretta.\n"
   ]
  },
  {
   "cell_type": "markdown",
   "metadata": {},
   "source": [
    "### Temperatura corporea dei castori\n",
    "\n",
    "Il dataset `beav1.csv` descrive una piccola parte di uno studio sulla dinamica della temperatura a lungo termine del castoro *Castor canadensis* nel Wisconsin centro-settentrionale. La temperatura corporea è stata misurata con la telemetria ogni 10 minuti per quattro femmine, ma vengono utilizzati i dati di un periodo di meno di un giorno per ciascuno dei due animali.\n",
    "\n",
    "#### Formato\n",
    "Il dataset ha 114 righe e 4 colonne:\n",
    "- day: Giorno di osservazione (in giorni dall'inizio del 1990), 12-13 dicembre.\n",
    "- time: Ora di osservazione, nella forma 0330 per le 3.30.\n",
    "- temp: Temperatura corporea misurata in gradi Celsius.\n",
    "- activ: Indicatore di attività \n",
    "\n",
    "(Nota: Manca l'osservazione alle 22:20.)"
   ]
  },
  {
   "cell_type": "markdown",
   "metadata": {},
   "source": [
    "### Caricamento dati \n",
    "\n",
    "1. Caricare il file `beav1.csv` in un DataFrame denominato `dataset`.\n",
    "2. Stampare la stringa `\"Il dataset ha ... righe e ... colonne\"` sostituendo i puntini con i valori corrispondenti. Utilizzare le f-string."
   ]
  },
  {
   "cell_type": "code",
   "execution_count": null,
   "metadata": {
    "scrolled": false
   },
   "outputs": [],
   "source": [
    "import pandas as pd\n",
    "\n",
    "dataset = pd.read_csv('beav1.csv')\n",
    "\n",
    "print(f'Il dataset ha {dataset.shape[0]} righe e {dataset.shape[1]} colonne')"
   ]
  },
  {
   "cell_type": "code",
   "execution_count": null,
   "metadata": {
    "scrolled": false
   },
   "outputs": [],
   "source": [
    "assert dataset.shape == (114, 4)"
   ]
  },
  {
   "cell_type": "markdown",
   "metadata": {},
   "source": [
    "### Funzione di conversione \n",
    "\n",
    "Definire la funzione `intTimeToString(int_time)` che riceve in input un istante temporale *numerico* tale che le decine e le unità rappresentano i minuti e le cifre rimanenti rappresentano le ore. (Per esempio, il numero intero `1000` rappresenta le ore 10:00; il numero `1230` rappresenta le ore 12:30; il numero `840` rappresenta le ore 8:40; il numero `0` (equivalente a `0000`) rappresenta le ore 0:00). La funzione deve restituire una stringa nel formato *\"HH:MM\"* essendo *HH* l'ora (sempre con due cifre) e *MM* i minuti (sempre con due cifre)."
   ]
  },
  {
   "cell_type": "code",
   "execution_count": null,
   "metadata": {
    "scrolled": false
   },
   "outputs": [],
   "source": [
    "def intTimeToString(int_time):\n",
    "    \n",
    "    return '{0:02}:{1:02}'.format(int_time // 100 , int_time % 100)\n",
    "\n",
    "\n",
    "print(intTimeToString(2))\n",
    "print(intTimeToString(2))\n",
    "print(intTimeToString(2))\n",
    "print(intTimeToString(2))"
   ]
  },
  {
   "cell_type": "code",
   "execution_count": null,
   "metadata": {
    "scrolled": false
   },
   "outputs": [],
   "source": [
    "assert intTimeToString(1230) == \"12:30\""
   ]
  },
  {
   "cell_type": "code",
   "execution_count": null,
   "metadata": {
    "scrolled": false
   },
   "outputs": [],
   "source": [
    "assert intTimeToString(840) == \"08:40\"\n",
    "assert intTimeToString(0) == \"00:00\"\n",
    "assert intTimeToString(1000) == \"10:00\""
   ]
  },
  {
   "cell_type": "markdown",
   "metadata": {},
   "source": [
    "### Mapping \n",
    "\n",
    "1. Creare una lista dalla sequenza dei valori della colonna `time` del dataset. \n",
    "2. *utilizzando la funzione `map`*, applicare la funzione `intTimeToString` ai valori della lista\n",
    "3. Creare la lista `time_strings` con i risultati del mapping"
   ]
  },
  {
   "cell_type": "code",
   "execution_count": null,
   "metadata": {
    "scrolled": false
   },
   "outputs": [],
   "source": [
    "times = list(dataset.time)\n",
    "time_strings = list(map(intTimeToString , times))\n",
    "\n",
    "print(times)\n",
    "print(time_strings)"
   ]
  },
  {
   "cell_type": "code",
   "execution_count": null,
   "metadata": {
    "scrolled": false
   },
   "outputs": [],
   "source": [
    "assert all(isinstance(s, str) for s in time_strings)\n",
    "assert len(time_strings) == dataset.shape[0]\n",
    "assert all(':' in s for s in time_strings)"
   ]
  },
  {
   "cell_type": "markdown",
   "metadata": {},
   "source": [
    "## Manipolazione date \n",
    "\n",
    "Utilizzando la libreria `datetime`, eseguire le seguenti operazioni:\n",
    "1. creare un oggetto di tipo `date` che rappresenti il primo gennaio 1990\n",
    "2. creare un oggetto di tipo `timedelta` che rappresenti 346 giorni\n",
    "3. creare una variabile di nome `final_date` che rappresenti la data corrispondente a 346 giorni dopo il primo gennaio del 1990\n",
    "\n",
    "__utilizzare la documentazione in linea per poter utilizzare le classi richieste__"
   ]
  },
  {
   "cell_type": "code",
   "execution_count": null,
   "metadata": {
    "scrolled": false
   },
   "outputs": [],
   "source": [
    "import datetime as dt\n",
    "\n",
    "init_date = dt.date(1990 , 1 , 1)\n",
    "delta = dt.timedelta(days = 346)\n",
    "final_date = init_date + delta\n",
    "\n",
    "print(init_date)\n",
    "print(final_date)"
   ]
  },
  {
   "cell_type": "code",
   "execution_count": null,
   "metadata": {
    "scrolled": false
   },
   "outputs": [],
   "source": [
    "assert final_date.year == 1990\n",
    "assert final_date.month == 12\n",
    "assert final_date.day == 13"
   ]
  },
  {
   "cell_type": "markdown",
   "metadata": {},
   "source": [
    "### Timestamp \n",
    "\n",
    "*Utilizzando le comprensioni di lista* creare una lista di nome `timestamps` contenente stringhe ottenute concatenando la rappresentazione in stringa di `final_date` con ciascuna stringa in `time_strings` (separate da una virgola).\n",
    "Per esempio, il primo elemento di `timestamps` sarà:\n",
    "```python\n",
    "'1990-12-13,08:40'\n",
    "```"
   ]
  },
  {
   "cell_type": "code",
   "execution_count": null,
   "metadata": {
    "scrolled": false
   },
   "outputs": [],
   "source": [
    "timestamps = [str(final_date) + ',' + time for time in time_strings]\n",
    "\n",
    "timestamps"
   ]
  },
  {
   "cell_type": "code",
   "execution_count": null,
   "metadata": {
    "scrolled": false
   },
   "outputs": [],
   "source": [
    "import re\n",
    "\n",
    "assert len(timestamps) == len(time_strings)\n",
    "assert all(re.fullmatch(r\"\\d{4}-\\d{2}-\\d{2},\\d{2}:\\d{2}\", s) for s in timestamps)"
   ]
  },
  {
   "cell_type": "markdown",
   "metadata": {},
   "source": [
    "### Medie \n",
    "\n",
    "1. Definire una lista di nome `unique_days` con elementi corrispondenti ai valori distinti della colonna `day` (sono solo due);\n",
    "2. Definire un dizionario di nome `avg_temp` con chiavi corrispondenti ai valori di `unique_days`; per ciascuna chiave, il valore corrispondente è pari alla media dei valori della colonna `temp` delle righe del `dataset` i cui valori del campo `day` corrispondono alla chiave."
   ]
  },
  {
   "cell_type": "code",
   "execution_count": null,
   "metadata": {
    "scrolled": false
   },
   "outputs": [],
   "source": [
    "unique_days = list(dataset.day.unique())\n",
    "avg_temp = dict((day , dataset[dataset.day == day].temp.mean()) for day in unique_days)\n",
    "\n",
    "print(unique_days)\n",
    "print(avg_temp)"
   ]
  },
  {
   "cell_type": "code",
   "execution_count": null,
   "metadata": {
    "scrolled": false
   },
   "outputs": [],
   "source": [
    "assert unique_days == [346, 347]"
   ]
  },
  {
   "cell_type": "code",
   "execution_count": null,
   "metadata": {
    "scrolled": false
   },
   "outputs": [],
   "source": [
    "assert all(36.0 < avg_temp[d] < 37.0 for d in avg_temp)"
   ]
  },
  {
   "cell_type": "markdown",
   "metadata": {},
   "source": [
    "# Espressioni regolari \n",
    "\n",
    "1. definire una stringa di nome `seq` corrispondente alla sequenza di valori della colonna `activ` del dataset\n",
    "2. *Utilizzando le espressioni regolari*, estrarre da `seq` le sequenze che iniziano con `uno 1, continuano con almeno uno `0` e terminano con un altro `1`. Definire la variable `num` che contiene il numero di tali sequenze."
   ]
  },
  {
   "cell_type": "code",
   "execution_count": null,
   "metadata": {
    "scrolled": false
   },
   "outputs": [],
   "source": [
    "seq = ''.join(str(elem) for elem in dataset.activ)\n",
    "num = len(re.findall(r'10+1' , seq))\n",
    "\n",
    "print(seq)\n",
    "print(num)"
   ]
  },
  {
   "cell_type": "code",
   "execution_count": null,
   "metadata": {
    "scrolled": false
   },
   "outputs": [],
   "source": [
    "assert all(c in {'0','1'} for c in seq)"
   ]
  },
  {
   "cell_type": "code",
   "execution_count": null,
   "metadata": {
    "scrolled": false
   },
   "outputs": [],
   "source": [
    "assert num == 3"
   ]
  },
  {
   "cell_type": "markdown",
   "metadata": {},
   "source": [
    "### Conversione da binario a decimale \n",
    "\n",
    "La stringa seq può rappresentare un numero intero in binario. Scrivere il codice necessario per\n",
    "convertire il numero in decimale e memorizzarne il valore nella variabile decimal (non usare funzioni\n",
    "di libreria)."
   ]
  },
  {
   "cell_type": "code",
   "execution_count": null,
   "metadata": {
    "scrolled": false
   },
   "outputs": [],
   "source": [
    "n = len(seq)\n",
    "decimal = sum([int(seq[i]) * 2 ** (n - 1 - i) for i in range(n)])\n",
    "\n",
    "decimal"
   ]
  },
  {
   "cell_type": "code",
   "execution_count": null,
   "metadata": {
    "scrolled": true
   },
   "outputs": [],
   "source": [
    "assert decimal > 1000000000000000000"
   ]
  }
 ],
 "metadata": {
  "kernelspec": {
   "display_name": "Python 3",
   "language": "python",
   "name": "python3"
  },
  "language_info": {
   "codemirror_mode": {
    "name": "ipython",
    "version": 3
   },
   "file_extension": ".py",
   "mimetype": "text/x-python",
   "name": "python",
   "nbconvert_exporter": "python",
   "pygments_lexer": "ipython3",
   "version": "3.8.8"
  }
 },
 "nbformat": 4,
 "nbformat_minor": 4
}

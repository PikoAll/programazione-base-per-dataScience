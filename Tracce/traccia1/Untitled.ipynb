{
 "cells": [
  {
   "cell_type": "code",
   "execution_count": 2,
   "id": "b0093f2a",
   "metadata": {},
   "outputs": [],
   "source": [
    "import pandas as pd"
   ]
  },
  {
   "cell_type": "code",
   "execution_count": 3,
   "id": "9c421603",
   "metadata": {},
   "outputs": [
    {
     "data": {
      "text/plain": [
       "(114, 4)"
      ]
     },
     "execution_count": 3,
     "metadata": {},
     "output_type": "execute_result"
    }
   ],
   "source": [
    "dataset = pd.read_csv('beav1.csv')\n",
    "dataset.shape"
   ]
  },
  {
   "cell_type": "code",
   "execution_count": 4,
   "id": "de5acca8",
   "metadata": {},
   "outputs": [
    {
     "name": "stdout",
     "output_type": "stream",
     "text": [
      "Il dataset ha 114 righe e 4 colonne\n"
     ]
    }
   ],
   "source": [
    "print(f'Il dataset ha {dataset.shape[0]} righe e {dataset.shape[1]} colonne')"
   ]
  },
  {
   "cell_type": "code",
   "execution_count": 5,
   "id": "aa3e7efb",
   "metadata": {},
   "outputs": [],
   "source": [
    "assert dataset.shape == (114, 4)"
   ]
  },
  {
   "cell_type": "code",
   "execution_count": 6,
   "id": "afacd24a",
   "metadata": {},
   "outputs": [],
   "source": [
    "def intTimeToString(int_time):\n",
    "    minuti = str(int_time%100)\n",
    "    ore = str(int_time//100)\n",
    "    \n",
    "    if(len(minuti)==1):\n",
    "        minuti+='0'\n",
    "    if(len(ore)==1):\n",
    "        ore = '0'+ore\n",
    "        \n",
    "    return f'{ore}:{minuti}'    "
   ]
  },
  {
   "cell_type": "code",
   "execution_count": 7,
   "id": "03492a82",
   "metadata": {},
   "outputs": [],
   "source": [
    "assert intTimeToString(1230) == \"12:30\""
   ]
  },
  {
   "cell_type": "code",
   "execution_count": 8,
   "id": "4f8adbf0",
   "metadata": {},
   "outputs": [],
   "source": [
    "assert intTimeToString(840) == \"08:40\"\n",
    "assert intTimeToString(0) == \"00:00\"\n",
    "assert intTimeToString(1000) == \"10:00\""
   ]
  },
  {
   "cell_type": "code",
   "execution_count": 9,
   "id": "2830edf4",
   "metadata": {},
   "outputs": [],
   "source": [
    "times= dataset.time\n",
    "time_strings = list(map(intTimeToString,times))"
   ]
  },
  {
   "cell_type": "code",
   "execution_count": 10,
   "id": "ee496475",
   "metadata": {},
   "outputs": [],
   "source": [
    "assert all(isinstance(s, str) for s in time_strings)\n",
    "assert len(time_strings) == dataset.shape[0]\n",
    "assert all(':' in s for s in time_strings)"
   ]
  },
  {
   "cell_type": "code",
   "execution_count": 16,
   "id": "87cb3a2f",
   "metadata": {},
   "outputs": [],
   "source": [
    "import datetime\n",
    "\n",
    "data = datetime.date(1990,1,1)\n",
    "dataTime = datetime.timedelta(346)\n",
    "final_date = data + dataTime"
   ]
  },
  {
   "cell_type": "code",
   "execution_count": 17,
   "id": "d0d4b344",
   "metadata": {},
   "outputs": [],
   "source": [
    "assert final_date.year == 1990\n",
    "assert final_date.month == 12\n",
    "assert final_date.day == 13"
   ]
  },
  {
   "cell_type": "code",
   "execution_count": 18,
   "id": "5d1c80fc",
   "metadata": {
    "collapsed": true
   },
   "outputs": [
    {
     "data": {
      "text/plain": [
       "['1990-12-13,08:40',\n",
       " '1990-12-13,08:50',\n",
       " '1990-12-13,09:00',\n",
       " '1990-12-13,09:10',\n",
       " '1990-12-13,09:20',\n",
       " '1990-12-13,09:30',\n",
       " '1990-12-13,09:40',\n",
       " '1990-12-13,09:50',\n",
       " '1990-12-13,10:00',\n",
       " '1990-12-13,10:10',\n",
       " '1990-12-13,10:20',\n",
       " '1990-12-13,10:30',\n",
       " '1990-12-13,10:40',\n",
       " '1990-12-13,10:50',\n",
       " '1990-12-13,11:00',\n",
       " '1990-12-13,11:10',\n",
       " '1990-12-13,11:20',\n",
       " '1990-12-13,11:30',\n",
       " '1990-12-13,11:40',\n",
       " '1990-12-13,11:50',\n",
       " '1990-12-13,12:00',\n",
       " '1990-12-13,12:10',\n",
       " '1990-12-13,12:20',\n",
       " '1990-12-13,12:30',\n",
       " '1990-12-13,12:40',\n",
       " '1990-12-13,12:50',\n",
       " '1990-12-13,13:00',\n",
       " '1990-12-13,13:10',\n",
       " '1990-12-13,13:20',\n",
       " '1990-12-13,13:30',\n",
       " '1990-12-13,13:40',\n",
       " '1990-12-13,13:50',\n",
       " '1990-12-13,14:00',\n",
       " '1990-12-13,14:10',\n",
       " '1990-12-13,14:20',\n",
       " '1990-12-13,14:30',\n",
       " '1990-12-13,14:40',\n",
       " '1990-12-13,14:50',\n",
       " '1990-12-13,15:00',\n",
       " '1990-12-13,15:10',\n",
       " '1990-12-13,15:20',\n",
       " '1990-12-13,15:30',\n",
       " '1990-12-13,15:40',\n",
       " '1990-12-13,15:50',\n",
       " '1990-12-13,16:00',\n",
       " '1990-12-13,16:10',\n",
       " '1990-12-13,16:20',\n",
       " '1990-12-13,16:30',\n",
       " '1990-12-13,16:40',\n",
       " '1990-12-13,16:50',\n",
       " '1990-12-13,17:00',\n",
       " '1990-12-13,17:10',\n",
       " '1990-12-13,17:20',\n",
       " '1990-12-13,17:30',\n",
       " '1990-12-13,17:40',\n",
       " '1990-12-13,17:50',\n",
       " '1990-12-13,18:00',\n",
       " '1990-12-13,18:10',\n",
       " '1990-12-13,18:20',\n",
       " '1990-12-13,18:30',\n",
       " '1990-12-13,18:40',\n",
       " '1990-12-13,18:50',\n",
       " '1990-12-13,19:00',\n",
       " '1990-12-13,19:10',\n",
       " '1990-12-13,19:20',\n",
       " '1990-12-13,19:30',\n",
       " '1990-12-13,19:40',\n",
       " '1990-12-13,19:50',\n",
       " '1990-12-13,20:00',\n",
       " '1990-12-13,20:10',\n",
       " '1990-12-13,20:20',\n",
       " '1990-12-13,20:30',\n",
       " '1990-12-13,20:40',\n",
       " '1990-12-13,20:50',\n",
       " '1990-12-13,21:00',\n",
       " '1990-12-13,21:10',\n",
       " '1990-12-13,21:20',\n",
       " '1990-12-13,21:30',\n",
       " '1990-12-13,21:40',\n",
       " '1990-12-13,21:50',\n",
       " '1990-12-13,22:00',\n",
       " '1990-12-13,22:10',\n",
       " '1990-12-13,22:30',\n",
       " '1990-12-13,22:40',\n",
       " '1990-12-13,22:50',\n",
       " '1990-12-13,23:00',\n",
       " '1990-12-13,23:10',\n",
       " '1990-12-13,23:20',\n",
       " '1990-12-13,23:30',\n",
       " '1990-12-13,23:40',\n",
       " '1990-12-13,23:50',\n",
       " '1990-12-13,00:00',\n",
       " '1990-12-13,00:10',\n",
       " '1990-12-13,00:20',\n",
       " '1990-12-13,00:30',\n",
       " '1990-12-13,00:40',\n",
       " '1990-12-13,00:50',\n",
       " '1990-12-13,01:00',\n",
       " '1990-12-13,01:10',\n",
       " '1990-12-13,01:20',\n",
       " '1990-12-13,01:30',\n",
       " '1990-12-13,01:40',\n",
       " '1990-12-13,01:50',\n",
       " '1990-12-13,02:00',\n",
       " '1990-12-13,02:10',\n",
       " '1990-12-13,02:20',\n",
       " '1990-12-13,02:30',\n",
       " '1990-12-13,02:40',\n",
       " '1990-12-13,02:50',\n",
       " '1990-12-13,03:00',\n",
       " '1990-12-13,03:10',\n",
       " '1990-12-13,03:20',\n",
       " '1990-12-13,03:30',\n",
       " '1990-12-13,03:40']"
      ]
     },
     "execution_count": 18,
     "metadata": {},
     "output_type": "execute_result"
    }
   ],
   "source": [
    "timestamps = [f'{final_date},{x}' for x in time_strings]\n",
    "timestamps"
   ]
  },
  {
   "cell_type": "code",
   "execution_count": 19,
   "id": "492d19f4",
   "metadata": {},
   "outputs": [],
   "source": [
    "import re\n",
    "\n",
    "assert len(timestamps) == len(time_strings)\n",
    "assert all(re.fullmatch(r\"\\d{4}-\\d{2}-\\d{2},\\d{2}:\\d{2}\", s) for s in timestamps)"
   ]
  },
  {
   "cell_type": "code",
   "execution_count": 20,
   "id": "c86361af",
   "metadata": {},
   "outputs": [
    {
     "data": {
      "text/plain": [
       "array([346, 347])"
      ]
     },
     "execution_count": 20,
     "metadata": {},
     "output_type": "execute_result"
    }
   ],
   "source": [
    "dataset.day.unique()"
   ]
  },
  {
   "cell_type": "code",
   "execution_count": 22,
   "id": "d67332bb",
   "metadata": {},
   "outputs": [
    {
     "data": {
      "text/plain": [
       "[346, 347]"
      ]
     },
     "execution_count": 22,
     "metadata": {},
     "output_type": "execute_result"
    }
   ],
   "source": [
    "unique_days = list(dataset.day.unique())\n",
    "unique_days"
   ]
  },
  {
   "cell_type": "code",
   "execution_count": 23,
   "id": "bacda3ed",
   "metadata": {},
   "outputs": [],
   "source": [
    "avg_temp = {\n",
    "    unique_days[0] : dataset[dataset.day==unique_days[0]].temp.mean(),\n",
    "    unique_days[1] : dataset[dataset.day==unique_days[1]].temp.mean()\n",
    "}"
   ]
  },
  {
   "cell_type": "code",
   "execution_count": 24,
   "id": "73c7e31a",
   "metadata": {},
   "outputs": [
    {
     "data": {
      "text/plain": [
       "{346: 36.869780219780196, 347: 36.832173913043476}"
      ]
     },
     "execution_count": 24,
     "metadata": {},
     "output_type": "execute_result"
    }
   ],
   "source": [
    "avg_temp"
   ]
  },
  {
   "cell_type": "code",
   "execution_count": 25,
   "id": "be486224",
   "metadata": {},
   "outputs": [],
   "source": [
    "assert unique_days == [346, 347]\n",
    "assert all(36.0 < avg_temp[d] < 37.0 for d in avg_temp)"
   ]
  },
  {
   "cell_type": "code",
   "execution_count": 26,
   "id": "5c08df5d",
   "metadata": {},
   "outputs": [],
   "source": [
    "seq = ''.join(str(x) for x in dataset.activ)"
   ]
  },
  {
   "cell_type": "code",
   "execution_count": 27,
   "id": "29461160",
   "metadata": {},
   "outputs": [
    {
     "data": {
      "text/plain": [
       "3"
      ]
     },
     "execution_count": 27,
     "metadata": {},
     "output_type": "execute_result"
    }
   ],
   "source": [
    "num = len(re.findall(r'10+1',seq))\n",
    "num"
   ]
  },
  {
   "cell_type": "code",
   "execution_count": 28,
   "id": "95c2e031",
   "metadata": {},
   "outputs": [],
   "source": [
    "assert all(c in {'0','1'} for c in seq)\n",
    "assert num == 3"
   ]
  },
  {
   "cell_type": "code",
   "execution_count": 29,
   "id": "5a089fe6",
   "metadata": {},
   "outputs": [
    {
     "data": {
      "text/plain": [
       "'000000000000000000000000000000000000000000000000000001000000000000010000000000010010010000000000000000000000000001'"
      ]
     },
     "execution_count": 29,
     "metadata": {},
     "output_type": "execute_result"
    }
   ],
   "source": [
    "seq"
   ]
  },
  {
   "cell_type": "code",
   "execution_count": 37,
   "id": "dcf0676c",
   "metadata": {},
   "outputs": [
    {
     "data": {
      "text/plain": [
       "1152991892946812929"
      ]
     },
     "execution_count": 37,
     "metadata": {},
     "output_type": "execute_result"
    }
   ],
   "source": [
    "num = 0;\n",
    "decimal = 0\n",
    "for i in seq:\n",
    "    num += 1\n",
    "    if (i =='1'):\n",
    "        decimal += 2**(len(seq)-num) \n",
    "decimal"
   ]
  },
  {
   "cell_type": "code",
   "execution_count": 38,
   "id": "8065df69",
   "metadata": {},
   "outputs": [],
   "source": [
    "assert decimal > 1000000000000000000"
   ]
  },
  {
   "cell_type": "code",
   "execution_count": null,
   "id": "7a5a19df",
   "metadata": {},
   "outputs": [],
   "source": []
  }
 ],
 "metadata": {
  "kernelspec": {
   "display_name": "Python 3",
   "language": "python",
   "name": "python3"
  },
  "language_info": {
   "codemirror_mode": {
    "name": "ipython",
    "version": 3
   },
   "file_extension": ".py",
   "mimetype": "text/x-python",
   "name": "python",
   "nbconvert_exporter": "python",
   "pygments_lexer": "ipython3",
   "version": "3.8.8"
  }
 },
 "nbformat": 4,
 "nbformat_minor": 5
}

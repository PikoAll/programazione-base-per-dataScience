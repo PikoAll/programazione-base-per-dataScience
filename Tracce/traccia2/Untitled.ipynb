{
 "cells": [
  {
   "cell_type": "code",
   "execution_count": 1,
   "id": "e9c34aec",
   "metadata": {},
   "outputs": [],
   "source": [
    "import csv\n",
    "dataset_lst = []\n",
    "with open('frets.csv','r') as f:\n",
    "    data = csv.reader(f)\n",
    "    for record in data:\n",
    "        dataset_lst.append(record)"
   ]
  },
  {
   "cell_type": "code",
   "execution_count": 2,
   "id": "07e73550",
   "metadata": {},
   "outputs": [
    {
     "data": {
      "text/plain": [
       "[['', 'l1', 'b1', 'l2', 'b2'],\n",
       " ['1', '191', '155', '179', '145'],\n",
       " ['2', '195', '149', '201', '152'],\n",
       " ['3', '181', '148', '185', '149'],\n",
       " ['4', '183', '153', '188', '149'],\n",
       " ['5', '176', '144', '171', '142'],\n",
       " ['6', '208', '157', '192', '152'],\n",
       " ['7', '189', '150', '190', '149'],\n",
       " ['8', '197', '159', '189', '152'],\n",
       " ['9', '188', '152', '197', '159'],\n",
       " ['10', '192', '150', '187', '151'],\n",
       " ['11', '179', '158', '186', '148'],\n",
       " ['12', '183', '147', '174', '147'],\n",
       " ['13', '174', '150', '185', '152'],\n",
       " ['14', '190', '159', '195', '157'],\n",
       " ['15', '188', '151', '187', '158'],\n",
       " ['16', '163', '137', '161', '130'],\n",
       " ['17', '195', '155', '183', '158'],\n",
       " ['18', '186', '153', '173', '148'],\n",
       " ['19', '181', '145', '182', '146'],\n",
       " ['20', '175', '140', '165', '137'],\n",
       " ['21', '192', '154', '185', '152'],\n",
       " ['22', '174', '143', '178', '147'],\n",
       " ['23', '176', '139', '176', '143'],\n",
       " ['24', '197', '167', '200', '158'],\n",
       " ['25', '190', '163', '187', '150']]"
      ]
     },
     "execution_count": 2,
     "metadata": {},
     "output_type": "execute_result"
    }
   ],
   "source": [
    "dataset_lst"
   ]
  },
  {
   "cell_type": "code",
   "execution_count": 3,
   "id": "d3101471",
   "metadata": {},
   "outputs": [],
   "source": [
    "assert len(dataset_lst) == 26\n",
    "assert len(dataset_lst[0]) == 5"
   ]
  },
  {
   "cell_type": "code",
   "execution_count": 4,
   "id": "ed217d45",
   "metadata": {},
   "outputs": [
    {
     "data": {
      "text/plain": [
       "[['1', '191', '155', '179', '145'],\n",
       " ['2', '195', '149', '201', '152'],\n",
       " ['3', '181', '148', '185', '149'],\n",
       " ['4', '183', '153', '188', '149'],\n",
       " ['5', '176', '144', '171', '142'],\n",
       " ['6', '208', '157', '192', '152'],\n",
       " ['7', '189', '150', '190', '149'],\n",
       " ['8', '197', '159', '189', '152'],\n",
       " ['9', '188', '152', '197', '159'],\n",
       " ['10', '192', '150', '187', '151'],\n",
       " ['11', '179', '158', '186', '148'],\n",
       " ['12', '183', '147', '174', '147'],\n",
       " ['13', '174', '150', '185', '152'],\n",
       " ['14', '190', '159', '195', '157'],\n",
       " ['15', '188', '151', '187', '158'],\n",
       " ['16', '163', '137', '161', '130'],\n",
       " ['17', '195', '155', '183', '158'],\n",
       " ['18', '186', '153', '173', '148'],\n",
       " ['19', '181', '145', '182', '146'],\n",
       " ['20', '175', '140', '165', '137'],\n",
       " ['21', '192', '154', '185', '152'],\n",
       " ['22', '174', '143', '178', '147'],\n",
       " ['23', '176', '139', '176', '143'],\n",
       " ['24', '197', '167', '200', '158'],\n",
       " ['25', '190', '163', '187', '150']]"
      ]
     },
     "execution_count": 4,
     "metadata": {},
     "output_type": "execute_result"
    }
   ],
   "source": [
    "dataset_lst[1:]"
   ]
  },
  {
   "cell_type": "code",
   "execution_count": null,
   "id": "e1f37726",
   "metadata": {},
   "outputs": [],
   "source": []
  },
  {
   "cell_type": "code",
   "execution_count": 5,
   "id": "9d95374c",
   "metadata": {},
   "outputs": [],
   "source": [
    "import numpy as np\n",
    "dataset_array = np.array([i[1:] for i in dataset_lst[1:]]).astype('int64')"
   ]
  },
  {
   "cell_type": "code",
   "execution_count": 6,
   "id": "52f13c4f",
   "metadata": {
    "scrolled": true
   },
   "outputs": [
    {
     "data": {
      "text/plain": [
       "array([[191, 155, 179, 145],\n",
       "       [195, 149, 201, 152],\n",
       "       [181, 148, 185, 149],\n",
       "       [183, 153, 188, 149],\n",
       "       [176, 144, 171, 142],\n",
       "       [208, 157, 192, 152],\n",
       "       [189, 150, 190, 149],\n",
       "       [197, 159, 189, 152],\n",
       "       [188, 152, 197, 159],\n",
       "       [192, 150, 187, 151],\n",
       "       [179, 158, 186, 148],\n",
       "       [183, 147, 174, 147],\n",
       "       [174, 150, 185, 152],\n",
       "       [190, 159, 195, 157],\n",
       "       [188, 151, 187, 158],\n",
       "       [163, 137, 161, 130],\n",
       "       [195, 155, 183, 158],\n",
       "       [186, 153, 173, 148],\n",
       "       [181, 145, 182, 146],\n",
       "       [175, 140, 165, 137],\n",
       "       [192, 154, 185, 152],\n",
       "       [174, 143, 178, 147],\n",
       "       [176, 139, 176, 143],\n",
       "       [197, 167, 200, 158],\n",
       "       [190, 163, 187, 150]])"
      ]
     },
     "execution_count": 6,
     "metadata": {},
     "output_type": "execute_result"
    }
   ],
   "source": [
    "dataset_array"
   ]
  },
  {
   "cell_type": "code",
   "execution_count": 7,
   "id": "628dc58f",
   "metadata": {},
   "outputs": [
    {
     "data": {
      "text/plain": [
       "(25, 4)"
      ]
     },
     "execution_count": 7,
     "metadata": {},
     "output_type": "execute_result"
    }
   ],
   "source": [
    "dataset_array.shape"
   ]
  },
  {
   "cell_type": "code",
   "execution_count": 8,
   "id": "9a049dd4",
   "metadata": {},
   "outputs": [],
   "source": [
    "assert dataset_array.shape == (25, 4)\n",
    "assert dataset_array.dtype == \"int64\""
   ]
  },
  {
   "cell_type": "code",
   "execution_count": 9,
   "id": "62d65b8e",
   "metadata": {},
   "outputs": [],
   "source": [
    "import math\n",
    "def ellipsis_area(a , b):\n",
    "    if a<0 or b<0:\n",
    "        raise ValueError('parametri negativi')\n",
    "    return math.pi*a*b"
   ]
  },
  {
   "cell_type": "code",
   "execution_count": 10,
   "id": "6da8832f",
   "metadata": {},
   "outputs": [],
   "source": [
    "assert abs(ellipsis_area(0,0)) < 1e-6\n",
    "assert abs(ellipsis_area(3,6)-18*3.142) < 1e-2\n",
    "assert abs(ellipsis_area(5,3)-ellipsis_area(3,5)) < 1e-6"
   ]
  },
  {
   "cell_type": "code",
   "execution_count": 11,
   "id": "a708fba8",
   "metadata": {},
   "outputs": [],
   "source": [
    "ovals = np.array([(ellipsis_area(i[0]/2,i[1]/2) , ellipsis_area(i[2]/2,i[3]/2)) for i in dataset_array])"
   ]
  },
  {
   "cell_type": "code",
   "execution_count": 12,
   "id": "945a02b2",
   "metadata": {},
   "outputs": [
    {
     "data": {
      "text/plain": [
       "(25, 2)"
      ]
     },
     "execution_count": 12,
     "metadata": {},
     "output_type": "execute_result"
    }
   ],
   "source": [
    "ovals.shape"
   ]
  },
  {
   "cell_type": "code",
   "execution_count": 13,
   "id": "ee6dab07",
   "metadata": {},
   "outputs": [],
   "source": [
    "assert ovals.shape == (25,2)\n",
    "assert ovals.dtype == 'float64'"
   ]
  },
  {
   "cell_type": "code",
   "execution_count": 14,
   "id": "c376129a",
   "metadata": {},
   "outputs": [],
   "source": [
    "assert ovals.min() > 16000\n",
    "assert ovals.max() < 26000"
   ]
  },
  {
   "cell_type": "code",
   "execution_count": 15,
   "id": "c8b75153",
   "metadata": {},
   "outputs": [],
   "source": [
    "ovals_means = np.mean(ovals, axis=0)\n",
    "ovals_residuals = ovals - ovals_means"
   ]
  },
  {
   "cell_type": "code",
   "execution_count": 16,
   "id": "e40e863e",
   "metadata": {},
   "outputs": [],
   "source": [
    "assert ovals_means.shape == (2,)\n",
    "assert abs(ovals_residuals.sum()) < 1e-6"
   ]
  },
  {
   "cell_type": "code",
   "execution_count": 17,
   "id": "34deb701",
   "metadata": {},
   "outputs": [
    {
     "data": {
      "text/plain": [
       "array([[ 1168.86096269, -1206.02600379],\n",
       "       [  736.89197283,  2404.44935335],\n",
       "       [-1043.6056636 ,    58.46503928],\n",
       "       [  -92.48848772,   409.53801832],\n",
       "       [-2177.72061154, -2519.99713115],\n",
       "       [ 3565.11075922,  1330.02466582],\n",
       "       [  183.18626763,   643.58667101],\n",
       "       [ 2518.17500741,   971.88310331],\n",
       "       [  360.68625256,  3009.99133733],\n",
       "       [  536.61544116,   586.25260509],\n",
       "       [  129.77919252,    29.40530724],\n",
       "       [ -954.85567113, -1502.12111139],\n",
       "       [-1583.95960001,   494.36101997],\n",
       "       [ 1644.02685155,  2453.92943765],\n",
       "       [  213.03139784,  1614.33880097],\n",
       "       [-4544.12527786, -5152.65177486],\n",
       "       [ 1655.807824  ,  1117.96716171],\n",
       "       [  268.00926928, -1481.70075914],\n",
       "       [-1470.07686632,  -721.43533697],\n",
       "       [-2840.59666145, -3837.10985117],\n",
       "       [ 1139.80123065,   494.36101997],\n",
       "       [-2540.57456303, -1040.30699131],\n",
       "       [-2868.87099533, -1824.13435838],\n",
       "       [ 3755.96251293,  3227.54662859],\n",
       "       [ 2240.92945573,   439.38314853]])"
      ]
     },
     "execution_count": 17,
     "metadata": {},
     "output_type": "execute_result"
    }
   ],
   "source": [
    "ovals_residuals"
   ]
  },
  {
   "cell_type": "code",
   "execution_count": 29,
   "id": "7c766f35",
   "metadata": {},
   "outputs": [
    {
     "data": {
      "text/plain": [
       "<zip at 0x7f8950b75b80>"
      ]
     },
     "execution_count": 29,
     "metadata": {},
     "output_type": "execute_result"
    }
   ],
   "source": [
    "ovals_pairs = zip(ovals_residuals[:,0],ovals_residuals[:,1])\n",
    "ovals_pairs"
   ]
  },
  {
   "cell_type": "code",
   "execution_count": 19,
   "id": "5aee288c",
   "metadata": {},
   "outputs": [],
   "source": [
    "assert isinstance(ovals_pairs, zip)"
   ]
  },
  {
   "cell_type": "code",
   "execution_count": 27,
   "id": "6b36abc6",
   "metadata": {},
   "outputs": [
    {
     "name": "stdout",
     "output_type": "stream",
     "text": [
      "1168.86096269462\n",
      "736.8919728260225\n",
      "-1043.605663595994\n",
      "-92.48848772168276\n",
      "-2177.7206115419103\n",
      "3565.110759220235\n",
      "183.18626763082284\n",
      "2518.1750074114316\n",
      "360.68625255864754\n",
      "536.6154411596726\n",
      "129.7791925197962\n",
      "-954.8556711320816\n",
      "-1583.959600013437\n",
      "1644.0268515500757\n",
      "213.03139783992447\n",
      "-4544.12527785842\n",
      "1655.8078240010364\n",
      "268.00926927774344\n",
      "-1470.0768663208073\n",
      "-2840.5966614493555\n",
      "1139.8012306489145\n",
      "-2540.5745630315323\n",
      "-2868.8709953316647\n",
      "3755.962512925813\n",
      "2240.9294557321373\n"
     ]
    }
   ],
   "source": [
    "for i in ovals_pairs:\n",
    "    print(i[0])"
   ]
  },
  {
   "cell_type": "code",
   "execution_count": 30,
   "id": "d02d81bd",
   "metadata": {},
   "outputs": [
    {
     "data": {
      "text/plain": [
       "[True,\n",
       " False,\n",
       " True,\n",
       " True,\n",
       " False,\n",
       " False,\n",
       " False,\n",
       " False,\n",
       " False,\n",
       " False,\n",
       " False,\n",
       " False,\n",
       " True,\n",
       " False,\n",
       " False,\n",
       " False,\n",
       " False,\n",
       " True,\n",
       " False,\n",
       " False,\n",
       " False,\n",
       " False,\n",
       " False,\n",
       " False,\n",
       " False]"
      ]
     },
     "execution_count": 30,
     "metadata": {},
     "output_type": "execute_result"
    }
   ],
   "source": [
    "ovals_diffs= [False if ((i[0]>0 and i[1]>0)or(i[0]<0 and i[1]<0)) else True for i in ovals_pairs ]\n",
    "ovals_diffs"
   ]
  },
  {
   "cell_type": "code",
   "execution_count": 31,
   "id": "cee30f5e",
   "metadata": {},
   "outputs": [],
   "source": [
    "assert len(ovals_diffs) == 25\n",
    "assert ovals_diffs[0] and not ovals_diffs[1]"
   ]
  },
  {
   "cell_type": "code",
   "execution_count": 36,
   "id": "2e6b6ae3",
   "metadata": {},
   "outputs": [],
   "source": [
    "chain = \":\".join(str(i) for j in dataset_array for i in j)"
   ]
  },
  {
   "cell_type": "code",
   "execution_count": 37,
   "id": "09ee99db",
   "metadata": {},
   "outputs": [
    {
     "data": {
      "text/plain": [
       "'191:155:179:145:195:149:201:152:181:148:185:149:183:153:188:149:176:144:171:142:208:157:192:152:189:150:190:149:197:159:189:152:188:152:197:159:192:150:187:151:179:158:186:148:183:147:174:147:174:150:185:152:190:159:195:157:188:151:187:158:163:137:161:130:195:155:183:158:186:153:173:148:181:145:182:146:175:140:165:137:192:154:185:152:174:143:178:147:176:139:176:143:197:167:200:158:190:163:187:150'"
      ]
     },
     "execution_count": 37,
     "metadata": {},
     "output_type": "execute_result"
    }
   ],
   "source": [
    "chain"
   ]
  },
  {
   "cell_type": "code",
   "execution_count": 40,
   "id": "f0c4be01",
   "metadata": {},
   "outputs": [],
   "source": [
    "import re\n",
    "\n",
    "substr = re.findall(r'55\\d+88',chain)"
   ]
  },
  {
   "cell_type": "code",
   "execution_count": 41,
   "id": "cdf6d9f0",
   "metadata": {},
   "outputs": [
    {
     "data": {
      "text/plain": [
       "[]"
      ]
     },
     "execution_count": 41,
     "metadata": {},
     "output_type": "execute_result"
    }
   ],
   "source": [
    "substr"
   ]
  },
  {
   "cell_type": "code",
   "execution_count": null,
   "id": "efa9eedc",
   "metadata": {},
   "outputs": [],
   "source": []
  }
 ],
 "metadata": {
  "kernelspec": {
   "display_name": "Python 3",
   "language": "python",
   "name": "python3"
  },
  "language_info": {
   "codemirror_mode": {
    "name": "ipython",
    "version": 3
   },
   "file_extension": ".py",
   "mimetype": "text/x-python",
   "name": "python",
   "nbconvert_exporter": "python",
   "pygments_lexer": "ipython3",
   "version": "3.8.8"
  }
 },
 "nbformat": 4,
 "nbformat_minor": 5
}

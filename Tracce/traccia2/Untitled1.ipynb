{
 "cells": [
  {
   "cell_type": "code",
   "execution_count": 1,
   "id": "49bf2f0a",
   "metadata": {},
   "outputs": [
    {
     "data": {
      "text/plain": [
       "[['', 'l1', 'b1', 'l2', 'b2'],\n",
       " ['1', '191', '155', '179', '145'],\n",
       " ['2', '195', '149', '201', '152'],\n",
       " ['3', '181', '148', '185', '149'],\n",
       " ['4', '183', '153', '188', '149'],\n",
       " ['5', '176', '144', '171', '142'],\n",
       " ['6', '208', '157', '192', '152'],\n",
       " ['7', '189', '150', '190', '149'],\n",
       " ['8', '197', '159', '189', '152'],\n",
       " ['9', '188', '152', '197', '159'],\n",
       " ['10', '192', '150', '187', '151'],\n",
       " ['11', '179', '158', '186', '148'],\n",
       " ['12', '183', '147', '174', '147'],\n",
       " ['13', '174', '150', '185', '152'],\n",
       " ['14', '190', '159', '195', '157'],\n",
       " ['15', '188', '151', '187', '158'],\n",
       " ['16', '163', '137', '161', '130'],\n",
       " ['17', '195', '155', '183', '158'],\n",
       " ['18', '186', '153', '173', '148'],\n",
       " ['19', '181', '145', '182', '146'],\n",
       " ['20', '175', '140', '165', '137'],\n",
       " ['21', '192', '154', '185', '152'],\n",
       " ['22', '174', '143', '178', '147'],\n",
       " ['23', '176', '139', '176', '143'],\n",
       " ['24', '197', '167', '200', '158'],\n",
       " ['25', '190', '163', '187', '150']]"
      ]
     },
     "execution_count": 1,
     "metadata": {},
     "output_type": "execute_result"
    }
   ],
   "source": [
    "import csv\n",
    "dataset_lst = []\n",
    "with open('frets.csv','r') as f:\n",
    "    data = csv.reader(f)\n",
    "    \n",
    "    for record in data:\n",
    "        dataset_lst.append(record)\n",
    "dataset_lst"
   ]
  },
  {
   "cell_type": "code",
   "execution_count": 2,
   "id": "f67e3f4a",
   "metadata": {},
   "outputs": [],
   "source": [
    "assert len(dataset_lst) == 26\n",
    "assert len(dataset_lst[0]) == 5"
   ]
  },
  {
   "cell_type": "code",
   "execution_count": 34,
   "id": "63c834dd",
   "metadata": {},
   "outputs": [
    {
     "data": {
      "text/plain": [
       "array([[191, 155, 179, 145],\n",
       "       [195, 149, 201, 152],\n",
       "       [181, 148, 185, 149],\n",
       "       [183, 153, 188, 149],\n",
       "       [176, 144, 171, 142],\n",
       "       [208, 157, 192, 152],\n",
       "       [189, 150, 190, 149],\n",
       "       [197, 159, 189, 152],\n",
       "       [188, 152, 197, 159],\n",
       "       [192, 150, 187, 151],\n",
       "       [179, 158, 186, 148],\n",
       "       [183, 147, 174, 147],\n",
       "       [174, 150, 185, 152],\n",
       "       [190, 159, 195, 157],\n",
       "       [188, 151, 187, 158],\n",
       "       [163, 137, 161, 130],\n",
       "       [195, 155, 183, 158],\n",
       "       [186, 153, 173, 148],\n",
       "       [181, 145, 182, 146],\n",
       "       [175, 140, 165, 137],\n",
       "       [192, 154, 185, 152],\n",
       "       [174, 143, 178, 147],\n",
       "       [176, 139, 176, 143],\n",
       "       [197, 167, 200, 158],\n",
       "       [190, 163, 187, 150]])"
      ]
     },
     "execution_count": 34,
     "metadata": {},
     "output_type": "execute_result"
    }
   ],
   "source": [
    "import numpy as np\n",
    "\n",
    "dataset_array = np.array(list(dataset_lst)[1:], dtype='int64')[:,1:]\n",
    "dataset_array"
   ]
  },
  {
   "cell_type": "code",
   "execution_count": 35,
   "id": "09e433a9",
   "metadata": {},
   "outputs": [],
   "source": [
    "assert dataset_array.shape == (25, 4)\n",
    "assert dataset_array.dtype == \"int64\""
   ]
  },
  {
   "cell_type": "code",
   "execution_count": 36,
   "id": "35dea364",
   "metadata": {},
   "outputs": [],
   "source": [
    "import math\n",
    "\n",
    "def ellipsis_area(a , b):\n",
    "    return math.pi*a*b"
   ]
  },
  {
   "cell_type": "code",
   "execution_count": 37,
   "id": "8353e7dc",
   "metadata": {},
   "outputs": [
    {
     "name": "stdout",
     "output_type": "stream",
     "text": [
      "3.141592653589793\n",
      "6.283185307179586\n",
      "6.283185307179586\n",
      "12.566370614359172\n"
     ]
    }
   ],
   "source": [
    "print(ellipsis_area(1 , 1))\n",
    "print(ellipsis_area(2 , 1))\n",
    "print(ellipsis_area(1 , 2))\n",
    "print(ellipsis_area(2 , 2))"
   ]
  },
  {
   "cell_type": "code",
   "execution_count": 38,
   "id": "c8476995",
   "metadata": {},
   "outputs": [],
   "source": [
    "assert abs(ellipsis_area(0,0)) < 1e-6\n",
    "assert abs(ellipsis_area(3,6)-18*3.142) < 1e-2\n",
    "assert abs(ellipsis_area(5,3)-ellipsis_area(3,5)) < 1e-6"
   ]
  },
  {
   "cell_type": "code",
   "execution_count": 54,
   "id": "1950d249",
   "metadata": {},
   "outputs": [
    {
     "data": {
      "text/plain": [
       "25"
      ]
     },
     "execution_count": 54,
     "metadata": {},
     "output_type": "execute_result"
    }
   ],
   "source": [
    "ovals = np.array([(ellipsis_area(i[0]/2,i[1]/2),ellipsis_area(i[2]/2,i[3]/2)) for i in dataset_array])\n",
    "len(ovals)"
   ]
  },
  {
   "cell_type": "code",
   "execution_count": 55,
   "id": "9e04d5c4",
   "metadata": {},
   "outputs": [],
   "source": [
    "assert ovals.shape == (25,2)\n",
    "assert ovals.dtype == 'float64'\n",
    "assert ovals.min() > 16000\n",
    "assert ovals.max() < 26000"
   ]
  },
  {
   "cell_type": "code",
   "execution_count": 58,
   "id": "c68df7b4",
   "metadata": {},
   "outputs": [
    {
     "name": "stdout",
     "output_type": "stream",
     "text": [
      "[22082.85166469 21591.03533477]\n",
      "[[ 1168.86096269 -1206.02600379]\n",
      " [  736.89197283  2404.44935335]\n",
      " [-1043.6056636     58.46503928]\n",
      " [  -92.48848772   409.53801832]\n",
      " [-2177.72061154 -2519.99713115]\n",
      " [ 3565.11075922  1330.02466582]\n",
      " [  183.18626763   643.58667101]\n",
      " [ 2518.17500741   971.88310331]\n",
      " [  360.68625256  3009.99133733]\n",
      " [  536.61544116   586.25260509]\n",
      " [  129.77919252    29.40530724]\n",
      " [ -954.85567113 -1502.12111139]\n",
      " [-1583.95960001   494.36101997]\n",
      " [ 1644.02685155  2453.92943765]\n",
      " [  213.03139784  1614.33880097]\n",
      " [-4544.12527786 -5152.65177486]\n",
      " [ 1655.807824    1117.96716171]\n",
      " [  268.00926928 -1481.70075914]\n",
      " [-1470.07686632  -721.43533697]\n",
      " [-2840.59666145 -3837.10985117]\n",
      " [ 1139.80123065   494.36101997]\n",
      " [-2540.57456303 -1040.30699131]\n",
      " [-2868.87099533 -1824.13435838]\n",
      " [ 3755.96251293  3227.54662859]\n",
      " [ 2240.92945573   439.38314853]]\n"
     ]
    }
   ],
   "source": [
    "ovals_means = np.mean(ovals,axis=0)\n",
    "ovals_residuals = ovals - ovals_means\n",
    "\n",
    "print(ovals_means)\n",
    "print(ovals_residuals)"
   ]
  },
  {
   "cell_type": "code",
   "execution_count": 59,
   "id": "af0c7d39",
   "metadata": {},
   "outputs": [],
   "source": [
    "assert ovals_means.shape == (2,)\n",
    "assert abs(ovals_residuals.sum()) < 1e-6"
   ]
  },
  {
   "cell_type": "code",
   "execution_count": 77,
   "id": "5d230f61",
   "metadata": {},
   "outputs": [],
   "source": [
    "ovals_pairs = zip(ovals_residuals[:,0],ovals_residuals[:,1])\n",
    "#list(ovals_residuals)"
   ]
  },
  {
   "cell_type": "code",
   "execution_count": 63,
   "id": "6b112951",
   "metadata": {},
   "outputs": [],
   "source": [
    "assert isinstance(ovals_pairs, zip)"
   ]
  },
  {
   "cell_type": "code",
   "execution_count": 78,
   "id": "1757d749",
   "metadata": {},
   "outputs": [
    {
     "data": {
      "text/plain": [
       "[True,\n",
       " False,\n",
       " True,\n",
       " True,\n",
       " False,\n",
       " False,\n",
       " False,\n",
       " False,\n",
       " False,\n",
       " False,\n",
       " False,\n",
       " False,\n",
       " True,\n",
       " False,\n",
       " False,\n",
       " False,\n",
       " False,\n",
       " True,\n",
       " False,\n",
       " False,\n",
       " False,\n",
       " False,\n",
       " False,\n",
       " False,\n",
       " False]"
      ]
     },
     "execution_count": 78,
     "metadata": {},
     "output_type": "execute_result"
    }
   ],
   "source": [
    "ovals_diffs = [True if (a>0 and b<0) or (a<0 and b>0) else False for a,b in ovals_pairs]\n",
    "ovals_diffs"
   ]
  },
  {
   "cell_type": "code",
   "execution_count": 79,
   "id": "21418807",
   "metadata": {},
   "outputs": [],
   "source": [
    "assert len(ovals_diffs) == 25\n",
    "assert ovals_diffs[0] and not ovals_diffs[1]"
   ]
  },
  {
   "cell_type": "code",
   "execution_count": null,
   "id": "f0389bde",
   "metadata": {},
   "outputs": [],
   "source": []
  }
 ],
 "metadata": {
  "kernelspec": {
   "display_name": "Python 3",
   "language": "python",
   "name": "python3"
  },
  "language_info": {
   "codemirror_mode": {
    "name": "ipython",
    "version": 3
   },
   "file_extension": ".py",
   "mimetype": "text/x-python",
   "name": "python",
   "nbconvert_exporter": "python",
   "pygments_lexer": "ipython3",
   "version": "3.8.8"
  }
 },
 "nbformat": 4,
 "nbformat_minor": 5
}

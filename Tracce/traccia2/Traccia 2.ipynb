{
 "cells": [
  {
   "cell_type": "markdown",
   "metadata": {},
   "source": [
    "# Prova di esame (laboratorio) \n",
    "\n",
    "La prova consiste in un insieme di quiz proposti attraverso un Jupyter Notebook (non sono ammessi altri strumenti software) da svolgere sui computer del laboratorio (non sono ammessi altri strumenti hardware). Durante la prova si può consultare il libro di testo, le slide usate a lezione, un manuale python (approvato dal docente) oppure le guide in linea suggerite da Jupyter Notebook. Non sono ammessi altri strumenti di consultazione. "
   ]
  },
  {
   "cell_type": "markdown",
   "metadata": {},
   "source": [
    "### Prima della prova\n",
    "\n",
    "Specificare la informazioni richieste nelle celle sottostanti e salvare il notebook con il proprio nome.\n",
    "\n",
    "### Durante la prova\n",
    "\n",
    "Nelle celle markdown, cancellare il testo \"YOUR ANSWER HERE\" con la propria risposta. Nelle celle codice, rimuovere la linea di codice\n",
    "```python\n",
    "raise NotImplementedError()\n",
    "```\n",
    "e sostituirla con la propria implementazione.\n",
    "Dopo ogni cella codice che deve contenere la risposta al quesito, esiste una cella codice con delle *asserzioni*, ossia delle istruzioni che verificano la correttezza della propria soluzione. (Queste asserzioni saranno usate per valutare la correttezza della risposta data e assegnare un punteggio.) E' possibile eseguire queste celle per verificare che la soluzione proposta sia corretta.\n"
   ]
  },
  {
   "cell_type": "markdown",
   "metadata": {},
   "source": [
    "## Traccia"
   ]
  },
  {
   "cell_type": "markdown",
   "metadata": {},
   "source": [
    "### Dimensioni della testa tra fratelli\n",
    "\n",
    "#### Descrizione\n",
    "Il dataset frets.csv ha 25 righe e 4 colonne, più una riga di intestazione e una colonna indice\n",
    "\n",
    "I dati consistono in misurazioni della lunghezza e della larghezza dei capi di coppie di fratelli adulti in 25 famiglie campionate a caso. Tutte le misure sono espresse in millimetri.\n",
    "\n",
    "#### Formato\n",
    "Questo dataset contiene le seguenti colonne:\n",
    "\n",
    "- l1: La lunghezza della testa del figlio maggiore.\n",
    "- b1: La larghezza della testa del figlio maggiore.\n",
    "- l2: La lunghezza della testa del secondo figlio.\n",
    "- b2: La larghezza della testa del secondo figlio."
   ]
  },
  {
   "cell_type": "markdown",
   "metadata": {},
   "source": [
    "### Caricamento dati \n",
    "\n",
    "Utilizzando il modulo `csv` della libreria standard, caricare il dataset in una lista denominata `dataset_lst` che contiene tanti elementi quante sono i record del file csv, e ciascun elemento della lista corrisponde alla lista dei campi del record corrispondente. (Includere anche l'intestazione e la colonna indice.)"
   ]
  },
  {
   "cell_type": "code",
   "execution_count": 1,
   "metadata": {},
   "outputs": [
    {
     "data": {
      "text/plain": [
       "[['', 'l1', 'b1', 'l2', 'b2'],\n",
       " ['1', '191', '155', '179', '145'],\n",
       " ['2', '195', '149', '201', '152'],\n",
       " ['3', '181', '148', '185', '149'],\n",
       " ['4', '183', '153', '188', '149'],\n",
       " ['5', '176', '144', '171', '142'],\n",
       " ['6', '208', '157', '192', '152'],\n",
       " ['7', '189', '150', '190', '149'],\n",
       " ['8', '197', '159', '189', '152'],\n",
       " ['9', '188', '152', '197', '159'],\n",
       " ['10', '192', '150', '187', '151'],\n",
       " ['11', '179', '158', '186', '148'],\n",
       " ['12', '183', '147', '174', '147'],\n",
       " ['13', '174', '150', '185', '152'],\n",
       " ['14', '190', '159', '195', '157'],\n",
       " ['15', '188', '151', '187', '158'],\n",
       " ['16', '163', '137', '161', '130'],\n",
       " ['17', '195', '155', '183', '158'],\n",
       " ['18', '186', '153', '173', '148'],\n",
       " ['19', '181', '145', '182', '146'],\n",
       " ['20', '175', '140', '165', '137'],\n",
       " ['21', '192', '154', '185', '152'],\n",
       " ['22', '174', '143', '178', '147'],\n",
       " ['23', '176', '139', '176', '143'],\n",
       " ['24', '197', '167', '200', '158'],\n",
       " ['25', '190', '163', '187', '150']]"
      ]
     },
     "execution_count": 1,
     "metadata": {},
     "output_type": "execute_result"
    }
   ],
   "source": [
    "import csv \n",
    "\n",
    "with open('frets.csv') as frets:\n",
    "    dataset_lst = list(csv.reader(frets))\n",
    "    \n",
    "dataset_lst"
   ]
  },
  {
   "cell_type": "code",
   "execution_count": 30,
   "metadata": {},
   "outputs": [],
   "source": [
    "assert len(dataset_lst) == 26\n",
    "assert len(dataset_lst[0]) == 5"
   ]
  },
  {
   "cell_type": "markdown",
   "metadata": {},
   "source": [
    "### Array bidimensionale \n",
    "\n",
    "Definire un array numpy di nome `dataset_array` di due dimensioni, in cui ciascuna riga contiene un record del dataset (esclusa l'intestazione) e ciascuna colonna corrisponde a uno dei 4 campi del dataset (esclusa la colonna indice). Ciascun elemento dell'array conterrà il valore *intero* corrispondente nel dataset. "
   ]
  },
  {
   "cell_type": "code",
   "execution_count": 3,
   "metadata": {},
   "outputs": [
    {
     "name": "stdout",
     "output_type": "stream",
     "text": [
      "[[191 155 179 145]\n",
      " [195 149 201 152]\n",
      " [181 148 185 149]\n",
      " [183 153 188 149]\n",
      " [176 144 171 142]\n",
      " [208 157 192 152]\n",
      " [189 150 190 149]\n",
      " [197 159 189 152]\n",
      " [188 152 197 159]\n",
      " [192 150 187 151]\n",
      " [179 158 186 148]\n",
      " [183 147 174 147]\n",
      " [174 150 185 152]\n",
      " [190 159 195 157]\n",
      " [188 151 187 158]\n",
      " [163 137 161 130]\n",
      " [195 155 183 158]\n",
      " [186 153 173 148]\n",
      " [181 145 182 146]\n",
      " [175 140 165 137]\n",
      " [192 154 185 152]\n",
      " [174 143 178 147]\n",
      " [176 139 176 143]\n",
      " [197 167 200 158]\n",
      " [190 163 187 150]]\n"
     ]
    }
   ],
   "source": [
    "import numpy as np\n",
    "\n",
    "dataset_array = np.array(dataset_lst)[1 : , 1 :].astype('int64')\n",
    "\n",
    "print(dataset_array)"
   ]
  },
  {
   "cell_type": "code",
   "execution_count": 4,
   "metadata": {},
   "outputs": [],
   "source": [
    "assert dataset_array.shape == (25, 4)\n",
    "assert dataset_array.dtype == \"int64\""
   ]
  },
  {
   "cell_type": "markdown",
   "metadata": {},
   "source": [
    "### Area di un'ellisse \n",
    "\n",
    "1. Dal modulo `math` importare la costante `pi` (corrisponde al valore π);\n",
    "2. Definire la funzione `ellipsis_area(a , b)` che calcola l'area di un'ellisse con raggi `a` e `b` secondo la formula $$A=\\pi \\cdot a \\cdot b$$ \n",
    "\n",
    "3. Se almeno uno dei parametri della funzione sono negativi, la funzione solleva l'eccezione `ValueError` con un messaggio di errore "
   ]
  },
  {
   "cell_type": "code",
   "execution_count": 8,
   "metadata": {},
   "outputs": [
    {
     "name": "stdout",
     "output_type": "stream",
     "text": [
      "3.141592653589793\n",
      "6.283185307179586\n",
      "6.283185307179586\n",
      "12.566370614359172\n"
     ]
    }
   ],
   "source": [
    "from math import pi\n",
    "\n",
    "def ellipsis_area(a , b):\n",
    "    \n",
    "    if a < 0 or b < 0:\n",
    "        raise ValueError('I due parametri non possono essere minori di 0')\n",
    "        \n",
    "    return pi * a * b\n",
    "\n",
    "\n",
    "print(ellipsis_area(1 , 1))\n",
    "print(ellipsis_area(2 , 1))\n",
    "print(ellipsis_area(1 , 2))\n",
    "print(ellipsis_area(2 , 2))"
   ]
  },
  {
   "cell_type": "code",
   "execution_count": 9,
   "metadata": {},
   "outputs": [],
   "source": [
    "assert abs(ellipsis_area(0,0)) < 1e-6\n",
    "assert abs(ellipsis_area(3,6)-18*3.142) < 1e-2\n",
    "assert abs(ellipsis_area(5,3)-ellipsis_area(3,5)) < 1e-6"
   ]
  },
  {
   "cell_type": "markdown",
   "metadata": {},
   "source": [
    "### Array di ovali \n",
    "\n",
    "Definire un array numpy bidimensionale di nome `ovals` con lo stesso numero di righe di `dataset_array` e due colonne. La prima colonna conterrà l'area dell'ellisse i cui *diametri* (attenzione a non confondere raggi e diametri!) corrispondono alle colonne `l1` e `b1`, la seconda colonna conterrà l'area dell'ellisse i cui diametri corrispondono alle colonne `l2` e `b2`. Utilizzare i dati presenti in `dataset_array` *senza usare cicli `for`*. Potete utilizzare direttamente la formula per il calcolo dell'area di un'ellisse senza utilizzare la funzione `ellipsis_area`."
   ]
  },
  {
   "cell_type": "code",
   "execution_count": 10,
   "metadata": {},
   "outputs": [
    {
     "name": "stdout",
     "output_type": "stream",
     "text": [
      "[[191 155 179 145]\n",
      " [195 149 201 152]\n",
      " [181 148 185 149]\n",
      " [183 153 188 149]\n",
      " [176 144 171 142]\n",
      " [208 157 192 152]\n",
      " [189 150 190 149]\n",
      " [197 159 189 152]\n",
      " [188 152 197 159]\n",
      " [192 150 187 151]\n",
      " [179 158 186 148]\n",
      " [183 147 174 147]\n",
      " [174 150 185 152]\n",
      " [190 159 195 157]\n",
      " [188 151 187 158]\n",
      " [163 137 161 130]\n",
      " [195 155 183 158]\n",
      " [186 153 173 148]\n",
      " [181 145 182 146]\n",
      " [175 140 165 137]\n",
      " [192 154 185 152]\n",
      " [174 143 178 147]\n",
      " [176 139 176 143]\n",
      " [197 167 200 158]\n",
      " [190 163 187 150]]\n"
     ]
    }
   ],
   "source": [
    "ovals = np.array(\n",
    "    [(ellipsis_area(elem[0] / 2 , elem[1] / 2) , ellipsis_area(elem[2] / 2 , elem[3] / 2)) for elem in dataset_array]\n",
    ")\n",
    "\n",
    "print(dataset_array)"
   ]
  },
  {
   "cell_type": "code",
   "execution_count": 11,
   "metadata": {},
   "outputs": [],
   "source": [
    "assert ovals.shape == (25,2)\n",
    "assert ovals.dtype == 'float64'"
   ]
  },
  {
   "cell_type": "code",
   "execution_count": 12,
   "metadata": {},
   "outputs": [],
   "source": [
    "assert ovals.min() > 16000\n",
    "assert ovals.max() < 26000"
   ]
  },
  {
   "cell_type": "markdown",
   "metadata": {},
   "source": [
    "### Medie \n",
    "\n",
    "- *Utilizzando le universal functions (ufuncs)* calcolare la media sulle colonne di `ovals` e memorizzare il risultato in `ovals_means`. (Consultate la documentazione ufficiale di numpy per trovare la funzione corretta.)\n",
    "- *utilizzando il broadcasting* sottrarre a ciascun elemento di `ovals` la media di colonna corrispondente e memorizzare il risultato in `ovals_residuals`."
   ]
  },
  {
   "cell_type": "code",
   "execution_count": 13,
   "metadata": {},
   "outputs": [
    {
     "name": "stdout",
     "output_type": "stream",
     "text": [
      "[22082.85166469 21591.03533477]\n",
      "[[ 1168.86096269 -1206.02600379]\n",
      " [  736.89197283  2404.44935335]\n",
      " [-1043.6056636     58.46503928]\n",
      " [  -92.48848772   409.53801832]\n",
      " [-2177.72061154 -2519.99713115]\n",
      " [ 3565.11075922  1330.02466582]\n",
      " [  183.18626763   643.58667101]\n",
      " [ 2518.17500741   971.88310331]\n",
      " [  360.68625256  3009.99133733]\n",
      " [  536.61544116   586.25260509]\n",
      " [  129.77919252    29.40530724]\n",
      " [ -954.85567113 -1502.12111139]\n",
      " [-1583.95960001   494.36101997]\n",
      " [ 1644.02685155  2453.92943765]\n",
      " [  213.03139784  1614.33880097]\n",
      " [-4544.12527786 -5152.65177486]\n",
      " [ 1655.807824    1117.96716171]\n",
      " [  268.00926928 -1481.70075914]\n",
      " [-1470.07686632  -721.43533697]\n",
      " [-2840.59666145 -3837.10985117]\n",
      " [ 1139.80123065   494.36101997]\n",
      " [-2540.57456303 -1040.30699131]\n",
      " [-2868.87099533 -1824.13435838]\n",
      " [ 3755.96251293  3227.54662859]\n",
      " [ 2240.92945573   439.38314853]]\n"
     ]
    }
   ],
   "source": [
    "ovals_means = np.mean(ovals , axis = 0)\n",
    "ovals_residuals = ovals - ovals_means\n",
    "\n",
    "print(ovals_means)\n",
    "print(ovals_residuals)"
   ]
  },
  {
   "cell_type": "code",
   "execution_count": 14,
   "metadata": {},
   "outputs": [],
   "source": [
    "assert ovals_means.shape == (2,)\n",
    "assert abs(ovals_residuals.sum()) < 1e-6"
   ]
  },
  {
   "cell_type": "markdown",
   "metadata": {},
   "source": [
    "### Zip \n",
    "\n",
    "Definire un oggetto zip di nome `ovals_pairs` che rappresenta la sequenza di coppie (o1, o2) essendo o1 e o2 elementi della stessa riga di `ovals_residuals`.\n",
    "\n",
    "(Suggerimento: `ovals_pairs` è un generatore, pertanto è conveniente eseguire ogni volta la cella che lo definisce quando si vogliono testare le celle che lo utilizzano) "
   ]
  },
  {
   "cell_type": "code",
   "execution_count": 15,
   "metadata": {},
   "outputs": [],
   "source": [
    "ovals_pairs = zip(ovals_residuals[: , 0] , ovals_residuals[: , 1])"
   ]
  },
  {
   "cell_type": "code",
   "execution_count": 16,
   "metadata": {},
   "outputs": [],
   "source": [
    "assert isinstance(ovals_pairs, zip)"
   ]
  },
  {
   "cell_type": "markdown",
   "metadata": {},
   "source": [
    "### Visi diversi \n",
    "\n",
    "*Utilizzando le comprensioni di lista*, definire la lista `ovals_diffs` di valori Booleani, tali che un elemento della lista è True se i valori della corrispondente coppia di `ovals_pairs` hanno segno opposto (p.e. la coopia (2,-3) oppure (-3,2) corrisponde a True; la coppia (2,3) oppure (-2,-3) corrisponde a False)"
   ]
  },
  {
   "cell_type": "code",
   "execution_count": 17,
   "metadata": {},
   "outputs": [
    {
     "name": "stdout",
     "output_type": "stream",
     "text": [
      "[True, False, True, True, False, False, False, False, False, False, False, False, True, False, False, False, False, True, False, False, False, False, False, False, False]\n"
     ]
    }
   ],
   "source": [
    "ovals_diffs = [np.product(elem) < 0 for elem in ovals_pairs]\n",
    "\n",
    "print(ovals_diffs)"
   ]
  },
  {
   "cell_type": "code",
   "execution_count": 18,
   "metadata": {},
   "outputs": [],
   "source": [
    "assert len(ovals_diffs) == 25\n",
    "assert ovals_diffs[0] and not ovals_diffs[1]"
   ]
  },
  {
   "cell_type": "markdown",
   "metadata": {},
   "source": [
    "### Conversione in stringa \n",
    "\n",
    "A partire dall'array `dataset_array` definire una stringa di nome `chain` che concateni tutti i valori dell'array scandendolo per riga e separando i valori con \":\". (La stringa inizierà con `191:155:179...`)"
   ]
  },
  {
   "cell_type": "code",
   "execution_count": 19,
   "metadata": {},
   "outputs": [
    {
     "name": "stdout",
     "output_type": "stream",
     "text": [
      "191:155:179:145:195:149:201:152:181:148:185:149:183:153:188:149:176:144:171:142:208:157:192:152:189:150:190:149:197:159:189:152:188:152:197:159:192:150:187:151:179:158:186:148:183:147:174:147:174:150:185:152:190:159:195:157:188:151:187:158:163:137:161:130:195:155:183:158:186:153:173:148:181:145:182:146:175:140:165:137:192:154:185:152:174:143:178:147:176:139:176:143:197:167:200:158:190:163:187:150\n"
     ]
    }
   ],
   "source": [
    "chain = ':'.join(str(elem) for elem in dataset_array.flat)\n",
    "\n",
    "print(chain)"
   ]
  },
  {
   "cell_type": "code",
   "execution_count": 20,
   "metadata": {},
   "outputs": [],
   "source": [
    "import re\n",
    "\n",
    "re.fullmatch(r'(\\d{3}:)*', chain)"
   ]
  },
  {
   "cell_type": "markdown",
   "metadata": {},
   "source": [
    "### Espressioni regolari \n",
    "\n",
    "Utilizzando le espressioni regolari, estrarre da chain la sottostringa che inizia per `55`, prosegue per un numero indefinito di caratteri e termina con `88`. Memorizzare la sottostringa in `substr`."
   ]
  },
  {
   "cell_type": "code",
   "execution_count": null,
   "metadata": {},
   "outputs": [],
   "source": [
    "substr\n",
    "\n",
    "print(s)"
   ]
  },
  {
   "cell_type": "code",
   "execution_count": 47,
   "metadata": {},
   "outputs": [],
   "source": [
    "assert len(substr) == 222\n",
    "assert substr in chain"
   ]
  }
 ],
 "metadata": {
  "kernelspec": {
   "display_name": "Python 3",
   "language": "python",
   "name": "python3"
  },
  "language_info": {
   "codemirror_mode": {
    "name": "ipython",
    "version": 3
   },
   "file_extension": ".py",
   "mimetype": "text/x-python",
   "name": "python",
   "nbconvert_exporter": "python",
   "pygments_lexer": "ipython3",
   "version": "3.8.8"
  },
  "widgets": {
   "application/vnd.jupyter.widget-state+json": {
    "state": {},
    "version_major": 2,
    "version_minor": 0
   }
  }
 },
 "nbformat": 4,
 "nbformat_minor": 4
}

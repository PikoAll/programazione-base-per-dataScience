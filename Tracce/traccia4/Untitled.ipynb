{
 "cells": [
  {
   "cell_type": "code",
   "execution_count": 1,
   "id": "9cf3edd0",
   "metadata": {},
   "outputs": [
    {
     "data": {
      "text/html": [
       "<div>\n",
       "<style scoped>\n",
       "    .dataframe tbody tr th:only-of-type {\n",
       "        vertical-align: middle;\n",
       "    }\n",
       "\n",
       "    .dataframe tbody tr th {\n",
       "        vertical-align: top;\n",
       "    }\n",
       "\n",
       "    .dataframe thead th {\n",
       "        text-align: right;\n",
       "    }\n",
       "</style>\n",
       "<table border=\"1\" class=\"dataframe\">\n",
       "  <thead>\n",
       "    <tr style=\"text-align: right;\">\n",
       "      <th></th>\n",
       "      <th>affairs</th>\n",
       "      <th>gender</th>\n",
       "      <th>age</th>\n",
       "      <th>yearsmarried</th>\n",
       "      <th>children</th>\n",
       "      <th>religiousness</th>\n",
       "      <th>education</th>\n",
       "      <th>occupation</th>\n",
       "      <th>rating</th>\n",
       "    </tr>\n",
       "  </thead>\n",
       "  <tbody>\n",
       "    <tr>\n",
       "      <th>4</th>\n",
       "      <td>0</td>\n",
       "      <td>male</td>\n",
       "      <td>37.0</td>\n",
       "      <td>10.00</td>\n",
       "      <td>no</td>\n",
       "      <td>3</td>\n",
       "      <td>18</td>\n",
       "      <td>7</td>\n",
       "      <td>4</td>\n",
       "    </tr>\n",
       "    <tr>\n",
       "      <th>5</th>\n",
       "      <td>0</td>\n",
       "      <td>female</td>\n",
       "      <td>27.0</td>\n",
       "      <td>4.00</td>\n",
       "      <td>no</td>\n",
       "      <td>4</td>\n",
       "      <td>14</td>\n",
       "      <td>6</td>\n",
       "      <td>4</td>\n",
       "    </tr>\n",
       "    <tr>\n",
       "      <th>11</th>\n",
       "      <td>0</td>\n",
       "      <td>female</td>\n",
       "      <td>32.0</td>\n",
       "      <td>15.00</td>\n",
       "      <td>yes</td>\n",
       "      <td>1</td>\n",
       "      <td>12</td>\n",
       "      <td>1</td>\n",
       "      <td>4</td>\n",
       "    </tr>\n",
       "    <tr>\n",
       "      <th>16</th>\n",
       "      <td>0</td>\n",
       "      <td>male</td>\n",
       "      <td>57.0</td>\n",
       "      <td>15.00</td>\n",
       "      <td>yes</td>\n",
       "      <td>5</td>\n",
       "      <td>18</td>\n",
       "      <td>6</td>\n",
       "      <td>5</td>\n",
       "    </tr>\n",
       "    <tr>\n",
       "      <th>23</th>\n",
       "      <td>0</td>\n",
       "      <td>male</td>\n",
       "      <td>22.0</td>\n",
       "      <td>0.75</td>\n",
       "      <td>no</td>\n",
       "      <td>2</td>\n",
       "      <td>17</td>\n",
       "      <td>6</td>\n",
       "      <td>3</td>\n",
       "    </tr>\n",
       "    <tr>\n",
       "      <th>...</th>\n",
       "      <td>...</td>\n",
       "      <td>...</td>\n",
       "      <td>...</td>\n",
       "      <td>...</td>\n",
       "      <td>...</td>\n",
       "      <td>...</td>\n",
       "      <td>...</td>\n",
       "      <td>...</td>\n",
       "      <td>...</td>\n",
       "    </tr>\n",
       "    <tr>\n",
       "      <th>1938</th>\n",
       "      <td>1</td>\n",
       "      <td>male</td>\n",
       "      <td>22.0</td>\n",
       "      <td>1.50</td>\n",
       "      <td>yes</td>\n",
       "      <td>1</td>\n",
       "      <td>12</td>\n",
       "      <td>2</td>\n",
       "      <td>5</td>\n",
       "    </tr>\n",
       "    <tr>\n",
       "      <th>1941</th>\n",
       "      <td>7</td>\n",
       "      <td>female</td>\n",
       "      <td>32.0</td>\n",
       "      <td>10.00</td>\n",
       "      <td>yes</td>\n",
       "      <td>2</td>\n",
       "      <td>18</td>\n",
       "      <td>5</td>\n",
       "      <td>4</td>\n",
       "    </tr>\n",
       "    <tr>\n",
       "      <th>1954</th>\n",
       "      <td>2</td>\n",
       "      <td>male</td>\n",
       "      <td>32.0</td>\n",
       "      <td>10.00</td>\n",
       "      <td>yes</td>\n",
       "      <td>2</td>\n",
       "      <td>17</td>\n",
       "      <td>6</td>\n",
       "      <td>5</td>\n",
       "    </tr>\n",
       "    <tr>\n",
       "      <th>1959</th>\n",
       "      <td>2</td>\n",
       "      <td>male</td>\n",
       "      <td>22.0</td>\n",
       "      <td>7.00</td>\n",
       "      <td>yes</td>\n",
       "      <td>3</td>\n",
       "      <td>18</td>\n",
       "      <td>6</td>\n",
       "      <td>2</td>\n",
       "    </tr>\n",
       "    <tr>\n",
       "      <th>9010</th>\n",
       "      <td>1</td>\n",
       "      <td>female</td>\n",
       "      <td>32.0</td>\n",
       "      <td>15.00</td>\n",
       "      <td>yes</td>\n",
       "      <td>3</td>\n",
       "      <td>14</td>\n",
       "      <td>1</td>\n",
       "      <td>5</td>\n",
       "    </tr>\n",
       "  </tbody>\n",
       "</table>\n",
       "<p>601 rows × 9 columns</p>\n",
       "</div>"
      ],
      "text/plain": [
       "      affairs  gender   age  yearsmarried children  religiousness  education  \\\n",
       "4           0    male  37.0         10.00       no              3         18   \n",
       "5           0  female  27.0          4.00       no              4         14   \n",
       "11          0  female  32.0         15.00      yes              1         12   \n",
       "16          0    male  57.0         15.00      yes              5         18   \n",
       "23          0    male  22.0          0.75       no              2         17   \n",
       "...       ...     ...   ...           ...      ...            ...        ...   \n",
       "1938        1    male  22.0          1.50      yes              1         12   \n",
       "1941        7  female  32.0         10.00      yes              2         18   \n",
       "1954        2    male  32.0         10.00      yes              2         17   \n",
       "1959        2    male  22.0          7.00      yes              3         18   \n",
       "9010        1  female  32.0         15.00      yes              3         14   \n",
       "\n",
       "      occupation  rating  \n",
       "4              7       4  \n",
       "5              6       4  \n",
       "11             1       4  \n",
       "16             6       5  \n",
       "23             6       3  \n",
       "...          ...     ...  \n",
       "1938           2       5  \n",
       "1941           5       4  \n",
       "1954           6       5  \n",
       "1959           6       2  \n",
       "9010           1       5  \n",
       "\n",
       "[601 rows x 9 columns]"
      ]
     },
     "execution_count": 1,
     "metadata": {},
     "output_type": "execute_result"
    }
   ],
   "source": [
    "import pandas as pd\n",
    "dataset =pd.read_csv('Affairs.csv',index_col=0)\n",
    "dataset"
   ]
  },
  {
   "cell_type": "code",
   "execution_count": 2,
   "id": "15371e06",
   "metadata": {},
   "outputs": [],
   "source": [
    "assert dataset.shape[0] == 601\n",
    "\n",
    "assert dataset.shape[1] in {9, 10}\n",
    "\n",
    "assert dataset.shape[1] == 9"
   ]
  },
  {
   "cell_type": "code",
   "execution_count": 3,
   "id": "e19f7df3",
   "metadata": {},
   "outputs": [],
   "source": [
    "def correlation(x,y):\n",
    "    return sum(((x-x.mean())*(y-y.mean()))/(x.std()*y.std()))/len(x)"
   ]
  },
  {
   "cell_type": "code",
   "execution_count": 4,
   "id": "671d4e68",
   "metadata": {},
   "outputs": [],
   "source": [
    "assert 0 <= correlation(dataset['age'], dataset['affairs']) <= 1.0\n",
    "assert -1.0 <= correlation(dataset['religiousness'], dataset['affairs']) <= 0"
   ]
  },
  {
   "cell_type": "code",
   "execution_count": 5,
   "id": "9ec1ae5a",
   "metadata": {},
   "outputs": [],
   "source": [
    "corrs = {att:correlation(dataset[att],dataset.affairs) for att in dataset if dataset[att].dtype=='int64' or dataset[att].dtype=='float64' }"
   ]
  },
  {
   "cell_type": "code",
   "execution_count": 6,
   "id": "7fe8ef92",
   "metadata": {},
   "outputs": [
    {
     "data": {
      "text/plain": [
       "{'affairs': 0.9983361064891862,\n",
       " 'age': 0.09507873959022461,\n",
       " 'yearsmarried': 0.18653080166360533,\n",
       " 'religiousness': -0.14426091063811738,\n",
       " 'education': -0.002433385105438174,\n",
       " 'occupation': 0.04952920915098738,\n",
       " 'rating': -0.27904732421401246}"
      ]
     },
     "execution_count": 6,
     "metadata": {},
     "output_type": "execute_result"
    }
   ],
   "source": [
    "corrs"
   ]
  },
  {
   "cell_type": "code",
   "execution_count": 7,
   "id": "963efe54",
   "metadata": {},
   "outputs": [],
   "source": [
    "assert 'age' in corrs\n",
    "assert type(corrs['education']) == float"
   ]
  },
  {
   "cell_type": "code",
   "execution_count": 8,
   "id": "d689f7da",
   "metadata": {},
   "outputs": [
    {
     "data": {
      "text/html": [
       "<div>\n",
       "<style scoped>\n",
       "    .dataframe tbody tr th:only-of-type {\n",
       "        vertical-align: middle;\n",
       "    }\n",
       "\n",
       "    .dataframe tbody tr th {\n",
       "        vertical-align: top;\n",
       "    }\n",
       "\n",
       "    .dataframe thead th {\n",
       "        text-align: right;\n",
       "    }\n",
       "</style>\n",
       "<table border=\"1\" class=\"dataframe\">\n",
       "  <thead>\n",
       "    <tr style=\"text-align: right;\">\n",
       "      <th></th>\n",
       "      <th>affairs</th>\n",
       "      <th>gender</th>\n",
       "      <th>age</th>\n",
       "      <th>yearsmarried</th>\n",
       "      <th>children</th>\n",
       "      <th>religiousness</th>\n",
       "      <th>education</th>\n",
       "      <th>occupation</th>\n",
       "      <th>rating</th>\n",
       "    </tr>\n",
       "  </thead>\n",
       "  <tbody>\n",
       "    <tr>\n",
       "      <th>4</th>\n",
       "      <td>0</td>\n",
       "      <td>m</td>\n",
       "      <td>37.0</td>\n",
       "      <td>10.00</td>\n",
       "      <td>no</td>\n",
       "      <td>3</td>\n",
       "      <td>18</td>\n",
       "      <td>7</td>\n",
       "      <td>4</td>\n",
       "    </tr>\n",
       "    <tr>\n",
       "      <th>5</th>\n",
       "      <td>0</td>\n",
       "      <td>f</td>\n",
       "      <td>27.0</td>\n",
       "      <td>4.00</td>\n",
       "      <td>no</td>\n",
       "      <td>4</td>\n",
       "      <td>14</td>\n",
       "      <td>6</td>\n",
       "      <td>4</td>\n",
       "    </tr>\n",
       "    <tr>\n",
       "      <th>11</th>\n",
       "      <td>0</td>\n",
       "      <td>f</td>\n",
       "      <td>32.0</td>\n",
       "      <td>15.00</td>\n",
       "      <td>yes</td>\n",
       "      <td>1</td>\n",
       "      <td>12</td>\n",
       "      <td>1</td>\n",
       "      <td>4</td>\n",
       "    </tr>\n",
       "    <tr>\n",
       "      <th>16</th>\n",
       "      <td>0</td>\n",
       "      <td>m</td>\n",
       "      <td>57.0</td>\n",
       "      <td>15.00</td>\n",
       "      <td>yes</td>\n",
       "      <td>5</td>\n",
       "      <td>18</td>\n",
       "      <td>6</td>\n",
       "      <td>5</td>\n",
       "    </tr>\n",
       "    <tr>\n",
       "      <th>23</th>\n",
       "      <td>0</td>\n",
       "      <td>m</td>\n",
       "      <td>22.0</td>\n",
       "      <td>0.75</td>\n",
       "      <td>no</td>\n",
       "      <td>2</td>\n",
       "      <td>17</td>\n",
       "      <td>6</td>\n",
       "      <td>3</td>\n",
       "    </tr>\n",
       "    <tr>\n",
       "      <th>...</th>\n",
       "      <td>...</td>\n",
       "      <td>...</td>\n",
       "      <td>...</td>\n",
       "      <td>...</td>\n",
       "      <td>...</td>\n",
       "      <td>...</td>\n",
       "      <td>...</td>\n",
       "      <td>...</td>\n",
       "      <td>...</td>\n",
       "    </tr>\n",
       "    <tr>\n",
       "      <th>1938</th>\n",
       "      <td>1</td>\n",
       "      <td>m</td>\n",
       "      <td>22.0</td>\n",
       "      <td>1.50</td>\n",
       "      <td>yes</td>\n",
       "      <td>1</td>\n",
       "      <td>12</td>\n",
       "      <td>2</td>\n",
       "      <td>5</td>\n",
       "    </tr>\n",
       "    <tr>\n",
       "      <th>1941</th>\n",
       "      <td>7</td>\n",
       "      <td>f</td>\n",
       "      <td>32.0</td>\n",
       "      <td>10.00</td>\n",
       "      <td>yes</td>\n",
       "      <td>2</td>\n",
       "      <td>18</td>\n",
       "      <td>5</td>\n",
       "      <td>4</td>\n",
       "    </tr>\n",
       "    <tr>\n",
       "      <th>1954</th>\n",
       "      <td>2</td>\n",
       "      <td>m</td>\n",
       "      <td>32.0</td>\n",
       "      <td>10.00</td>\n",
       "      <td>yes</td>\n",
       "      <td>2</td>\n",
       "      <td>17</td>\n",
       "      <td>6</td>\n",
       "      <td>5</td>\n",
       "    </tr>\n",
       "    <tr>\n",
       "      <th>1959</th>\n",
       "      <td>2</td>\n",
       "      <td>m</td>\n",
       "      <td>22.0</td>\n",
       "      <td>7.00</td>\n",
       "      <td>yes</td>\n",
       "      <td>3</td>\n",
       "      <td>18</td>\n",
       "      <td>6</td>\n",
       "      <td>2</td>\n",
       "    </tr>\n",
       "    <tr>\n",
       "      <th>9010</th>\n",
       "      <td>1</td>\n",
       "      <td>f</td>\n",
       "      <td>32.0</td>\n",
       "      <td>15.00</td>\n",
       "      <td>yes</td>\n",
       "      <td>3</td>\n",
       "      <td>14</td>\n",
       "      <td>1</td>\n",
       "      <td>5</td>\n",
       "    </tr>\n",
       "  </tbody>\n",
       "</table>\n",
       "<p>601 rows × 9 columns</p>\n",
       "</div>"
      ],
      "text/plain": [
       "      affairs gender   age  yearsmarried children  religiousness  education  \\\n",
       "4           0      m  37.0         10.00       no              3         18   \n",
       "5           0      f  27.0          4.00       no              4         14   \n",
       "11          0      f  32.0         15.00      yes              1         12   \n",
       "16          0      m  57.0         15.00      yes              5         18   \n",
       "23          0      m  22.0          0.75       no              2         17   \n",
       "...       ...    ...   ...           ...      ...            ...        ...   \n",
       "1938        1      m  22.0          1.50      yes              1         12   \n",
       "1941        7      f  32.0         10.00      yes              2         18   \n",
       "1954        2      m  32.0         10.00      yes              2         17   \n",
       "1959        2      m  22.0          7.00      yes              3         18   \n",
       "9010        1      f  32.0         15.00      yes              3         14   \n",
       "\n",
       "      occupation  rating  \n",
       "4              7       4  \n",
       "5              6       4  \n",
       "11             1       4  \n",
       "16             6       5  \n",
       "23             6       3  \n",
       "...          ...     ...  \n",
       "1938           2       5  \n",
       "1941           5       4  \n",
       "1954           6       5  \n",
       "1959           6       2  \n",
       "9010           1       5  \n",
       "\n",
       "[601 rows x 9 columns]"
      ]
     },
     "execution_count": 8,
     "metadata": {},
     "output_type": "execute_result"
    }
   ],
   "source": [
    "dataset.gender=list(map(lambda x: 'm' if x=='male' else 'f', dataset.gender))\n",
    "dataset"
   ]
  },
  {
   "cell_type": "code",
   "execution_count": 9,
   "id": "16e2a9e1",
   "metadata": {},
   "outputs": [],
   "source": [
    "assert all(map(lambda s: s in {'m','f'}, dataset['gender']))"
   ]
  },
  {
   "cell_type": "code",
   "execution_count": 10,
   "id": "1afbaf0a",
   "metadata": {},
   "outputs": [
    {
     "data": {
      "text/plain": [
       "[18,\n",
       " 17,\n",
       " 14,\n",
       " 17,\n",
       " 16,\n",
       " 18,\n",
       " 18,\n",
       " 20,\n",
       " 17,\n",
       " 16,\n",
       " 20,\n",
       " 18,\n",
       " 16,\n",
       " 18,\n",
       " 17,\n",
       " 18,\n",
       " 20,\n",
       " 20,\n",
       " 14,\n",
       " 16,\n",
       " 17,\n",
       " 18,\n",
       " 18,\n",
       " 17,\n",
       " 20,\n",
       " 17,\n",
       " 17,\n",
       " 16,\n",
       " 18,\n",
       " 18,\n",
       " 18,\n",
       " 18,\n",
       " 20,\n",
       " 18,\n",
       " 16,\n",
       " 16,\n",
       " 16,\n",
       " 17,\n",
       " 18,\n",
       " 14,\n",
       " 20,\n",
       " 18,\n",
       " 20,\n",
       " 17,\n",
       " 20,\n",
       " 16,\n",
       " 16,\n",
       " 20,\n",
       " 14,\n",
       " 12,\n",
       " 18,\n",
       " 20,\n",
       " 9,\n",
       " 18,\n",
       " 12,\n",
       " 16,\n",
       " 14,\n",
       " 18,\n",
       " 16,\n",
       " 18,\n",
       " 18,\n",
       " 20,\n",
       " 14,\n",
       " 14,\n",
       " 14,\n",
       " 14,\n",
       " 14,\n",
       " 18,\n",
       " 16,\n",
       " 14,\n",
       " 12,\n",
       " 18]"
      ]
     },
     "execution_count": 10,
     "metadata": {},
     "output_type": "execute_result"
    }
   ],
   "source": [
    "male_no = list(dataset[(dataset.gender=='m') & (dataset.children=='no')].education)\n",
    "male_no"
   ]
  },
  {
   "cell_type": "code",
   "execution_count": 11,
   "id": "818619c5",
   "metadata": {},
   "outputs": [],
   "source": [
    "assert isinstance(male_no, list)\n",
    "assert isinstance(male_no[0], int)"
   ]
  },
  {
   "cell_type": "code",
   "execution_count": 12,
   "id": "75397d5a",
   "metadata": {},
   "outputs": [
    {
     "data": {
      "text/plain": [
       "[(18, 17, 14),\n",
       " (17, 16, 18),\n",
       " (18, 20, 17),\n",
       " (16, 20, 18),\n",
       " (16, 18, 17),\n",
       " (18, 20, 20),\n",
       " (14, 16, 17),\n",
       " (18, 18, 17),\n",
       " (20, 17, 17),\n",
       " (16, 18, 18),\n",
       " (18, 18, 20),\n",
       " (18, 16, 16),\n",
       " (16, 17, 18),\n",
       " (14, 20, 18),\n",
       " (20, 17, 20),\n",
       " (16, 16, 20),\n",
       " (14, 12, 18),\n",
       " (20, 9, 18),\n",
       " (12, 16, 14),\n",
       " (18, 16, 18),\n",
       " (18, 20, 14),\n",
       " (14, 14, 14),\n",
       " (14, 18, 16),\n",
       " (14, 12, 18)]"
      ]
     },
     "execution_count": 12,
     "metadata": {},
     "output_type": "execute_result"
    }
   ],
   "source": [
    "male_no_3 = [(male_no[i],male_no[i+1],male_no[i+2]) for i in range(0,len(male_no),3)]\n",
    "male_no_3"
   ]
  },
  {
   "cell_type": "code",
   "execution_count": 13,
   "id": "81e8d802",
   "metadata": {},
   "outputs": [],
   "source": [
    "assert len(male_no_3) == len(male_no) // 3\n",
    "assert len(male_no_3[0]) == 3"
   ]
  },
  {
   "cell_type": "code",
   "execution_count": 14,
   "id": "4089ce29",
   "metadata": {},
   "outputs": [],
   "source": [
    "def check_dup(l):\n",
    "    lista = sorted(l.copy())\n",
    "    \n",
    "    count = 0\n",
    "    \n",
    "    for i in range(0,len(lista)-1):\n",
    "        if lista[i]==lista[i+1]:\n",
    "            count+=1\n",
    "            \n",
    "    return count    "
   ]
  },
  {
   "cell_type": "code",
   "execution_count": 18,
   "id": "acb5f0e6",
   "metadata": {},
   "outputs": [
    {
     "name": "stdout",
     "output_type": "stream",
     "text": [
      "65\n",
      "1\n"
     ]
    }
   ],
   "source": [
    "print(check_dup(male_no))\n",
    "print(check_dup(male_no_3))"
   ]
  },
  {
   "cell_type": "code",
   "execution_count": 20,
   "id": "2ef7fe91",
   "metadata": {},
   "outputs": [],
   "source": [
    "assert male_no != sorted(male_no)\n",
    "assert check_dup(male_no_3) == 1\n",
    "assert check_dup(male_no) == 65"
   ]
  },
  {
   "cell_type": "code",
   "execution_count": 21,
   "id": "3cb2370d",
   "metadata": {},
   "outputs": [
    {
     "data": {
      "text/plain": [
       "'m:f:f:m:m:f:f:m:f:m:m:m:m:f:f:f:f:f:f:f:f:f:f:f:m:f:f:m:m:f:m:f:m:f:m:f:f:f:m:f:m:m:f:f:f:m:f:f:m:m:f:m:m:m:m:f:m:f:f:m:f:m:f:m:m:m:m:f:f:f:f:f:f:m:m:m:f:m:f:m:m:m:f:m:f:f:f:f:f:f:f:m:m:m:m:f:m:m:m:m:f:m:f:m:f:m:m:m:m:f:f:f:f:m:f:m:m:m:f:f:f:f:m:f:f:m:f:m:m:m:f:m:f:m:f:f:f:f:m:m:f:f:m:m:m:m:m:f:f:m:m:m:m:m:m:m:f:f:m:m:f:f:m:f:f:f:f:f:m:m:m:f:f:f:f:m:f:f:f:f:f:m:f:f:f:f:m:m:m:m:m:f:m:m:f:m:m:f:m:f:m:m:f:m:f:f:f:f:f:f:f:m:m:m:f:m:m:m:f:m:f:m:f:m:f:f:f:m:m:m:f:f:f:m:m:m:f:f:m:f:m:f:m:m:f:m:f:f:f:m:f:m:m:f:m:f:f:m:m:f:f:m:m:f:f:m:f:f:m:f:m:m:f:m:f:f:m:f:m:m:m:f:f:f:f:m:m:m:f:f:f:m:m:f:f:m:f:f:m:m:f:m:m:m:f:f:m:f:m:m:f:f:m:m:f:m:f:m:f:m:f:f:m:f:f:m:m:f:f:m:m:f:f:f:m:f:f:f:f:f:m:f:m:f:m:m:m:m:f:m:f:f:m:f:f:f:f:m:m:m:m:f:f:f:m:m:f:f:f:f:f:m:m:f:m:f:f:f:f:f:f:m:m:m:f:f:f:f:f:f:f:m:f:m:f:m:f:f:f:m:m:f:m:m:m:m:m:m:f:f:f:m:m:m:f:f:f:m:f:f:m:f:f:f:m:m:m:f:f:m:f:f:m:f:f:f:f:f:m:m:f:m:f:f:f:f:f:m:m:m:f:m:f:m:f:m:f:m:f:m:f:f:f:f:m:f:m:m:f:m:f:f:f:m:f:f:f:m:m:f:f:m:f:f:f:m:f:f:m:f:m:m:f:m:m:m:f:m:f:m:m:m:m:m:f:m:f:m:m:m:m:m:f:f:m:m:m:f:m:m:f:f:m:m:m:f:f:f:f:m:f:m:m:f:f:m:m:f:f:m:f:f:f:m:m:f:f:f:m:m:f:m:m:f:m:m:m:m:f:m:m:f:f:m:f:f:f:m:f:f:f:f:f:f:m:f:f:m:m:m:m:m:m:m:m:m:f:m:f:f:f:m:f:m:m:m:m:f:m:m:f'"
      ]
     },
     "execution_count": 21,
     "metadata": {},
     "output_type": "execute_result"
    }
   ],
   "source": [
    "gs = ':'.join(i for i in dataset.gender)\n",
    "gs"
   ]
  },
  {
   "cell_type": "code",
   "execution_count": 22,
   "id": "276a7a0d",
   "metadata": {},
   "outputs": [],
   "source": [
    "assert set(gs)==set('fm:')\n",
    "\n",
    "assert len([(gs[i], gs[i+1]) for i in range(0,len(gs)-1,2) if not(gs[i] in {'m','f'} and gs[i+1] == ':')])==0"
   ]
  },
  {
   "cell_type": "code",
   "execution_count": 38,
   "id": "a8e298b5",
   "metadata": {},
   "outputs": [
    {
     "data": {
      "text/plain": [
       "39"
      ]
     },
     "execution_count": 38,
     "metadata": {},
     "output_type": "execute_result"
    }
   ],
   "source": [
    "import re\n",
    "count = len(re.findall(r'f{4,}',gs.replace(':','')))\n",
    "count += len(re.findall(r'm{4,}',gs.replace(':','')))\n",
    "count"
   ]
  },
  {
   "cell_type": "code",
   "execution_count": 39,
   "id": "9e4658dd",
   "metadata": {},
   "outputs": [
    {
     "data": {
      "text/plain": [
       "'m:f:f:m:m:f:f:m:f:m:m:m:m:f:f:f:f:f:f:f:f:f:f:f:m:f:f:m:m:f:m:f:m:f:m:f:f:f:m:f:m:m:f:f:f:m:f:f:m:m:f:m:m:m:m:f:m:f:f:m:f:m:f:m:m:m:m:f:f:f:f:f:f:m:m:m:f:m:f:m:m:m:f:m:f:f:f:f:f:f:f:m:m:m:m:f:m:m:m:m:f:m:f:m:f:m:m:m:m:f:f:f:f:m:f:m:m:m:f:f:f:f:m:f:f:m:f:m:m:m:f:m:f:m:f:f:f:f:m:m:f:f:m:m:m:m:m:f:f:m:m:m:m:m:m:m:f:f:m:m:f:f:m:f:f:f:f:f:m:m:m:f:f:f:f:m:f:f:f:f:f:m:f:f:f:f:m:m:m:m:m:f:m:m:f:m:m:f:m:f:m:m:f:m:f:f:f:f:f:f:f:m:m:m:f:m:m:m:f:m:f:m:f:m:f:f:f:m:m:m:f:f:f:m:m:m:f:f:m:f:m:f:m:m:f:m:f:f:f:m:f:m:m:f:m:f:f:m:m:f:f:m:m:f:f:m:f:f:m:f:m:m:f:m:f:f:m:f:m:m:m:f:f:f:f:m:m:m:f:f:f:m:m:f:f:m:f:f:m:m:f:m:m:m:f:f:m:f:m:m:f:f:m:m:f:m:f:m:f:m:f:f:m:f:f:m:m:f:f:m:m:f:f:f:m:f:f:f:f:f:m:f:m:f:m:m:m:m:f:m:f:f:m:f:f:f:f:m:m:m:m:f:f:f:m:m:f:f:f:f:f:m:m:f:m:f:f:f:f:f:f:m:m:m:f:f:f:f:f:f:f:m:f:m:f:m:f:f:f:m:m:f:m:m:m:m:m:m:f:f:f:m:m:m:f:f:f:m:f:f:m:f:f:f:m:m:m:f:f:m:f:f:m:f:f:f:f:f:m:m:f:m:f:f:f:f:f:m:m:m:f:m:f:m:f:m:f:m:f:m:f:f:f:f:m:f:m:m:f:m:f:f:f:m:f:f:f:m:m:f:f:m:f:f:f:m:f:f:m:f:m:m:f:m:m:m:f:m:f:m:m:m:m:m:f:m:f:m:m:m:m:m:f:f:m:m:m:f:m:m:f:f:m:m:m:f:f:f:f:m:f:m:m:f:f:m:m:f:f:m:f:f:f:m:m:f:f:f:m:m:f:m:m:f:m:m:m:m:f:m:m:f:f:m:f:f:f:m:f:f:f:f:f:f:m:f:f:m:m:m:m:m:m:m:m:m:f:m:f:f:f:m:f:m:m:m:m:f:m:m:f'"
      ]
     },
     "execution_count": 39,
     "metadata": {},
     "output_type": "execute_result"
    }
   ],
   "source": [
    "gs"
   ]
  },
  {
   "cell_type": "code",
   "execution_count": 40,
   "id": "8747fa74",
   "metadata": {},
   "outputs": [],
   "source": [
    "assert count == 39"
   ]
  },
  {
   "cell_type": "code",
   "execution_count": 42,
   "id": "783712ea",
   "metadata": {},
   "outputs": [
    {
     "data": {
      "text/plain": [
       "['f:',\n",
       " 'f:',\n",
       " 'f:',\n",
       " 'f:',\n",
       " 'f:',\n",
       " 'f:',\n",
       " 'f:',\n",
       " 'f:',\n",
       " 'f:',\n",
       " 'f:',\n",
       " 'f:',\n",
       " 'f:',\n",
       " 'f:',\n",
       " 'f:',\n",
       " 'f:',\n",
       " 'f:',\n",
       " 'f:',\n",
       " 'f:',\n",
       " 'f:',\n",
       " 'f:',\n",
       " 'f:',\n",
       " 'f:']"
      ]
     },
     "execution_count": 42,
     "metadata": {},
     "output_type": "execute_result"
    }
   ],
   "source": [
    "count = re.findall(r'(f:){4,}', gs)\n",
    "count"
   ]
  },
  {
   "cell_type": "code",
   "execution_count": null,
   "id": "7f7b4c5c",
   "metadata": {},
   "outputs": [],
   "source": []
  }
 ],
 "metadata": {
  "kernelspec": {
   "display_name": "Python 3",
   "language": "python",
   "name": "python3"
  },
  "language_info": {
   "codemirror_mode": {
    "name": "ipython",
    "version": 3
   },
   "file_extension": ".py",
   "mimetype": "text/x-python",
   "name": "python",
   "nbconvert_exporter": "python",
   "pygments_lexer": "ipython3",
   "version": "3.8.8"
  }
 },
 "nbformat": 4,
 "nbformat_minor": 5
}

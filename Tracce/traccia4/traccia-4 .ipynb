{
 "cells": [
  {
   "cell_type": "markdown",
   "metadata": {
    "deletable": false,
    "editable": false,
    "nbgrader": {
     "cell_type": "markdown",
     "checksum": "888371777df6aa1bdd52e6754aa71553",
     "grade": false,
     "grade_id": "cell-fe142c7888e01719",
     "locked": true,
     "schema_version": 3,
     "solution": false,
     "task": false
    }
   },
   "source": [
    "# Prova di esame (laboratorio)\n",
    "\n",
    "La prova avrà una durata massima di due ore e porterà a una valutazione massima di 21 punti. Il voto finale si otterrà per somma del punteggio del test di teoria e della prova di laboratorio. \n",
    "\n",
    "La prova consiste in un insieme di quiz proposti attraverso un Jupyter Notebook (non sono ammessi altri strumenti software) da svolgere sui computer del laboratorio (non sono ammessi altri strumenti hardware). Durante la prova si può consultare il libro di testo, le slide usate a lezione, un manuale python (approvato dal docente) oppure le guide in linea suggerite da Jupyter Notebook. Non sono ammessi altri strumenti di consultazione. "
   ]
  },
  {
   "cell_type": "markdown",
   "metadata": {
    "deletable": false,
    "editable": false,
    "nbgrader": {
     "cell_type": "markdown",
     "checksum": "68afb91fb82ac82ca0c085588a841a3a",
     "grade": false,
     "grade_id": "cell-9689b2f1c71af2ed",
     "locked": true,
     "schema_version": 3,
     "solution": false,
     "task": false
    }
   },
   "source": [
    "### Prima della prova\n",
    "\n",
    "Specificare la informazioni richieste nelle celle sottostanti e salvare il notebook con il proprio nome.\n",
    "\n",
    "### Durante la prova\n",
    "\n",
    "Nelle celle markdown, cancellare il testo \"YOUR ANSWER HERE\" con la propria risposta. Nelle celle codice, rimuovere la linea di codice\n",
    "```python\n",
    "raise NotImplementedError()\n",
    "```\n",
    "e sostituirla con la propria implementazione.\n",
    "Dopo ogni cella codice che deve contenere la risposta al quesito, esiste una cella codice con delle *asserzioni*, ossia delle istruzioni che verificano la correttezza della propria soluzione. (Queste asserzioni saranno usate per valutare la correttezza della risposta data e assegnare un punteggio.) E' possibile eseguire queste celle per verificare che la soluzione proposta sia corretta.\n",
    "\n",
    "\n",
    "### Dopo la prova\n",
    "\n",
    "Salvare il file dopo aver terminato. Consegnare l'elaborato utilizzando la piattaforma ADA. "
   ]
  },
  {
   "cell_type": "markdown",
   "metadata": {
    "deletable": false,
    "editable": false,
    "nbgrader": {
     "cell_type": "markdown",
     "checksum": "8f665d5b209bfd9f3ed7e6aca6a23274",
     "grade": false,
     "grade_id": "cell-87a2a93c5c4ec366",
     "locked": true,
     "schema_version": 3,
     "solution": false,
     "task": false
    }
   },
   "source": [
    "## Traccia"
   ]
  },
  {
   "cell_type": "markdown",
   "metadata": {
    "deletable": false,
    "editable": false,
    "nbgrader": {
     "cell_type": "markdown",
     "checksum": "2c3df1a78c660451ea59858faf3572ae",
     "grade": false,
     "grade_id": "cell-9160a6fcd8a4cfe8",
     "locked": true,
     "schema_version": 3,
     "solution": false,
     "task": false
    }
   },
   "source": [
    "### Fair's Extramarital Affairs Data\n",
    "Dati sull'infedeltà, noti come Fair's Affairs. Dati trasversali di un'indagine condotta da Psychology Today nel 1969. \n",
    "\n",
    "#### Formato\n",
    "Il dataset contiene 601 osservazioni su 9 variabili oltre all'indice di riga.\n",
    "\n",
    "1. affair (numerico) Quante volte ha avuto rapporti extraconiugali nell'ultimo anno? 0 = nessuna, 1 = una volta, 2 = due volte, 3 = 3 volte, 7 = 4-10 volte, 12 = mensile, 12 = settimanale, 12 = giornaliero.\n",
    "2. gender. fattore che indica il genere.\n",
    "3. age. età codificata come: 17.5 = meno di 20 anni, 22 = 20-24, 27 = 25-29, 32 = 30-34, 37 = 35-39, 42 = 40-44, 47 = 45-49, 52 = 50-54, 57 = 55 o più.\n",
    "4. yearsmarried. variabile numerica che codifica il numero di anni di matrimonio: 0.125 = 3 mesi o meno, 0.417 = 4-6 mesi, 0.75 = 6 mesi-1 anno, 1.5 = 1-2 anni, 4 = 3-5 anni, 7 = 6-8 anni, 10 = 9-11 anni, 15 = 12 o più anni.\n",
    "5. children. fattore. Ci sono figli nel matrimonio?\n",
    "6. religiousness. Codifica della religiosità: 1 = anti, 2 = per niente, 3 = leggermente, 4 = un po', 4 = abbastanza, 5 = molto.\n",
    "7. education. Livello di istruzione: 9 = scuola dell'obbligo, 12 = licenza professionale, 14 = diploma, 16 = post-diploma, 17 = laurea triennale, 18 = laurea magistrale, 20 = dottorato o simili.\n",
    "8. occupation. occupazione secondo la classificazione di [Hollingshead](https://dictionary.fitbir.nih.gov/portal/publicData/dataElementAction!view.action?dataElementName=HollingsheadJobClassCat&publicArea=true).\n",
    "9. rating. Variabile numerica che codifica l'autovalutazione del matrimonio: 1 = molto infelice, 2 = un po' infelice, 3 = medio, 4 = più felice della media, 5 = molto felice.\n"
   ]
  },
  {
   "cell_type": "markdown",
   "metadata": {
    "deletable": false,
    "editable": false,
    "nbgrader": {
     "cell_type": "markdown",
     "checksum": "e87a8bffccd485dcda20495581ed3d0e",
     "grade": false,
     "grade_id": "cell-0fba9bf59d19b45c",
     "locked": true,
     "schema_version": 3,
     "solution": false,
     "task": false
    }
   },
   "source": [
    "### Caricamento dati (3 pt)\n",
    "\n",
    "Caricare il dataset `Affair.csv` in un DataFrame di nome `dataset`. Utilizzate la prima colonna come indice di riga (utilizzare il parametro `index_col`)"
   ]
  },
  {
   "cell_type": "code",
   "execution_count": 1,
   "metadata": {
    "deletable": false,
    "nbgrader": {
     "cell_type": "code",
     "checksum": "6be169de28d62347a707be52e245fdfd",
     "grade": false,
     "grade_id": "cell-45ed38f49a508c61",
     "locked": false,
     "schema_version": 3,
     "solution": true,
     "task": false
    }
   },
   "outputs": [
    {
     "data": {
      "text/html": [
       "<div>\n",
       "<style scoped>\n",
       "    .dataframe tbody tr th:only-of-type {\n",
       "        vertical-align: middle;\n",
       "    }\n",
       "\n",
       "    .dataframe tbody tr th {\n",
       "        vertical-align: top;\n",
       "    }\n",
       "\n",
       "    .dataframe thead th {\n",
       "        text-align: right;\n",
       "    }\n",
       "</style>\n",
       "<table border=\"1\" class=\"dataframe\">\n",
       "  <thead>\n",
       "    <tr style=\"text-align: right;\">\n",
       "      <th></th>\n",
       "      <th>affairs</th>\n",
       "      <th>gender</th>\n",
       "      <th>age</th>\n",
       "      <th>yearsmarried</th>\n",
       "      <th>children</th>\n",
       "      <th>religiousness</th>\n",
       "      <th>education</th>\n",
       "      <th>occupation</th>\n",
       "      <th>rating</th>\n",
       "    </tr>\n",
       "  </thead>\n",
       "  <tbody>\n",
       "    <tr>\n",
       "      <th>4</th>\n",
       "      <td>0</td>\n",
       "      <td>male</td>\n",
       "      <td>37.0</td>\n",
       "      <td>10.00</td>\n",
       "      <td>no</td>\n",
       "      <td>3</td>\n",
       "      <td>18</td>\n",
       "      <td>7</td>\n",
       "      <td>4</td>\n",
       "    </tr>\n",
       "    <tr>\n",
       "      <th>5</th>\n",
       "      <td>0</td>\n",
       "      <td>female</td>\n",
       "      <td>27.0</td>\n",
       "      <td>4.00</td>\n",
       "      <td>no</td>\n",
       "      <td>4</td>\n",
       "      <td>14</td>\n",
       "      <td>6</td>\n",
       "      <td>4</td>\n",
       "    </tr>\n",
       "    <tr>\n",
       "      <th>11</th>\n",
       "      <td>0</td>\n",
       "      <td>female</td>\n",
       "      <td>32.0</td>\n",
       "      <td>15.00</td>\n",
       "      <td>yes</td>\n",
       "      <td>1</td>\n",
       "      <td>12</td>\n",
       "      <td>1</td>\n",
       "      <td>4</td>\n",
       "    </tr>\n",
       "    <tr>\n",
       "      <th>16</th>\n",
       "      <td>0</td>\n",
       "      <td>male</td>\n",
       "      <td>57.0</td>\n",
       "      <td>15.00</td>\n",
       "      <td>yes</td>\n",
       "      <td>5</td>\n",
       "      <td>18</td>\n",
       "      <td>6</td>\n",
       "      <td>5</td>\n",
       "    </tr>\n",
       "    <tr>\n",
       "      <th>23</th>\n",
       "      <td>0</td>\n",
       "      <td>male</td>\n",
       "      <td>22.0</td>\n",
       "      <td>0.75</td>\n",
       "      <td>no</td>\n",
       "      <td>2</td>\n",
       "      <td>17</td>\n",
       "      <td>6</td>\n",
       "      <td>3</td>\n",
       "    </tr>\n",
       "  </tbody>\n",
       "</table>\n",
       "</div>"
      ],
      "text/plain": [
       "    affairs  gender   age  yearsmarried children  religiousness  education  \\\n",
       "4         0    male  37.0         10.00       no              3         18   \n",
       "5         0  female  27.0          4.00       no              4         14   \n",
       "11        0  female  32.0         15.00      yes              1         12   \n",
       "16        0    male  57.0         15.00      yes              5         18   \n",
       "23        0    male  22.0          0.75       no              2         17   \n",
       "\n",
       "    occupation  rating  \n",
       "4            7       4  \n",
       "5            6       4  \n",
       "11           1       4  \n",
       "16           6       5  \n",
       "23           6       3  "
      ]
     },
     "execution_count": 1,
     "metadata": {},
     "output_type": "execute_result"
    }
   ],
   "source": [
    "import pandas as pd\n",
    "\n",
    "dataset = pd.read_csv('Affairs.csv', index_col = 0)\n",
    "\n",
    "dataset.head(5)"
   ]
  },
  {
   "cell_type": "code",
   "execution_count": 2,
   "metadata": {
    "deletable": false,
    "editable": false,
    "nbgrader": {
     "cell_type": "code",
     "checksum": "1eaee292bf24a3988141aae7d8604ff3",
     "grade": true,
     "grade_id": "cell-d847c439394f45dc",
     "locked": true,
     "points": 1,
     "schema_version": 3,
     "solution": false,
     "task": false
    }
   },
   "outputs": [],
   "source": [
    "assert dataset.shape[0] == 601"
   ]
  },
  {
   "cell_type": "code",
   "execution_count": 3,
   "metadata": {
    "deletable": false,
    "editable": false,
    "nbgrader": {
     "cell_type": "code",
     "checksum": "82cc01116058354fcd3bbdca60cb78a0",
     "grade": true,
     "grade_id": "cell-0ac41f126ee85dc7",
     "locked": true,
     "points": 1,
     "schema_version": 3,
     "solution": false,
     "task": false
    }
   },
   "outputs": [],
   "source": [
    "assert dataset.shape[1] in {9, 10}"
   ]
  },
  {
   "cell_type": "code",
   "execution_count": 4,
   "metadata": {
    "deletable": false,
    "editable": false,
    "nbgrader": {
     "cell_type": "code",
     "checksum": "a0421be91e619a2d199d77ae405bd10b",
     "grade": true,
     "grade_id": "cell-7dc66e77652136f4",
     "locked": true,
     "points": 1,
     "schema_version": 3,
     "solution": false,
     "task": false
    }
   },
   "outputs": [],
   "source": [
    "assert dataset.shape[1] == 9"
   ]
  },
  {
   "cell_type": "markdown",
   "metadata": {
    "deletable": false,
    "editable": false,
    "nbgrader": {
     "cell_type": "markdown",
     "checksum": "565d830dbb1d9f82fa0c44e7a61275f7",
     "grade": false,
     "grade_id": "cell-4ef63b157b279fad",
     "locked": true,
     "schema_version": 3,
     "solution": false,
     "task": false
    }
   },
   "source": [
    "### Funzioni (2 pt)\n",
    "\n",
    "Definire una funzione denominata `correlation` con due argomenti iterabili `x` e `y`, che calcoli il coefficiente di correlazione $$\\rho = \\frac{1}{N}\\sum_i^N\\frac{(x_i-\\mu(x))(y_i-\\mu(y))}{\\sigma(x)\\sigma(y)}$$\n",
    "dove:\n",
    "- $\\mu$ è la funzione che calcola la media. Si assume che `x` e `y` siano dotate del metodo `mean()`\n",
    "- $\\sigma$ è la funzione che calcola la deviazione standard. Si assume che `x` e `y` siano dotate del metodo `std()`\n",
    "\n",
    "La funzione deve restituire correttamente dei valori se `x` e `y` corrispondono a delle Series."
   ]
  },
  {
   "cell_type": "code",
   "execution_count": 5,
   "metadata": {
    "deletable": false,
    "nbgrader": {
     "cell_type": "code",
     "checksum": "cba293df2a3087c1d73d092e0939b365",
     "grade": false,
     "grade_id": "cell-9344097e0be3a8fc",
     "locked": false,
     "schema_version": 3,
     "solution": true,
     "task": false
    }
   },
   "outputs": [],
   "source": [
    "def correlation(x, y):\n",
    "    \n",
    "    return (1 / len(x)) * sum([(a - x.mean()) * (b - y.mean()) / (x.std() * y .std()) for a , b in zip(x , y)])"
   ]
  },
  {
   "cell_type": "code",
   "execution_count": 6,
   "metadata": {
    "deletable": false,
    "editable": false,
    "nbgrader": {
     "cell_type": "code",
     "checksum": "1d23176d9e270ce67ad214bdc12b94d4",
     "grade": true,
     "grade_id": "cell-0f7b4222050b6260",
     "locked": true,
     "points": 2,
     "schema_version": 3,
     "solution": false,
     "task": false
    }
   },
   "outputs": [],
   "source": [
    "assert 0 <= correlation(dataset['age'], dataset['affairs']) <= 1.0\n",
    "assert -1.0 <= correlation(dataset['religiousness'], dataset['affairs']) <= 0"
   ]
  },
  {
   "cell_type": "markdown",
   "metadata": {
    "deletable": false,
    "editable": false,
    "nbgrader": {
     "cell_type": "markdown",
     "checksum": "e8ca8b07e1ddb6fcd5aa1df9c8a40b15",
     "grade": false,
     "grade_id": "cell-34f8c1c3699092da",
     "locked": true,
     "schema_version": 3,
     "solution": false,
     "task": false
    }
   },
   "source": [
    "### Comprensioni (2 pt)\n",
    "\n",
    "Attraverso l'uso della comprensione, definire un dizionario denominato `corrs` che associ, a ogni attributo numerico di `dataset` il coefficiente di correlazione tra l'attributo e `affairs`. \n"
   ]
  },
  {
   "cell_type": "code",
   "execution_count": 7,
   "metadata": {
    "deletable": false,
    "nbgrader": {
     "cell_type": "code",
     "checksum": "c2429993c11d867499813cdf1ab0cb94",
     "grade": false,
     "grade_id": "cell-8c30b7a403bb109a",
     "locked": false,
     "schema_version": 3,
     "solution": true,
     "task": false
    }
   },
   "outputs": [
    {
     "data": {
      "text/plain": [
       "{'affairs': 0.9983361064891862,\n",
       " 'age': 0.09507873959022463,\n",
       " 'yearsmarried': 0.18653080166360533,\n",
       " 'religiousness': -0.14426091063811738,\n",
       " 'education': -0.0024333851054381744,\n",
       " 'occupation': 0.04952920915098738,\n",
       " 'rating': -0.27904732421401246}"
      ]
     },
     "execution_count": 7,
     "metadata": {},
     "output_type": "execute_result"
    }
   ],
   "source": [
    "import numpy as np\n",
    "\n",
    "corrs = dict((elem , correlation(dataset[elem] , dataset.affairs)) for elem in dataset.select_dtypes([np.int64 , np.float64]))\n",
    "\n",
    "corrs"
   ]
  },
  {
   "cell_type": "code",
   "execution_count": 8,
   "metadata": {
    "deletable": false,
    "editable": false,
    "nbgrader": {
     "cell_type": "code",
     "checksum": "84ed92d1cdd4c36b76f3b369788f72e1",
     "grade": true,
     "grade_id": "cell-6e8a9da9efebc0b7",
     "locked": true,
     "points": 2,
     "schema_version": 3,
     "solution": false,
     "task": false
    }
   },
   "outputs": [],
   "source": [
    "assert 'age' in corrs\n",
    "assert type(corrs['education']) == float"
   ]
  },
  {
   "cell_type": "markdown",
   "metadata": {
    "deletable": false,
    "editable": false,
    "nbgrader": {
     "cell_type": "markdown",
     "checksum": "6466eb9615d0df627d809b209905e7b3",
     "grade": false,
     "grade_id": "cell-40a869e4bea7d841",
     "locked": true,
     "schema_version": 3,
     "solution": false,
     "task": false
    }
   },
   "source": [
    "### Programmazione funzionale (3 pt)\n",
    "\n",
    "Usando `map` e `lambda`, trasformare la colonna `gender` per sostituire il valore `male` con `m` e `female` con `f`."
   ]
  },
  {
   "cell_type": "code",
   "execution_count": 9,
   "metadata": {
    "deletable": false,
    "nbgrader": {
     "cell_type": "code",
     "checksum": "2fec325a6edbaeead2f86d6ca4b783e4",
     "grade": false,
     "grade_id": "cell-5fae432a1be6390a",
     "locked": false,
     "schema_version": 3,
     "solution": true,
     "task": false
    }
   },
   "outputs": [
    {
     "data": {
      "text/html": [
       "<div>\n",
       "<style scoped>\n",
       "    .dataframe tbody tr th:only-of-type {\n",
       "        vertical-align: middle;\n",
       "    }\n",
       "\n",
       "    .dataframe tbody tr th {\n",
       "        vertical-align: top;\n",
       "    }\n",
       "\n",
       "    .dataframe thead th {\n",
       "        text-align: right;\n",
       "    }\n",
       "</style>\n",
       "<table border=\"1\" class=\"dataframe\">\n",
       "  <thead>\n",
       "    <tr style=\"text-align: right;\">\n",
       "      <th></th>\n",
       "      <th>affairs</th>\n",
       "      <th>gender</th>\n",
       "      <th>age</th>\n",
       "      <th>yearsmarried</th>\n",
       "      <th>children</th>\n",
       "      <th>religiousness</th>\n",
       "      <th>education</th>\n",
       "      <th>occupation</th>\n",
       "      <th>rating</th>\n",
       "    </tr>\n",
       "  </thead>\n",
       "  <tbody>\n",
       "    <tr>\n",
       "      <th>4</th>\n",
       "      <td>0</td>\n",
       "      <td>m</td>\n",
       "      <td>37.0</td>\n",
       "      <td>10.00</td>\n",
       "      <td>no</td>\n",
       "      <td>3</td>\n",
       "      <td>18</td>\n",
       "      <td>7</td>\n",
       "      <td>4</td>\n",
       "    </tr>\n",
       "    <tr>\n",
       "      <th>5</th>\n",
       "      <td>0</td>\n",
       "      <td>f</td>\n",
       "      <td>27.0</td>\n",
       "      <td>4.00</td>\n",
       "      <td>no</td>\n",
       "      <td>4</td>\n",
       "      <td>14</td>\n",
       "      <td>6</td>\n",
       "      <td>4</td>\n",
       "    </tr>\n",
       "    <tr>\n",
       "      <th>11</th>\n",
       "      <td>0</td>\n",
       "      <td>f</td>\n",
       "      <td>32.0</td>\n",
       "      <td>15.00</td>\n",
       "      <td>yes</td>\n",
       "      <td>1</td>\n",
       "      <td>12</td>\n",
       "      <td>1</td>\n",
       "      <td>4</td>\n",
       "    </tr>\n",
       "    <tr>\n",
       "      <th>16</th>\n",
       "      <td>0</td>\n",
       "      <td>m</td>\n",
       "      <td>57.0</td>\n",
       "      <td>15.00</td>\n",
       "      <td>yes</td>\n",
       "      <td>5</td>\n",
       "      <td>18</td>\n",
       "      <td>6</td>\n",
       "      <td>5</td>\n",
       "    </tr>\n",
       "    <tr>\n",
       "      <th>23</th>\n",
       "      <td>0</td>\n",
       "      <td>m</td>\n",
       "      <td>22.0</td>\n",
       "      <td>0.75</td>\n",
       "      <td>no</td>\n",
       "      <td>2</td>\n",
       "      <td>17</td>\n",
       "      <td>6</td>\n",
       "      <td>3</td>\n",
       "    </tr>\n",
       "  </tbody>\n",
       "</table>\n",
       "</div>"
      ],
      "text/plain": [
       "    affairs gender   age  yearsmarried children  religiousness  education  \\\n",
       "4         0      m  37.0         10.00       no              3         18   \n",
       "5         0      f  27.0          4.00       no              4         14   \n",
       "11        0      f  32.0         15.00      yes              1         12   \n",
       "16        0      m  57.0         15.00      yes              5         18   \n",
       "23        0      m  22.0          0.75       no              2         17   \n",
       "\n",
       "    occupation  rating  \n",
       "4            7       4  \n",
       "5            6       4  \n",
       "11           1       4  \n",
       "16           6       5  \n",
       "23           6       3  "
      ]
     },
     "execution_count": 9,
     "metadata": {},
     "output_type": "execute_result"
    }
   ],
   "source": [
    "dataset['gender'] = list(map(lambda x: 'm' if x == 'male' else 'f' , dataset.gender))\n",
    "\n",
    "dataset.head()"
   ]
  },
  {
   "cell_type": "code",
   "execution_count": 10,
   "metadata": {
    "deletable": false,
    "editable": false,
    "nbgrader": {
     "cell_type": "code",
     "checksum": "5d169615bd4096140e8b1c43c85c7485",
     "grade": true,
     "grade_id": "cell-8b7cc320b2278ffa",
     "locked": true,
     "points": 3,
     "schema_version": 3,
     "solution": false,
     "task": false
    }
   },
   "outputs": [],
   "source": [
    "assert all(map(lambda s: s in {'m','f'}, dataset['gender']))"
   ]
  },
  {
   "cell_type": "markdown",
   "metadata": {
    "deletable": false,
    "editable": false,
    "nbgrader": {
     "cell_type": "markdown",
     "checksum": "413ab68b45adc7d27e40887eed916bd0",
     "grade": false,
     "grade_id": "cell-b4bffd3ed1d4ab4f",
     "locked": true,
     "schema_version": 3,
     "solution": false,
     "task": false
    }
   },
   "source": [
    "### Manipolazione DataFrame (2 pt)\n",
    "\n",
    "Estrarre dal dataset i valori della colonna `education` corrispondenti a tutti i campioni di genere maschile e senza figli. Inserire questi valori in una lista denominata `male_no`. "
   ]
  },
  {
   "cell_type": "code",
   "execution_count": 11,
   "metadata": {
    "deletable": false,
    "nbgrader": {
     "cell_type": "code",
     "checksum": "22a5233c84bc29bdf9afbd84ecc1ec49",
     "grade": false,
     "grade_id": "cell-b4bffd3ed1d4ab4e",
     "locked": false,
     "schema_version": 3,
     "solution": true,
     "task": false
    }
   },
   "outputs": [],
   "source": [
    "male_no = list(dataset[(dataset.gender == 'm') & (dataset.children == 'no')].education)"
   ]
  },
  {
   "cell_type": "code",
   "execution_count": 12,
   "metadata": {
    "deletable": false,
    "editable": false,
    "nbgrader": {
     "cell_type": "code",
     "checksum": "10dddbaccaf1de1cbece983e51bc106b",
     "grade": true,
     "grade_id": "cell-9feb342352f60ee9",
     "locked": true,
     "points": 2,
     "schema_version": 3,
     "solution": false,
     "task": false
    }
   },
   "outputs": [],
   "source": [
    "assert isinstance(male_no, list)\n",
    "assert isinstance(male_no[0], int)"
   ]
  },
  {
   "cell_type": "markdown",
   "metadata": {
    "deletable": false,
    "editable": false,
    "nbgrader": {
     "cell_type": "markdown",
     "checksum": "0ffce16c804067b3a0283a6cfb0a9670",
     "grade": false,
     "grade_id": "cell-7c8584a308444c95",
     "locked": true,
     "schema_version": 3,
     "solution": false,
     "task": false
    }
   },
   "source": [
    "### Operazioni su liste (2 pt)\n",
    "\n",
    "A partire dalla lista `male_no` definire una lista denominata `male_no_3` i cui elementi sono triple di elementi consecutivi e disgiunti di `male_no`. (Ogni elemento appartiene a una sola tripla.)"
   ]
  },
  {
   "cell_type": "code",
   "execution_count": 13,
   "metadata": {
    "deletable": false,
    "nbgrader": {
     "cell_type": "code",
     "checksum": "d553d204530061cfc6c74e6f21132413",
     "grade": false,
     "grade_id": "cell-2d5a6895a788b57e",
     "locked": false,
     "schema_version": 3,
     "solution": true,
     "task": false
    }
   },
   "outputs": [
    {
     "data": {
      "text/plain": [
       "[(18, 17, 14),\n",
       " (17, 16, 18),\n",
       " (18, 20, 17),\n",
       " (16, 20, 18),\n",
       " (16, 18, 17),\n",
       " (18, 20, 20),\n",
       " (14, 16, 17),\n",
       " (18, 18, 17),\n",
       " (20, 17, 17),\n",
       " (16, 18, 18),\n",
       " (18, 18, 20),\n",
       " (18, 16, 16),\n",
       " (16, 17, 18),\n",
       " (14, 20, 18),\n",
       " (20, 17, 20),\n",
       " (16, 16, 20),\n",
       " (14, 12, 18),\n",
       " (20, 9, 18),\n",
       " (12, 16, 14),\n",
       " (18, 16, 18),\n",
       " (18, 20, 14),\n",
       " (14, 14, 14),\n",
       " (14, 18, 16),\n",
       " (14, 12, 18)]"
      ]
     },
     "execution_count": 13,
     "metadata": {},
     "output_type": "execute_result"
    }
   ],
   "source": [
    "male_no_3 = [(male_no[i] , male_no[i + 1] , male_no[i + 2])  for i in range(0, len(male_no), 3)]\n",
    "\n",
    "male_no_3"
   ]
  },
  {
   "cell_type": "code",
   "execution_count": 14,
   "metadata": {
    "deletable": false,
    "editable": false,
    "nbgrader": {
     "cell_type": "code",
     "checksum": "678648c613d7b0495f2be8c1e2797e5d",
     "grade": true,
     "grade_id": "cell-c134b8035d412ddd",
     "locked": true,
     "points": 2,
     "schema_version": 3,
     "solution": false,
     "task": false
    }
   },
   "outputs": [],
   "source": [
    "assert len(male_no_3) == len(male_no) // 3\n",
    "assert len(male_no_3[0]) == 3"
   ]
  },
  {
   "cell_type": "markdown",
   "metadata": {
    "deletable": false,
    "editable": false,
    "nbgrader": {
     "cell_type": "markdown",
     "checksum": "ef3c811b63e3d6eace64daeb929be3a4",
     "grade": false,
     "grade_id": "cell-d2aa9c205b2eec25",
     "locked": true,
     "schema_version": 3,
     "solution": false,
     "task": false
    }
   },
   "source": [
    "### Funzioni su liste (3pt)\n",
    "\n",
    "Definire una funzione denominata `check_dup` con argomento `l` (si assume una lista) che restituisca il numero di duplicati in una lista. La funzione opera nel seguente modo:\n",
    "1. in una variabile locale memorizza una copia ordinata della lista `l`\n",
    "2. scandisce sequenzialmente la lista ordinata contando le volte in cui un elemento è uguale al successivo\n",
    "3. restituisce il conteggio.\n",
    "\n",
    "Nota: la funzione non deve modificare il contenuto di `l`.\n",
    "\n",
    "Applicare la funzione `check_dup` a `male_no` e a `male_no_3`."
   ]
  },
  {
   "cell_type": "code",
   "execution_count": 15,
   "metadata": {
    "deletable": false,
    "nbgrader": {
     "cell_type": "code",
     "checksum": "7a4acafaeb80c6552ab7b53729e50932",
     "grade": false,
     "grade_id": "cell-7a8da090954f1363",
     "locked": false,
     "schema_version": 3,
     "solution": true,
     "task": false
    }
   },
   "outputs": [
    {
     "name": "stdout",
     "output_type": "stream",
     "text": [
      "65\n",
      "1\n"
     ]
    }
   ],
   "source": [
    "def check_dup(l):\n",
    "    \n",
    "    import numpy as np\n",
    "    \n",
    "    sorted_list = sorted(l)\n",
    "    counter = 0\n",
    "    \n",
    "    for i in range(1 , len(sorted_list)):\n",
    "        counter += 1 if sorted_list[i] == sorted_list[i - 1] else 0\n",
    "        \n",
    "    return counter\n",
    "    \n",
    "    \n",
    "print(check_dup(male_no))\n",
    "print(check_dup(male_no_3))"
   ]
  },
  {
   "cell_type": "code",
   "execution_count": 16,
   "metadata": {
    "deletable": false,
    "editable": false,
    "nbgrader": {
     "cell_type": "code",
     "checksum": "ee3b0fc4705e5fe136973f509955a00d",
     "grade": true,
     "grade_id": "cell-2aec7b7318993d1f",
     "locked": true,
     "points": 3,
     "schema_version": 3,
     "solution": false,
     "task": false
    }
   },
   "outputs": [
    {
     "ename": "AssertionError",
     "evalue": "",
     "output_type": "error",
     "traceback": [
      "\u001b[0;31m---------------------------------------------------------------------------\u001b[0m",
      "\u001b[0;31mAssertionError\u001b[0m                            Traceback (most recent call last)",
      "\u001b[0;32m<ipython-input-16-60904a4acc3a>\u001b[0m in \u001b[0;36m<module>\u001b[0;34m\u001b[0m\n\u001b[1;32m      1\u001b[0m \u001b[0;32massert\u001b[0m \u001b[0mmale_no\u001b[0m \u001b[0;34m!=\u001b[0m \u001b[0msorted\u001b[0m\u001b[0;34m(\u001b[0m\u001b[0mmale_no\u001b[0m\u001b[0;34m)\u001b[0m\u001b[0;34m\u001b[0m\u001b[0;34m\u001b[0m\u001b[0m\n\u001b[1;32m      2\u001b[0m \u001b[0;32massert\u001b[0m \u001b[0mcheck_dup\u001b[0m\u001b[0;34m(\u001b[0m\u001b[0mmale_no_3\u001b[0m\u001b[0;34m)\u001b[0m \u001b[0;34m==\u001b[0m \u001b[0;36m1\u001b[0m\u001b[0;34m\u001b[0m\u001b[0;34m\u001b[0m\u001b[0m\n\u001b[0;32m----> 3\u001b[0;31m \u001b[0;32massert\u001b[0m \u001b[0mcheck_dup\u001b[0m\u001b[0;34m(\u001b[0m\u001b[0mmale_no\u001b[0m\u001b[0;34m)\u001b[0m \u001b[0;34m==\u001b[0m \u001b[0;36m64\u001b[0m\u001b[0;34m\u001b[0m\u001b[0;34m\u001b[0m\u001b[0m\n\u001b[0m",
      "\u001b[0;31mAssertionError\u001b[0m: "
     ]
    }
   ],
   "source": [
    "assert male_no != sorted(male_no)\n",
    "assert check_dup(male_no_3) == 1\n",
    "assert check_dup(male_no) == 64"
   ]
  },
  {
   "cell_type": "markdown",
   "metadata": {
    "deletable": false,
    "editable": false,
    "nbgrader": {
     "cell_type": "markdown",
     "checksum": "a6f3d40061e0c8779ab12c149ea6b966",
     "grade": false,
     "grade_id": "cell-eadd65a7e23137d8",
     "locked": true,
     "schema_version": 3,
     "solution": false,
     "task": false
    }
   },
   "source": [
    "### Elaborazione di stringhe (3 pt)\n",
    "\n",
    "Generare una stringa collegando tutti gli elementi della colonna `gender` del dataset separandoli dal carattere `':'`. Denominare la stringa risultante come `gs`."
   ]
  },
  {
   "cell_type": "code",
   "execution_count": null,
   "metadata": {
    "deletable": false,
    "nbgrader": {
     "cell_type": "code",
     "checksum": "cc6a9c4dfc47386c4f6bb4b0fcd520a9",
     "grade": false,
     "grade_id": "cell-2470121b49c6648c",
     "locked": false,
     "schema_version": 3,
     "solution": true,
     "task": false
    }
   },
   "outputs": [],
   "source": [
    "gs = ':'.join(dataset['gender'])\n",
    "\n",
    "gs"
   ]
  },
  {
   "cell_type": "code",
   "execution_count": null,
   "metadata": {
    "deletable": false,
    "editable": false,
    "nbgrader": {
     "cell_type": "code",
     "checksum": "176230b2596b1d1324c6d5f440859e9b",
     "grade": true,
     "grade_id": "cell-d55eb8563be42955",
     "locked": true,
     "points": 2,
     "schema_version": 3,
     "solution": false,
     "task": false
    }
   },
   "outputs": [],
   "source": [
    "assert set(gs)==set('fm:')"
   ]
  },
  {
   "cell_type": "code",
   "execution_count": null,
   "metadata": {
    "deletable": false,
    "editable": false,
    "nbgrader": {
     "cell_type": "code",
     "checksum": "3a04990ac22aabe4ec05d07b94b4e83d",
     "grade": true,
     "grade_id": "cell-d55eb8563be42956",
     "locked": true,
     "points": 1,
     "schema_version": 3,
     "solution": false,
     "task": false
    }
   },
   "outputs": [],
   "source": [
    "assert len([(gs[i], gs[i+1]) for i in range(0,len(gs)-1,2) if not(gs[i] in {'m','f'} and gs[i+1] == ':')])==0"
   ]
  },
  {
   "cell_type": "markdown",
   "metadata": {
    "deletable": false,
    "editable": false,
    "nbgrader": {
     "cell_type": "markdown",
     "checksum": "d92dd636401cf3af7d7a6403bb28456e",
     "grade": false,
     "grade_id": "cell-7fbd58ad79c5c52a",
     "locked": true,
     "schema_version": 3,
     "solution": false,
     "task": false
    }
   },
   "source": [
    "### Espressioni regolari (1 pt)\n",
    "\n",
    "Attraverso le espressioni regolari, contare i gruppi di sequenze di almeno 4 maschi o almeno 4 femmine. Memorizzare in `count` il risultati del conteggio"
   ]
  },
  {
   "cell_type": "code",
   "execution_count": null,
   "metadata": {
    "deletable": false,
    "nbgrader": {
     "cell_type": "code",
     "checksum": "fc8063fd21bc723cc5519ad29266a696",
     "grade": false,
     "grade_id": "cell-5f8c2c2e4fb6e412",
     "locked": false,
     "schema_version": 3,
     "solution": true,
     "task": false
    }
   },
   "outputs": [],
   "source": [
    "import re\n",
    "\n",
    "count = len(re.findall(r'(f:){4,}|(m:){4,}', gs))\n",
    "\n",
    "count"
   ]
  },
  {
   "cell_type": "code",
   "execution_count": null,
   "metadata": {
    "deletable": false,
    "editable": false,
    "nbgrader": {
     "cell_type": "code",
     "checksum": "726dfef6b5c0655dc14d3f5c9808678b",
     "grade": true,
     "grade_id": "cell-ea93a173f33c2398",
     "locked": true,
     "points": 1,
     "schema_version": 3,
     "solution": false,
     "task": false
    }
   },
   "outputs": [],
   "source": [
    "assert count == 39"
   ]
  }
 ],
 "metadata": {
  "kernelspec": {
   "display_name": "Python 3",
   "language": "python",
   "name": "python3"
  },
  "language_info": {
   "codemirror_mode": {
    "name": "ipython",
    "version": 3
   },
   "file_extension": ".py",
   "mimetype": "text/x-python",
   "name": "python",
   "nbconvert_exporter": "python",
   "pygments_lexer": "ipython3",
   "version": "3.8.8"
  }
 },
 "nbformat": 4,
 "nbformat_minor": 2
}

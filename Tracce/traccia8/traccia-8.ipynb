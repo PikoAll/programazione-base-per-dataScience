{
 "cells": [
  {
   "cell_type": "markdown",
   "metadata": {
    "deletable": false,
    "editable": false,
    "nbgrader": {
     "checksum": "888371777df6aa1bdd52e6754aa71553",
     "grade": false,
     "grade_id": "cell-fe142c7888e01719",
     "locked": true,
     "schema_version": 1,
     "solution": false
    }
   },
   "source": [
    "# Prova di esame (laboratorio)\n",
    "\n",
    "La prova avrà una durata massima di due ore e porterà a una valutazione massima di 21 punti. Il voto finale si otterrà per somma del punteggio del test di teoria e della prova di laboratorio. \n",
    "\n",
    "La prova consiste in un insieme di quiz proposti attraverso un Jupyter Notebook (non sono ammessi altri strumenti software) da svolgere sui computer del laboratorio (non sono ammessi altri strumenti hardware). Durante la prova si può consultare il libro di testo, le slide usate a lezione, un manuale python (approvato dal docente) oppure le guide in linea suggerite da Jupyter Notebook. Non sono ammessi altri strumenti di consultazione. "
   ]
  },
  {
   "cell_type": "markdown",
   "metadata": {
    "deletable": false,
    "editable": false,
    "nbgrader": {
     "checksum": "0109249b2f80a22e4f22f3da2c072fb1",
     "grade": false,
     "grade_id": "cell-9689b2f1c71af2ed",
     "locked": true,
     "schema_version": 1,
     "solution": false
    }
   },
   "source": [
    "**Prima della prova**\n",
    "\n",
    "Specificare la informazioni richieste nelle celle sottostanti e salvare il notebook con il proprio nome.\n",
    "\n",
    "**Durante la prova**\n",
    "\n",
    "Nelle celle markdown, cancellare il testo \"YOUR ANSWER HERE\" con la propria risposta. Nelle celle codice, rimuovere la linea di codice\n",
    "```python\n",
    "raise NotImplementedError()\n",
    "```\n",
    "e sostituirla con la propria implementazione.\n",
    "Dopo ogni cella codice che deve contenere la risposta al quesito, esiste una cella codice con delle *asserzioni*, ossia delle istruzioni che verificano la correttezza della propria soluzione. (Queste asserzioni saranno usate per valutare la correttezza della risposta data e assegnare un punteggio.) E' possibile eseguire queste celle per verificare che la soluzione proposta sia corretta.\n",
    "\n",
    "\n",
    "**Dopo la prova**\n",
    "\n",
    "Salvare il file dopo aver terminato. Consegnare l'elaborato utilizzando la piattaforma ADA. "
   ]
  },
  {
   "cell_type": "markdown",
   "metadata": {
    "deletable": false,
    "editable": false,
    "nbgrader": {
     "checksum": "a172831515f982ba1fa983420a9c955d",
     "grade": false,
     "grade_id": "cell-87a2a93c5c4ec366",
     "locked": true,
     "schema_version": 1,
     "solution": false
    }
   },
   "source": [
    "## Dataset"
   ]
  },
  {
   "cell_type": "markdown",
   "metadata": {
    "deletable": false,
    "editable": false,
    "nbgrader": {
     "checksum": "41507fcb88fe02f12621a733d4e2632d",
     "grade": false,
     "grade_id": "cell-9faeede5eae3f878",
     "locked": true,
     "schema_version": 1,
     "solution": false
    }
   },
   "source": [
    "### Dati Bond Yield\n",
    "#### Descrizione\n",
    "\n",
    "Medie mensili del rendimento di un'obbligazione aziendale con rating AAA di Moody's (in percentuale/anno).  \n",
    "\n",
    "#### Formato\n",
    "\n",
    "File CSV con 60 osservazioni di 2 variabili (più l'indice di riga):\n",
    "- **time** rappresenta il mese e l'anno secondo il formato frazionario (p.e. 1990.0 rappresenta \"gennaio 1990\", 1990.5 rappresenta \"luglio 1990\", 1990.75 rappresenta \"ottobre 1990\", etc.)\n",
    "- **value** rappresenta il rendimento percentuale (p.e. 8.99 rappresenta \"8.99%\")\n"
   ]
  },
  {
   "cell_type": "markdown",
   "metadata": {
    "deletable": false,
    "editable": false,
    "nbgrader": {
     "checksum": "8b0f8c96e16e50879a5c817978cc3904",
     "grade": false,
     "grade_id": "cell-2fb4322968bdf349",
     "locked": true,
     "schema_version": 1,
     "solution": false
    }
   },
   "source": [
    "## Domande"
   ]
  },
  {
   "cell_type": "markdown",
   "metadata": {
    "deletable": false,
    "editable": false,
    "nbgrader": {
     "checksum": "10b6a2edeccec6293bb08c93fc4c1ccf",
     "grade": false,
     "grade_id": "cell-5acd4046437997ea",
     "locked": true,
     "schema_version": 1,
     "solution": false
    }
   },
   "source": [
    "### Caricamento dati\n",
    "\n",
    "Definire un dataframe di nome `dataset` e popolarla con le righe del file `BondYield.csv`. Utilizzate la prima colonna come indice di riga (utilizzare il parametro `index_col`)"
   ]
  },
  {
   "cell_type": "code",
   "execution_count": 1,
   "metadata": {
    "deletable": false,
    "nbgrader": {
     "checksum": "7414a3346c45a35538890695fcfaefc6",
     "grade": false,
     "grade_id": "cell-e07bdfedfd0c707d",
     "locked": false,
     "schema_version": 1,
     "solution": true
    }
   },
   "outputs": [
    {
     "data": {
      "text/html": [
       "<div>\n",
       "<style scoped>\n",
       "    .dataframe tbody tr th:only-of-type {\n",
       "        vertical-align: middle;\n",
       "    }\n",
       "\n",
       "    .dataframe tbody tr th {\n",
       "        vertical-align: top;\n",
       "    }\n",
       "\n",
       "    .dataframe thead th {\n",
       "        text-align: right;\n",
       "    }\n",
       "</style>\n",
       "<table border=\"1\" class=\"dataframe\">\n",
       "  <thead>\n",
       "    <tr style=\"text-align: right;\">\n",
       "      <th></th>\n",
       "      <th>time</th>\n",
       "      <th>value</th>\n",
       "    </tr>\n",
       "  </thead>\n",
       "  <tbody>\n",
       "    <tr>\n",
       "      <th>1</th>\n",
       "      <td>1990.000000</td>\n",
       "      <td>8.99</td>\n",
       "    </tr>\n",
       "    <tr>\n",
       "      <th>2</th>\n",
       "      <td>1990.083333</td>\n",
       "      <td>9.72</td>\n",
       "    </tr>\n",
       "    <tr>\n",
       "      <th>3</th>\n",
       "      <td>1990.166667</td>\n",
       "      <td>9.37</td>\n",
       "    </tr>\n",
       "    <tr>\n",
       "      <th>4</th>\n",
       "      <td>1990.250000</td>\n",
       "      <td>9.46</td>\n",
       "    </tr>\n",
       "    <tr>\n",
       "      <th>5</th>\n",
       "      <td>1990.333333</td>\n",
       "      <td>9.47</td>\n",
       "    </tr>\n",
       "  </tbody>\n",
       "</table>\n",
       "</div>"
      ],
      "text/plain": [
       "          time  value\n",
       "1  1990.000000   8.99\n",
       "2  1990.083333   9.72\n",
       "3  1990.166667   9.37\n",
       "4  1990.250000   9.46\n",
       "5  1990.333333   9.47"
      ]
     },
     "execution_count": 1,
     "metadata": {},
     "output_type": "execute_result"
    }
   ],
   "source": [
    "import pandas as pd\n",
    "\n",
    "dataset = pd.read_csv('BondYield.csv' , index_col = 0)\n",
    "\n",
    "dataset.head()"
   ]
  },
  {
   "cell_type": "code",
   "execution_count": 2,
   "metadata": {
    "deletable": false,
    "editable": false,
    "nbgrader": {
     "checksum": "dab76eb9a1071544e2e6cc362bb65bc5",
     "grade": true,
     "grade_id": "cell-4d9c038b064ce1ba",
     "locked": true,
     "points": 1,
     "schema_version": 1,
     "solution": false
    }
   },
   "outputs": [],
   "source": [
    "assert dataset.shape[0] == 60   # 60 osservazioni"
   ]
  },
  {
   "cell_type": "code",
   "execution_count": 3,
   "metadata": {
    "deletable": false,
    "editable": false,
    "nbgrader": {
     "checksum": "7f9566e6eae00818ddece7ddb8157804",
     "grade": true,
     "grade_id": "cell-90386c6f098c4a16",
     "locked": true,
     "points": 1,
     "schema_version": 1,
     "solution": false
    }
   },
   "outputs": [],
   "source": [
    "assert dataset.shape[1] >= 2   # almeno 2 colonne"
   ]
  },
  {
   "cell_type": "code",
   "execution_count": 4,
   "metadata": {
    "deletable": false,
    "editable": false,
    "nbgrader": {
     "checksum": "8db542be20446c5097f7fe41bc036bee",
     "grade": true,
     "grade_id": "cell-6c2343029509c845",
     "locked": true,
     "points": 1,
     "schema_version": 1,
     "solution": false
    }
   },
   "outputs": [],
   "source": [
    "assert dataset.shape[1] == 2   # esattamente 2 colonne se la prima è usata come indice di riga"
   ]
  },
  {
   "cell_type": "markdown",
   "metadata": {
    "deletable": false,
    "editable": false,
    "nbgrader": {
     "checksum": "5d889198f3fa6996ed97bb06511005fd",
     "grade": false,
     "grade_id": "cell-7169cef8822ba498",
     "locked": true,
     "schema_version": 1,
     "solution": false
    }
   },
   "source": [
    "### Funzioni\n",
    "\n",
    "Definire una funzione di nome `date_fromFractional` che riceve un parametro di nome `frac_date` (assunto float) e restituisce una tupla `(month,year)` che corrisponde al mese e all'anno rappresentato da `frac_date`. Per esempio:\n",
    "- `date_fromFractional(1990.5) == (7, 1990)`\n",
    "- `date_fromFractional(1990.75) == (10, 1990)`\n",
    "\n",
    "**Nota** la funzione deve restituire risultati corretti per le date presenti nel dataset"
   ]
  },
  {
   "cell_type": "code",
   "execution_count": 5,
   "metadata": {
    "deletable": false,
    "nbgrader": {
     "checksum": "230004c79638fb8799c83437ceb90aff",
     "grade": false,
     "grade_id": "cell-b9edb1b9636cfaec",
     "locked": false,
     "schema_version": 1,
     "solution": true
    }
   },
   "outputs": [
    {
     "name": "stdout",
     "output_type": "stream",
     "text": [
      "(10, 1990)\n"
     ]
    }
   ],
   "source": [
    "import datetime as dt\n",
    "from math import ceil\n",
    "\n",
    "def date_fromFractional(frac_date):\n",
    " \n",
    "    date = dt.date(int(frac_date) , 1 , 1) + dt.timedelta(days = ceil(365 * (frac_date % 1)))\n",
    "    \n",
    "    return (date.month , date.year)\n",
    "\n",
    "\n",
    "print(date_fromFractional(1990.75))"
   ]
  },
  {
   "cell_type": "code",
   "execution_count": 6,
   "metadata": {
    "deletable": false,
    "editable": false,
    "nbgrader": {
     "checksum": "ee7936aaaf0762ed1eecb526ad5bbb2c",
     "grade": true,
     "grade_id": "cell-bcc8898b993e1c6f",
     "locked": true,
     "points": 1,
     "schema_version": 1,
     "solution": false
    }
   },
   "outputs": [],
   "source": [
    "assert date_fromFractional(1989.0) == (1, 1989)   # mese di gennaio corretto"
   ]
  },
  {
   "cell_type": "code",
   "execution_count": 7,
   "metadata": {
    "deletable": false,
    "editable": false,
    "nbgrader": {
     "checksum": "3ffbf31a56d593caf85e7f3224afd790",
     "grade": true,
     "grade_id": "cell-340d8e6a13361f05",
     "locked": true,
     "points": 1,
     "schema_version": 1,
     "solution": false
    }
   },
   "outputs": [],
   "source": [
    "assert date_fromFractional(1990.5) == (7, 1990)   # mese di luglio corretto"
   ]
  },
  {
   "cell_type": "code",
   "execution_count": 8,
   "metadata": {
    "deletable": false,
    "editable": false,
    "nbgrader": {
     "checksum": "c22f0c2dcb6c34269f2ea1c83f4b9b38",
     "grade": true,
     "grade_id": "cell-d8843b87c9326ff8",
     "locked": true,
     "points": 1,
     "schema_version": 1,
     "solution": false
    }
   },
   "outputs": [],
   "source": [
    "assert date_fromFractional(dataset.time.iat[1]) == (2, 1990) # febbraio 1990 come nel dataset"
   ]
  },
  {
   "cell_type": "code",
   "execution_count": 9,
   "metadata": {
    "deletable": false,
    "editable": false,
    "nbgrader": {
     "checksum": "5adfe20dda47d0b25fef60668a382395",
     "grade": true,
     "grade_id": "cell-0d96f07cbe0e1681",
     "locked": true,
     "points": 1,
     "schema_version": 1,
     "solution": false
    }
   },
   "outputs": [],
   "source": [
    "assert all(date_fromFractional(1990+i/12) == (i+1, 1990) for i in range(12)) # tutti i mesi alla precisione di macchina"
   ]
  },
  {
   "cell_type": "markdown",
   "metadata": {
    "deletable": false,
    "editable": false,
    "nbgrader": {
     "checksum": "334031b23fd013d63ac3a9caf823b8da",
     "grade": false,
     "grade_id": "cell-4ad96c474d23e1e1",
     "locked": true,
     "schema_version": 1,
     "solution": false
    }
   },
   "source": [
    "### Manipolazione dataframe\n",
    "\n",
    "Sostituire la colonna `time` di `dataset` con due colonne, denominate `month` e `year` che conterranno, rispettivamente, mese e anno restituite dalla funzione `date_fromFractional` applicata al valore di `time`.\n",
    "\n",
    "**Attenzione** Gli indici del dataset iniziano da 1, non da 0. Si suggerisce di costruire prima due Series contenenti il mese e l'anno, con gli stessi indici del dataset (l'indice del dataset si ottiene con l'attributo `dataset.index`) e poi unire le due Series al dataset. Infine si può rimuovere la colonna `time`.\n",
    "\n",
    "*Nota:* Se la funzione `date_fromFractional` non è stata correttamente implementata, inserire a mano i valori di mese e anno."
   ]
  },
  {
   "cell_type": "code",
   "execution_count": 10,
   "metadata": {
    "deletable": false,
    "nbgrader": {
     "checksum": "a28f43389ffc2f05491cf0b52a9b8353",
     "grade": false,
     "grade_id": "cell-05ecfb9a6ff1944b",
     "locked": false,
     "schema_version": 1,
     "solution": true
    }
   },
   "outputs": [
    {
     "data": {
      "text/html": [
       "<div>\n",
       "<style scoped>\n",
       "    .dataframe tbody tr th:only-of-type {\n",
       "        vertical-align: middle;\n",
       "    }\n",
       "\n",
       "    .dataframe tbody tr th {\n",
       "        vertical-align: top;\n",
       "    }\n",
       "\n",
       "    .dataframe thead th {\n",
       "        text-align: right;\n",
       "    }\n",
       "</style>\n",
       "<table border=\"1\" class=\"dataframe\">\n",
       "  <thead>\n",
       "    <tr style=\"text-align: right;\">\n",
       "      <th></th>\n",
       "      <th>value</th>\n",
       "      <th>month</th>\n",
       "      <th>year</th>\n",
       "    </tr>\n",
       "  </thead>\n",
       "  <tbody>\n",
       "    <tr>\n",
       "      <th>1</th>\n",
       "      <td>8.99</td>\n",
       "      <td>1</td>\n",
       "      <td>1990</td>\n",
       "    </tr>\n",
       "    <tr>\n",
       "      <th>2</th>\n",
       "      <td>9.72</td>\n",
       "      <td>2</td>\n",
       "      <td>1990</td>\n",
       "    </tr>\n",
       "    <tr>\n",
       "      <th>3</th>\n",
       "      <td>9.37</td>\n",
       "      <td>3</td>\n",
       "      <td>1990</td>\n",
       "    </tr>\n",
       "    <tr>\n",
       "      <th>4</th>\n",
       "      <td>9.46</td>\n",
       "      <td>4</td>\n",
       "      <td>1990</td>\n",
       "    </tr>\n",
       "    <tr>\n",
       "      <th>5</th>\n",
       "      <td>9.47</td>\n",
       "      <td>5</td>\n",
       "      <td>1990</td>\n",
       "    </tr>\n",
       "  </tbody>\n",
       "</table>\n",
       "</div>"
      ],
      "text/plain": [
       "   value  month  year\n",
       "1   8.99      1  1990\n",
       "2   9.72      2  1990\n",
       "3   9.37      3  1990\n",
       "4   9.46      4  1990\n",
       "5   9.47      5  1990"
      ]
     },
     "execution_count": 10,
     "metadata": {},
     "output_type": "execute_result"
    }
   ],
   "source": [
    "time = 'time'\n",
    "dataset[['month', 'year']] = [(date_fromFractional(time)[0] , date_fromFractional(time)[1]) for time in dataset.pop(time)]\n",
    "\n",
    "dataset.head()"
   ]
  },
  {
   "cell_type": "code",
   "execution_count": 11,
   "metadata": {
    "deletable": false,
    "editable": false,
    "nbgrader": {
     "checksum": "58f98cf220521b5e2585197a020e1837",
     "grade": true,
     "grade_id": "cell-617c143fe2e266cc",
     "locked": true,
     "points": 1,
     "schema_version": 1,
     "solution": false
    }
   },
   "outputs": [],
   "source": [
    "assert not dataset.month.empty   # è presente la colonna month"
   ]
  },
  {
   "cell_type": "code",
   "execution_count": 12,
   "metadata": {
    "deletable": false,
    "editable": false,
    "nbgrader": {
     "checksum": "65992cc5ffe872c0df5eacb315b52f10",
     "grade": true,
     "grade_id": "cell-333bfd72c6b174bd",
     "locked": true,
     "points": 1,
     "schema_version": 1,
     "solution": false
    }
   },
   "outputs": [],
   "source": [
    "assert not dataset.year.empty    # è presente la colonna year"
   ]
  },
  {
   "cell_type": "code",
   "execution_count": 13,
   "metadata": {
    "deletable": false,
    "editable": false,
    "nbgrader": {
     "checksum": "b554adf6b103099197dc7326eb99c6bc",
     "grade": true,
     "grade_id": "cell-72cfde5c3ae3f858",
     "locked": true,
     "points": 1,
     "schema_version": 1,
     "solution": false
    }
   },
   "outputs": [],
   "source": [
    "assert (dataset.month.iat[0], dataset.year.iat[0]) == (1, 1990) # le nuove colonne hanno valori corretti"
   ]
  },
  {
   "cell_type": "code",
   "execution_count": 14,
   "metadata": {
    "deletable": false,
    "editable": false,
    "nbgrader": {
     "checksum": "5c85bad953a410c0147a5dae9f7323a4",
     "grade": true,
     "grade_id": "cell-2c1c3be42d6593d8",
     "locked": true,
     "points": 1,
     "schema_version": 1,
     "solution": false
    }
   },
   "outputs": [],
   "source": [
    "assert time not in dataset.columns # la colonna `time` è stata rimossa"
   ]
  },
  {
   "cell_type": "code",
   "execution_count": 15,
   "metadata": {
    "deletable": false,
    "editable": false,
    "nbgrader": {
     "checksum": "49204ed1ba51f0f200575e01b1094982",
     "grade": true,
     "grade_id": "cell-162cbd96746bc5f8",
     "locked": true,
     "points": 1,
     "schema_version": 1,
     "solution": false
    }
   },
   "outputs": [],
   "source": [
    "assert 0 not in dataset.index  # l'indice 0 non è presente nel dataset."
   ]
  },
  {
   "cell_type": "markdown",
   "metadata": {
    "deletable": false,
    "editable": false,
    "nbgrader": {
     "checksum": "a31ca7b1c2c460d5fa6d2e72939e7e31",
     "grade": false,
     "grade_id": "cell-728e810aaadd87a6",
     "locked": true,
     "schema_version": 1,
     "solution": false
    }
   },
   "source": [
    "### Dizionari\n",
    "\n",
    "Definire un dizionario denominato `yearly_stats` che associa a ciascun anno presente nel dataset un altro dizionario con le voci `'min'` e `'max'` che contengano rispettivamente, il minimo e il massimo valore della colonna `value` del dataset, limitatamente all'anno della voce principale. Per esempio, `yearly_stats` conterrà la voce `1990` il cui valore è un dizionario con la voce `'min'` con valore `8.99` e la voce `'max'` con valore `9.72`, corrispondenti ai rendimenti minimi e massimi per l'anno 1990 registrati nel dataset.\n",
    "\n",
    "**Nota** Assicurarsi che gli anni siano memorizzati come voci del dizionario siano di tipo `int`."
   ]
  },
  {
   "cell_type": "code",
   "execution_count": 16,
   "metadata": {
    "deletable": false,
    "nbgrader": {
     "checksum": "2077a992fd2c0ed921761a31d12af170",
     "grade": false,
     "grade_id": "cell-11e52afb7be70eed",
     "locked": false,
     "schema_version": 1,
     "solution": true
    }
   },
   "outputs": [
    {
     "data": {
      "text/plain": [
       "{1990: {'min': 8.99, 'max': 9.72},\n",
       " 1991: {'min': 8.31, 'max': 9.04},\n",
       " 1992: {'min': 7.92, 'max': 8.35},\n",
       " 1993: {'min': 6.66, 'max': 7.91},\n",
       " 1994: {'min': 6.92, 'max': 8.68}}"
      ]
     },
     "execution_count": 16,
     "metadata": {},
     "output_type": "execute_result"
    }
   ],
   "source": [
    "yearly_stats = dict(\n",
    "    (elem , {'min' : dataset[dataset.year == elem].value.min() , 'max' : dataset[dataset.year == elem].value.max()}) \n",
    "    for elem in dataset.year\n",
    ")\n",
    "    \n",
    "yearly_stats"
   ]
  },
  {
   "cell_type": "code",
   "execution_count": 17,
   "metadata": {
    "deletable": false,
    "editable": false,
    "nbgrader": {
     "checksum": "a01aea25a549562a7197aca366c21924",
     "grade": true,
     "grade_id": "cell-919ab1108b7e5c9f",
     "locked": true,
     "points": 1,
     "schema_version": 1,
     "solution": false
    }
   },
   "outputs": [],
   "source": [
    "assert all(y in yearly_stats for y in range(1990, 1994+1))  # tutti gli anni nel dizionario"
   ]
  },
  {
   "cell_type": "code",
   "execution_count": 18,
   "metadata": {
    "deletable": false,
    "editable": false,
    "nbgrader": {
     "checksum": "02ed99ddc0c4d690c9c18a05d16dea71",
     "grade": true,
     "grade_id": "cell-b695545ce260e37a",
     "locked": true,
     "points": 1,
     "schema_version": 1,
     "solution": false
    }
   },
   "outputs": [],
   "source": [
    "assert all(all(k in yearly_stats[y] for k in ['min','max']) for y in yearly_stats) # struttura corretta del dizionario"
   ]
  },
  {
   "cell_type": "code",
   "execution_count": 19,
   "metadata": {
    "deletable": false,
    "editable": false,
    "nbgrader": {
     "checksum": "00dfd9df7eac88148145e1ba370515d7",
     "grade": true,
     "grade_id": "cell-8e528a0d62435dba",
     "locked": true,
     "points": 1,
     "schema_version": 1,
     "solution": false
    }
   },
   "outputs": [],
   "source": [
    "assert all(yearly_stats[y]['min'] <= yearly_stats[y]['max'] for y in yearly_stats) # contenuto valido"
   ]
  },
  {
   "cell_type": "code",
   "execution_count": 20,
   "metadata": {
    "deletable": false,
    "editable": false,
    "nbgrader": {
     "checksum": "8ad4d7e0a20429d495a1e56baf27cc6b",
     "grade": true,
     "grade_id": "cell-96e4784024009d29",
     "locked": true,
     "points": 0,
     "schema_version": 1,
     "solution": false
    }
   },
   "outputs": [],
   "source": [
    "assert all(type(y) == int for y in yearly_stats)   # (Non valutato) Attenzione al tipo della chiave del dizionario"
   ]
  },
  {
   "cell_type": "markdown",
   "metadata": {
    "deletable": false,
    "editable": false,
    "nbgrader": {
     "checksum": "faccf9e8ce3fe771a44a1b53de5d6988",
     "grade": false,
     "grade_id": "cell-a0764f08e930ff19",
     "locked": true,
     "schema_version": 1,
     "solution": false
    }
   },
   "source": [
    "### JSON\n",
    "\n",
    "Salvare il dizionario `yearly_stats` in un file denominato `yearly_stats.json` nel formato JSON."
   ]
  },
  {
   "cell_type": "code",
   "execution_count": 21,
   "metadata": {
    "deletable": false,
    "nbgrader": {
     "checksum": "c5f91c6dcb231ff31d01efc80428f49f",
     "grade": false,
     "grade_id": "cell-02d301a692f012e2",
     "locked": false,
     "schema_version": 1,
     "solution": true
    }
   },
   "outputs": [],
   "source": [
    "import json\n",
    "\n",
    "with open(\"yearly_stats.json\", \"w\") as yearly_st:\n",
    "    json.dump(yearly_stats , yearly_st)"
   ]
  },
  {
   "cell_type": "code",
   "execution_count": 22,
   "metadata": {
    "deletable": false,
    "editable": false,
    "nbgrader": {
     "checksum": "17d69e86f42b02288e364023e6014ca5",
     "grade": true,
     "grade_id": "cell-eab4d76a8be52be3",
     "locked": true,
     "points": 1,
     "schema_version": 1,
     "solution": false
    }
   },
   "outputs": [],
   "source": [
    "with open('yearly_stats.json', 'r') as jsonfile:\n",
    "    test_dict = json.load(jsonfile)\n",
    "    "
   ]
  },
  {
   "cell_type": "markdown",
   "metadata": {
    "deletable": false,
    "editable": false,
    "nbgrader": {
     "checksum": "5dc2e56c6315c358e6338d79eb13a5a3",
     "grade": false,
     "grade_id": "cell-eff24df2e28abf59",
     "locked": true,
     "schema_version": 1,
     "solution": false
    }
   },
   "source": [
    "### Comprensioni di lista\n",
    "\n",
    "Estrarre la colonna `value` del dataset e memorizzarla in una lista denominata `yields`. Da questa lista definire un'altra lista denominata `yields_diff` il cui valore in posizione `i` è `'+'` se la differenza tra i valori in posizione `i+1` e `i` in `yields` è positiva, altrimenti sarà `'-'`. Utilizzare le comprensioni di lista per calcolare il risultato. Prestare attenzione alla lunghezza della lista risultante."
   ]
  },
  {
   "cell_type": "code",
   "execution_count": 23,
   "metadata": {
    "deletable": false,
    "nbgrader": {
     "checksum": "d2b9eb030351d8c3d0b0481d0eeeb6c6",
     "grade": false,
     "grade_id": "cell-69579d0eef1c9b10",
     "locked": false,
     "schema_version": 1,
     "solution": true
    }
   },
   "outputs": [
    {
     "data": {
      "text/plain": [
       "['+', '-', '+', '+', '-', '-', '+', '+', '-', '-']"
      ]
     },
     "execution_count": 23,
     "metadata": {},
     "output_type": "execute_result"
    }
   ],
   "source": [
    "yields = list(dataset.value)\n",
    "yields_diff = ['+' if yields[i] - yields[i - 1] > 0 else '-' for i in range(1 , len(yields))]\n",
    "\n",
    "yields_diff[0:10]"
   ]
  },
  {
   "cell_type": "code",
   "execution_count": 24,
   "metadata": {
    "deletable": false,
    "editable": false,
    "nbgrader": {
     "checksum": "66dd7f21545dba16aa47771789549ee0",
     "grade": true,
     "grade_id": "cell-78929e148a857757",
     "locked": true,
     "points": 1,
     "schema_version": 1,
     "solution": false
    }
   },
   "outputs": [],
   "source": [
    "assert yields_diff[0:10] == ['+', '-', '+', '+', '-', '-', '+', '+', '-', '-'] # Contenuto corretto"
   ]
  },
  {
   "cell_type": "code",
   "execution_count": 25,
   "metadata": {
    "deletable": false,
    "editable": false,
    "nbgrader": {
     "checksum": "54d08328e190a43f9427fcd8d370bbc0",
     "grade": true,
     "grade_id": "cell-2f885b7a8663cd33",
     "locked": true,
     "points": 1,
     "schema_version": 1,
     "solution": false
    }
   },
   "outputs": [],
   "source": [
    "assert len(yields_diff) == len(yields)-1 # Lunghezza corretta"
   ]
  },
  {
   "cell_type": "markdown",
   "metadata": {
    "deletable": false,
    "editable": false,
    "nbgrader": {
     "checksum": "d537f611217486578cb95a6832d57080",
     "grade": false,
     "grade_id": "cell-35247bc4176c1109",
     "locked": true,
     "schema_version": 1,
     "solution": false
    }
   },
   "source": [
    "### Espressioni regolari\n",
    "\n",
    "Convertire `yields_diff` in una stringa e memorizzare il risultato in una variabile denominata `yields_diff_str`."
   ]
  },
  {
   "cell_type": "code",
   "execution_count": 26,
   "metadata": {
    "deletable": false,
    "nbgrader": {
     "checksum": "07ba4d890019d546ed8e2efc51698138",
     "grade": false,
     "grade_id": "cell-ccdef60a20b285ad",
     "locked": false,
     "schema_version": 1,
     "solution": true
    }
   },
   "outputs": [
    {
     "data": {
      "text/plain": [
       "'+-++--++-----+--+-------++------++----------++--++++-+-+++-'"
      ]
     },
     "execution_count": 26,
     "metadata": {},
     "output_type": "execute_result"
    }
   ],
   "source": [
    "yields_diff_str = ''.join(elem for elem in yields_diff)\n",
    "\n",
    "yields_diff_str"
   ]
  },
  {
   "cell_type": "code",
   "execution_count": 27,
   "metadata": {
    "deletable": false,
    "editable": false,
    "nbgrader": {
     "checksum": "b1ef54065a5bb07f409548d52f0e78dd",
     "grade": true,
     "grade_id": "cell-795f0af4ea8aaa3e",
     "locked": true,
     "points": 1,
     "schema_version": 1,
     "solution": false
    }
   },
   "outputs": [],
   "source": [
    "assert all(c in yields_diff_str for c in '+-') and type(yields_diff_str) == str # yields_diff_str è una stringa corretta"
   ]
  },
  {
   "cell_type": "markdown",
   "metadata": {
    "deletable": false,
    "editable": false,
    "nbgrader": {
     "checksum": "28d5572d5c67820e24db4c7b5748c53b",
     "grade": false,
     "grade_id": "cell-58a151db8e78c8f7",
     "locked": true,
     "schema_version": 1,
     "solution": false
    }
   },
   "source": [
    "Utilizzando le espressioni regolari, estrarre tutte le sottostringhe contenenti almeno 3 caratteri uguali. Memorizzare le sottostringhe in una lista denominata `subs`."
   ]
  },
  {
   "cell_type": "code",
   "execution_count": 28,
   "metadata": {
    "deletable": false,
    "nbgrader": {
     "checksum": "bbfceafdc946345701e706bf6ade598a",
     "grade": false,
     "grade_id": "cell-c560f4b6b6e14121",
     "locked": false,
     "schema_version": 1,
     "solution": true
    }
   },
   "outputs": [
    {
     "data": {
      "text/plain": [
       "['-----', '-------', '------', '----------', '++++', '+++']"
      ]
     },
     "execution_count": 28,
     "metadata": {},
     "output_type": "execute_result"
    }
   ],
   "source": [
    "import re\n",
    "\n",
    "subs = re.findall(r'[+]{3,}|[-]{3,}' , yields_diff_str)\n",
    "\n",
    "subs"
   ]
  },
  {
   "cell_type": "code",
   "execution_count": 29,
   "metadata": {
    "deletable": false,
    "editable": false,
    "nbgrader": {
     "checksum": "4e3fbfaaad7f08bb9359e6b47c76c7df",
     "grade": true,
     "grade_id": "cell-b7e62e7df5e42451",
     "locked": true,
     "points": 1,
     "schema_version": 1,
     "solution": false
    }
   },
   "outputs": [],
   "source": [
    "assert all(len(s)>=3 for s in subs)   # Tutte le sottostringhe hanno almeno tre caratteri"
   ]
  },
  {
   "cell_type": "code",
   "execution_count": 30,
   "metadata": {
    "deletable": false,
    "editable": false,
    "nbgrader": {
     "checksum": "efa6e05a34eb6063de04bcd453ab3ebc",
     "grade": true,
     "grade_id": "cell-c939a588784f42c1",
     "locked": true,
     "points": 1,
     "schema_version": 1,
     "solution": false
    }
   },
   "outputs": [],
   "source": [
    "assert all(len(set(s)) == 1 for s in subs) # Ogni sottostringa ha lo stesso carattere replicato più volte."
   ]
  }
 ],
 "metadata": {
  "kernelspec": {
   "display_name": "Python 3",
   "language": "python",
   "name": "python3"
  },
  "language_info": {
   "codemirror_mode": {
    "name": "ipython",
    "version": 3
   },
   "file_extension": ".py",
   "mimetype": "text/x-python",
   "name": "python",
   "nbconvert_exporter": "python",
   "pygments_lexer": "ipython3",
   "version": "3.8.8"
  },
  "nbTranslate": {
   "displayLangs": [
    "it"
   ],
   "hotkey": "alt-t",
   "langInMainMenu": true,
   "sourceLang": "en",
   "targetLang": "it",
   "useGoogleTranslate": true
  },
  "toc": {
   "base_numbering": 1,
   "nav_menu": {},
   "number_sections": true,
   "sideBar": true,
   "skip_h1_title": false,
   "title_cell": "Table of Contents",
   "title_sidebar": "Contents",
   "toc_cell": false,
   "toc_position": {},
   "toc_section_display": true,
   "toc_window_display": false
  },
  "varInspector": {
   "cols": {
    "lenName": 16,
    "lenType": 16,
    "lenVar": 40
   },
   "kernels_config": {
    "python": {
     "delete_cmd_postfix": "",
     "delete_cmd_prefix": "del ",
     "library": "var_list.py",
     "varRefreshCmd": "print(var_dic_list())"
    },
    "r": {
     "delete_cmd_postfix": ") ",
     "delete_cmd_prefix": "rm(",
     "library": "var_list.r",
     "varRefreshCmd": "cat(var_dic_list()) "
    }
   },
   "types_to_exclude": [
    "module",
    "function",
    "builtin_function_or_method",
    "instance",
    "_Feature"
   ],
   "window_display": false
  }
 },
 "nbformat": 4,
 "nbformat_minor": 4
}

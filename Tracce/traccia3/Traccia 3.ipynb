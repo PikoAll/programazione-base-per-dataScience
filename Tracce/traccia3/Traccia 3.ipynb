{
 "cells": [
  {
   "cell_type": "markdown",
   "metadata": {},
   "source": [
    "# Prova di esame (laboratorio)\n",
    "\n",
    "La prova avrà una durata massima di due ore e porterà a una valutazione massima di 21 punti. Il voto finale si otterrà per somma del punteggio del test di teoria e della prova di laboratorio. \n",
    "\n",
    "La prova consiste in un insieme di quiz proposti attraverso un Jupyter Notebook (non sono ammessi altri strumenti software) da svolgere sui computer del laboratorio (non sono ammessi altri strumenti hardware). Durante la prova si può consultare il libro di testo, le slide usate a lezione, un manuale python (approvato dal docente) oppure le guide in linea suggerite da Jupyter Notebook. Non sono ammessi altri strumenti di consultazione. "
   ]
  },
  {
   "cell_type": "markdown",
   "metadata": {},
   "source": [
    "### Prima della prova\n",
    "\n",
    "Specificare la informazioni richieste nelle celle sottostanti e salvare il notebook con il proprio nome.\n",
    "\n",
    "### Durante la prova\n",
    "\n",
    "Nelle celle markdown, cancellare il testo \"YOUR ANSWER HERE\" con la propria risposta. Nelle celle codice, rimuovere la linea di codice\n",
    "```python\n",
    "raise NotImplementedError()\n",
    "```\n",
    "e sostituirla con la propria implementazione.\n",
    "Dopo ogni cella codice che deve contenere la risposta al quesito, esiste una cella codice con delle *asserzioni*, ossia delle istruzioni che verificano la correttezza della propria soluzione. (Queste asserzioni saranno usate per valutare la correttezza della risposta data e assegnare un punteggio.) E' possibile eseguire queste celle per verificare che la soluzione proposta sia corretta.\n",
    "\n",
    "\n",
    "### Dopo la prova\n",
    "\n",
    "Salvare il file dopo aver terminato. Consegnare l'elaborato utilizzando la piattaforma ADA. "
   ]
  },
  {
   "cell_type": "markdown",
   "metadata": {},
   "source": [
    "## Traccia"
   ]
  },
  {
   "cell_type": "markdown",
   "metadata": {},
   "source": [
    "### Urine Analysis Data\n",
    "\n",
    "79 campioni di urine sono stati analizzati per dererminare se alcune caratteristiche fisiche dell'urina può essere collegata con la formazione di cristalli di ossalato di calcio. \n",
    "\n",
    "#### Formato\n",
    "Ogni riga è costituita dalle seguenti colonne, oltre lo ID: \n",
    "- r: Indicatore della presenza di cristalli di ossalato di calcio\n",
    "- gravity: peso specifico dell'urina\n",
    "- ph: valore di ph dell'urina\n",
    "- osmo: osmolarità dell'urina (concentrazione di molecole nella soluzione)\n",
    "- cond: conduttività dell'urina (concentrazione di ioni carichi nella soluzione)\n",
    "- urea: concentrazione di urea (in millimoli per litro)\n",
    "- calc: concentrazione di calcio\n"
   ]
  },
  {
   "cell_type": "markdown",
   "metadata": {},
   "source": [
    "## Caricamento dati\n",
    "\n",
    "Caricare il dataset `urine.csv` in un DataFrame di nome `dataset`. Utilizzate la prima colonna come indice di riga (utilizzare il parametro `index_col`)"
   ]
  },
  {
   "cell_type": "code",
   "execution_count": 1,
   "metadata": {
    "scrolled": true
   },
   "outputs": [
    {
     "data": {
      "text/html": [
       "<div>\n",
       "<style scoped>\n",
       "    .dataframe tbody tr th:only-of-type {\n",
       "        vertical-align: middle;\n",
       "    }\n",
       "\n",
       "    .dataframe tbody tr th {\n",
       "        vertical-align: top;\n",
       "    }\n",
       "\n",
       "    .dataframe thead th {\n",
       "        text-align: right;\n",
       "    }\n",
       "</style>\n",
       "<table border=\"1\" class=\"dataframe\">\n",
       "  <thead>\n",
       "    <tr style=\"text-align: right;\">\n",
       "      <th></th>\n",
       "      <th>r</th>\n",
       "      <th>gravity</th>\n",
       "      <th>ph</th>\n",
       "      <th>osmo</th>\n",
       "      <th>cond</th>\n",
       "      <th>urea</th>\n",
       "      <th>calc</th>\n",
       "    </tr>\n",
       "  </thead>\n",
       "  <tbody>\n",
       "    <tr>\n",
       "      <th>1</th>\n",
       "      <td>0</td>\n",
       "      <td>1.021</td>\n",
       "      <td>4.91</td>\n",
       "      <td>725.0</td>\n",
       "      <td>NaN</td>\n",
       "      <td>443</td>\n",
       "      <td>2.45</td>\n",
       "    </tr>\n",
       "    <tr>\n",
       "      <th>2</th>\n",
       "      <td>0</td>\n",
       "      <td>1.017</td>\n",
       "      <td>5.74</td>\n",
       "      <td>577.0</td>\n",
       "      <td>20.0</td>\n",
       "      <td>296</td>\n",
       "      <td>4.49</td>\n",
       "    </tr>\n",
       "    <tr>\n",
       "      <th>3</th>\n",
       "      <td>0</td>\n",
       "      <td>1.008</td>\n",
       "      <td>7.20</td>\n",
       "      <td>321.0</td>\n",
       "      <td>14.9</td>\n",
       "      <td>101</td>\n",
       "      <td>2.36</td>\n",
       "    </tr>\n",
       "    <tr>\n",
       "      <th>4</th>\n",
       "      <td>0</td>\n",
       "      <td>1.011</td>\n",
       "      <td>5.51</td>\n",
       "      <td>408.0</td>\n",
       "      <td>12.6</td>\n",
       "      <td>224</td>\n",
       "      <td>2.15</td>\n",
       "    </tr>\n",
       "    <tr>\n",
       "      <th>5</th>\n",
       "      <td>0</td>\n",
       "      <td>1.005</td>\n",
       "      <td>6.52</td>\n",
       "      <td>187.0</td>\n",
       "      <td>7.5</td>\n",
       "      <td>91</td>\n",
       "      <td>1.16</td>\n",
       "    </tr>\n",
       "    <tr>\n",
       "      <th>...</th>\n",
       "      <td>...</td>\n",
       "      <td>...</td>\n",
       "      <td>...</td>\n",
       "      <td>...</td>\n",
       "      <td>...</td>\n",
       "      <td>...</td>\n",
       "      <td>...</td>\n",
       "    </tr>\n",
       "    <tr>\n",
       "      <th>75</th>\n",
       "      <td>1</td>\n",
       "      <td>1.025</td>\n",
       "      <td>7.90</td>\n",
       "      <td>721.0</td>\n",
       "      <td>23.6</td>\n",
       "      <td>301</td>\n",
       "      <td>9.04</td>\n",
       "    </tr>\n",
       "    <tr>\n",
       "      <th>76</th>\n",
       "      <td>1</td>\n",
       "      <td>1.017</td>\n",
       "      <td>4.81</td>\n",
       "      <td>410.0</td>\n",
       "      <td>13.3</td>\n",
       "      <td>195</td>\n",
       "      <td>0.58</td>\n",
       "    </tr>\n",
       "    <tr>\n",
       "      <th>77</th>\n",
       "      <td>1</td>\n",
       "      <td>1.024</td>\n",
       "      <td>5.40</td>\n",
       "      <td>803.0</td>\n",
       "      <td>21.8</td>\n",
       "      <td>394</td>\n",
       "      <td>7.82</td>\n",
       "    </tr>\n",
       "    <tr>\n",
       "      <th>78</th>\n",
       "      <td>1</td>\n",
       "      <td>1.016</td>\n",
       "      <td>6.81</td>\n",
       "      <td>594.0</td>\n",
       "      <td>21.4</td>\n",
       "      <td>255</td>\n",
       "      <td>12.20</td>\n",
       "    </tr>\n",
       "    <tr>\n",
       "      <th>79</th>\n",
       "      <td>1</td>\n",
       "      <td>1.015</td>\n",
       "      <td>6.03</td>\n",
       "      <td>416.0</td>\n",
       "      <td>12.8</td>\n",
       "      <td>178</td>\n",
       "      <td>9.39</td>\n",
       "    </tr>\n",
       "  </tbody>\n",
       "</table>\n",
       "<p>79 rows × 7 columns</p>\n",
       "</div>"
      ],
      "text/plain": [
       "    r  gravity    ph   osmo  cond  urea   calc\n",
       "1   0    1.021  4.91  725.0   NaN   443   2.45\n",
       "2   0    1.017  5.74  577.0  20.0   296   4.49\n",
       "3   0    1.008  7.20  321.0  14.9   101   2.36\n",
       "4   0    1.011  5.51  408.0  12.6   224   2.15\n",
       "5   0    1.005  6.52  187.0   7.5    91   1.16\n",
       ".. ..      ...   ...    ...   ...   ...    ...\n",
       "75  1    1.025  7.90  721.0  23.6   301   9.04\n",
       "76  1    1.017  4.81  410.0  13.3   195   0.58\n",
       "77  1    1.024  5.40  803.0  21.8   394   7.82\n",
       "78  1    1.016  6.81  594.0  21.4   255  12.20\n",
       "79  1    1.015  6.03  416.0  12.8   178   9.39\n",
       "\n",
       "[79 rows x 7 columns]"
      ]
     },
     "execution_count": 1,
     "metadata": {},
     "output_type": "execute_result"
    }
   ],
   "source": [
    "import pandas as pd \n",
    "\n",
    "dataset = pd.read_csv('urine.csv' , index_col = 0)\n",
    "\n",
    "dataset"
   ]
  },
  {
   "cell_type": "code",
   "execution_count": 2,
   "metadata": {
    "scrolled": true
   },
   "outputs": [],
   "source": [
    "assert dataset.shape == (79, 7)"
   ]
  },
  {
   "cell_type": "markdown",
   "metadata": {},
   "source": [
    "### Lista di medie \n",
    "\n",
    "Definire una lista denominata `means`, costituita da due elementi. L'elemento in posizione 0 contiene il calcolo delle medie delle colonne del dataset per r=0; analogamente, l'elemento in posizione 1 contiene il calcolo delle medie delle colonne del dataset per r=1. Utilizzare il metodo `mean` di DataFrame per calcolare le medie. "
   ]
  },
  {
   "cell_type": "code",
   "execution_count": 3,
   "metadata": {},
   "outputs": [
    {
     "data": {
      "text/plain": [
       "[r            0.000000\n",
       " gravity      1.015489\n",
       " ph           6.098667\n",
       " osmo       565.288889\n",
       " cond        20.550000\n",
       " urea       237.111111\n",
       " calc         2.624889\n",
       " dtype: float64,\n",
       " r            1.000000\n",
       " gravity      1.021588\n",
       " ph           5.935588\n",
       " osmo       682.878788\n",
       " cond        21.355882\n",
       " urea       305.176471\n",
       " calc         6.142941\n",
       " dtype: float64]"
      ]
     },
     "execution_count": 3,
     "metadata": {},
     "output_type": "execute_result"
    }
   ],
   "source": [
    "means = [dataset[dataset.r == r].mean() for r in (0 , 1)]\n",
    "\n",
    "means"
   ]
  },
  {
   "cell_type": "code",
   "execution_count": 4,
   "metadata": {
    "scrolled": true
   },
   "outputs": [],
   "source": [
    "assert len(means) == 2\n",
    "assert means[0].gravity > 0"
   ]
  },
  {
   "cell_type": "markdown",
   "metadata": {},
   "source": [
    "### Differenze di medie \n",
    "\n",
    "Calcolare la differenza dei valor medi di ciascuna colonna del dataset, tra il sottoinsieme di righe per r=0 e il sottinsieme righe per r=1. Memorizzare il risultato nella variabile `diff_means` \n"
   ]
  },
  {
   "cell_type": "code",
   "execution_count": 5,
   "metadata": {
    "scrolled": true
   },
   "outputs": [
    {
     "data": {
      "text/plain": [
       "r           -1.000000\n",
       "gravity     -0.006099\n",
       "ph           0.163078\n",
       "osmo      -117.589899\n",
       "cond        -0.805882\n",
       "urea       -68.065359\n",
       "calc        -3.518052\n",
       "dtype: float64"
      ]
     },
     "execution_count": 5,
     "metadata": {},
     "output_type": "execute_result"
    }
   ],
   "source": [
    "diff_means = means[0] - means[1]\n",
    "\n",
    "diff_means"
   ]
  },
  {
   "cell_type": "code",
   "execution_count": 6,
   "metadata": {
    "scrolled": true
   },
   "outputs": [],
   "source": [
    "assert diff_means.gravity < 0"
   ]
  },
  {
   "cell_type": "markdown",
   "metadata": {},
   "source": [
    "### Lista di urea \n",
    "\n",
    "Definire una lista di nome `urea` con i valori della colonna 'urea' del dataset."
   ]
  },
  {
   "cell_type": "code",
   "execution_count": 7,
   "metadata": {
    "scrolled": true
   },
   "outputs": [
    {
     "name": "stdout",
     "output_type": "stream",
     "text": [
      "[443, 296, 101, 224, 91, 252, 195, 550, 170, 382, 152, 448, 64, 147, 161, 284, 133, 395, 95, 214, 380, 199, 87, 422, 239, 270, 75, 72, 159, 349, 282, 297, 317, 130, 362, 330, 125, 260, 97, 311, 385, 104, 187, 126, 308, 325, 354, 360, 302, 364, 301, 197, 188, 124, 398, 159, 516, 212, 486, 224, 385, 473, 620, 430, 198, 184, 164, 141, 396, 457, 10, 395, 272, 418, 301, 195, 394, 255, 178]\n"
     ]
    }
   ],
   "source": [
    "urea = list(dataset.urea)\n",
    "\n",
    "print(urea)"
   ]
  },
  {
   "cell_type": "markdown",
   "metadata": {},
   "source": [
    "### Conversione di unità di misura \n",
    "\n",
    "L'urea rappresentata nel dataset è misurata in millimoli per litro. Una millimole per litro di urea corrisponde a 6.006 mg/dL (milligrammi per decilitro). Utilizzando la funzione `map`, applicare alla lista `urea` una funzione lambda che converta i valori riportati nella lista in mg/dL. Memorizzare il risultato nella variabile `urea_mg`."
   ]
  },
  {
   "cell_type": "code",
   "execution_count": 8,
   "metadata": {
    "scrolled": false
   },
   "outputs": [],
   "source": [
    "urea_mg = map(lambda x : x * 6.006 , urea)"
   ]
  },
  {
   "cell_type": "code",
   "execution_count": 9,
   "metadata": {
    "scrolled": true
   },
   "outputs": [],
   "source": [
    "assert isinstance(urea_mg, map)"
   ]
  },
  {
   "cell_type": "markdown",
   "metadata": {},
   "source": [
    "### Nuova colonna in DataFrame \n",
    "\n",
    "Aggiungere una nuova colonna in `dataset` denominata `urea_mg` valorizzata con la sequenza dei valori dell'oggetto `urea_mg`."
   ]
  },
  {
   "cell_type": "code",
   "execution_count": 10,
   "metadata": {
    "scrolled": true
   },
   "outputs": [
    {
     "data": {
      "text/html": [
       "<div>\n",
       "<style scoped>\n",
       "    .dataframe tbody tr th:only-of-type {\n",
       "        vertical-align: middle;\n",
       "    }\n",
       "\n",
       "    .dataframe tbody tr th {\n",
       "        vertical-align: top;\n",
       "    }\n",
       "\n",
       "    .dataframe thead th {\n",
       "        text-align: right;\n",
       "    }\n",
       "</style>\n",
       "<table border=\"1\" class=\"dataframe\">\n",
       "  <thead>\n",
       "    <tr style=\"text-align: right;\">\n",
       "      <th></th>\n",
       "      <th>r</th>\n",
       "      <th>gravity</th>\n",
       "      <th>ph</th>\n",
       "      <th>osmo</th>\n",
       "      <th>cond</th>\n",
       "      <th>urea</th>\n",
       "      <th>calc</th>\n",
       "      <th>urea_mg</th>\n",
       "    </tr>\n",
       "  </thead>\n",
       "  <tbody>\n",
       "    <tr>\n",
       "      <th>1</th>\n",
       "      <td>0</td>\n",
       "      <td>1.021</td>\n",
       "      <td>4.91</td>\n",
       "      <td>725.0</td>\n",
       "      <td>NaN</td>\n",
       "      <td>443</td>\n",
       "      <td>2.45</td>\n",
       "      <td>2660.658</td>\n",
       "    </tr>\n",
       "    <tr>\n",
       "      <th>2</th>\n",
       "      <td>0</td>\n",
       "      <td>1.017</td>\n",
       "      <td>5.74</td>\n",
       "      <td>577.0</td>\n",
       "      <td>20.0</td>\n",
       "      <td>296</td>\n",
       "      <td>4.49</td>\n",
       "      <td>1777.776</td>\n",
       "    </tr>\n",
       "    <tr>\n",
       "      <th>3</th>\n",
       "      <td>0</td>\n",
       "      <td>1.008</td>\n",
       "      <td>7.20</td>\n",
       "      <td>321.0</td>\n",
       "      <td>14.9</td>\n",
       "      <td>101</td>\n",
       "      <td>2.36</td>\n",
       "      <td>606.606</td>\n",
       "    </tr>\n",
       "    <tr>\n",
       "      <th>4</th>\n",
       "      <td>0</td>\n",
       "      <td>1.011</td>\n",
       "      <td>5.51</td>\n",
       "      <td>408.0</td>\n",
       "      <td>12.6</td>\n",
       "      <td>224</td>\n",
       "      <td>2.15</td>\n",
       "      <td>1345.344</td>\n",
       "    </tr>\n",
       "    <tr>\n",
       "      <th>5</th>\n",
       "      <td>0</td>\n",
       "      <td>1.005</td>\n",
       "      <td>6.52</td>\n",
       "      <td>187.0</td>\n",
       "      <td>7.5</td>\n",
       "      <td>91</td>\n",
       "      <td>1.16</td>\n",
       "      <td>546.546</td>\n",
       "    </tr>\n",
       "    <tr>\n",
       "      <th>...</th>\n",
       "      <td>...</td>\n",
       "      <td>...</td>\n",
       "      <td>...</td>\n",
       "      <td>...</td>\n",
       "      <td>...</td>\n",
       "      <td>...</td>\n",
       "      <td>...</td>\n",
       "      <td>...</td>\n",
       "    </tr>\n",
       "    <tr>\n",
       "      <th>75</th>\n",
       "      <td>1</td>\n",
       "      <td>1.025</td>\n",
       "      <td>7.90</td>\n",
       "      <td>721.0</td>\n",
       "      <td>23.6</td>\n",
       "      <td>301</td>\n",
       "      <td>9.04</td>\n",
       "      <td>1807.806</td>\n",
       "    </tr>\n",
       "    <tr>\n",
       "      <th>76</th>\n",
       "      <td>1</td>\n",
       "      <td>1.017</td>\n",
       "      <td>4.81</td>\n",
       "      <td>410.0</td>\n",
       "      <td>13.3</td>\n",
       "      <td>195</td>\n",
       "      <td>0.58</td>\n",
       "      <td>1171.170</td>\n",
       "    </tr>\n",
       "    <tr>\n",
       "      <th>77</th>\n",
       "      <td>1</td>\n",
       "      <td>1.024</td>\n",
       "      <td>5.40</td>\n",
       "      <td>803.0</td>\n",
       "      <td>21.8</td>\n",
       "      <td>394</td>\n",
       "      <td>7.82</td>\n",
       "      <td>2366.364</td>\n",
       "    </tr>\n",
       "    <tr>\n",
       "      <th>78</th>\n",
       "      <td>1</td>\n",
       "      <td>1.016</td>\n",
       "      <td>6.81</td>\n",
       "      <td>594.0</td>\n",
       "      <td>21.4</td>\n",
       "      <td>255</td>\n",
       "      <td>12.20</td>\n",
       "      <td>1531.530</td>\n",
       "    </tr>\n",
       "    <tr>\n",
       "      <th>79</th>\n",
       "      <td>1</td>\n",
       "      <td>1.015</td>\n",
       "      <td>6.03</td>\n",
       "      <td>416.0</td>\n",
       "      <td>12.8</td>\n",
       "      <td>178</td>\n",
       "      <td>9.39</td>\n",
       "      <td>1069.068</td>\n",
       "    </tr>\n",
       "  </tbody>\n",
       "</table>\n",
       "<p>79 rows × 8 columns</p>\n",
       "</div>"
      ],
      "text/plain": [
       "    r  gravity    ph   osmo  cond  urea   calc   urea_mg\n",
       "1   0    1.021  4.91  725.0   NaN   443   2.45  2660.658\n",
       "2   0    1.017  5.74  577.0  20.0   296   4.49  1777.776\n",
       "3   0    1.008  7.20  321.0  14.9   101   2.36   606.606\n",
       "4   0    1.011  5.51  408.0  12.6   224   2.15  1345.344\n",
       "5   0    1.005  6.52  187.0   7.5    91   1.16   546.546\n",
       ".. ..      ...   ...    ...   ...   ...    ...       ...\n",
       "75  1    1.025  7.90  721.0  23.6   301   9.04  1807.806\n",
       "76  1    1.017  4.81  410.0  13.3   195   0.58  1171.170\n",
       "77  1    1.024  5.40  803.0  21.8   394   7.82  2366.364\n",
       "78  1    1.016  6.81  594.0  21.4   255  12.20  1531.530\n",
       "79  1    1.015  6.03  416.0  12.8   178   9.39  1069.068\n",
       "\n",
       "[79 rows x 8 columns]"
      ]
     },
     "execution_count": 10,
     "metadata": {},
     "output_type": "execute_result"
    }
   ],
   "source": [
    "dataset['urea_mg'] = list(urea_mg)\n",
    "\n",
    "dataset"
   ]
  },
  {
   "cell_type": "markdown",
   "metadata": {},
   "source": [
    "### Combinazione lineare \n",
    "\n",
    "Definire una funzione di nome `decisor` con parametri `ph` e `calc` che restituisce 0 se il valore della seguente combinazione lineare $$y = -0.33\\mathrm{ph} + 0.45\\mathrm{calc} - 0.15$$\n",
    "è negativo, altrimenti restituisce 1."
   ]
  },
  {
   "cell_type": "code",
   "execution_count": 14,
   "metadata": {
    "scrolled": true
   },
   "outputs": [
    {
     "ename": "NameError",
     "evalue": "name 'y' is not defined",
     "output_type": "error",
     "traceback": [
      "\u001b[1;31m---------------------------------------------------------------------------\u001b[0m",
      "\u001b[1;31mNameError\u001b[0m                                 Traceback (most recent call last)",
      "\u001b[1;32m<ipython-input-14-c2f89751ae88>\u001b[0m in \u001b[0;36m<module>\u001b[1;34m\u001b[0m\n\u001b[0;32m      4\u001b[0m \u001b[1;33m\u001b[0m\u001b[0m\n\u001b[0;32m      5\u001b[0m \u001b[1;33m\u001b[0m\u001b[0m\n\u001b[1;32m----> 6\u001b[1;33m \u001b[0mprint\u001b[0m\u001b[1;33m(\u001b[0m\u001b[0mdecisor\u001b[0m\u001b[1;33m(\u001b[0m\u001b[1;36m0\u001b[0m \u001b[1;33m,\u001b[0m \u001b[1;36m0\u001b[0m\u001b[1;33m)\u001b[0m\u001b[1;33m)\u001b[0m\u001b[1;33m\u001b[0m\u001b[1;33m\u001b[0m\u001b[0m\n\u001b[0m\u001b[0;32m      7\u001b[0m \u001b[0mprint\u001b[0m\u001b[1;33m(\u001b[0m\u001b[0mdecisor\u001b[0m\u001b[1;33m(\u001b[0m\u001b[1;36m0\u001b[0m \u001b[1;33m,\u001b[0m \u001b[1;36m1\u001b[0m\u001b[1;33m)\u001b[0m\u001b[1;33m)\u001b[0m\u001b[1;33m\u001b[0m\u001b[1;33m\u001b[0m\u001b[0m\n\u001b[0;32m      8\u001b[0m \u001b[0mprint\u001b[0m\u001b[1;33m(\u001b[0m\u001b[0mdecisor\u001b[0m\u001b[1;33m(\u001b[0m\u001b[1;36m1\u001b[0m \u001b[1;33m,\u001b[0m \u001b[1;36m0\u001b[0m\u001b[1;33m)\u001b[0m\u001b[1;33m)\u001b[0m\u001b[1;33m\u001b[0m\u001b[1;33m\u001b[0m\u001b[0m\n",
      "\u001b[1;32m<ipython-input-14-c2f89751ae88>\u001b[0m in \u001b[0;36mdecisor\u001b[1;34m(ph, calc)\u001b[0m\n\u001b[0;32m      1\u001b[0m \u001b[1;32mdef\u001b[0m \u001b[0mdecisor\u001b[0m \u001b[1;33m(\u001b[0m\u001b[0mph\u001b[0m \u001b[1;33m,\u001b[0m \u001b[0mcalc\u001b[0m\u001b[1;33m)\u001b[0m\u001b[1;33m:\u001b[0m\u001b[1;33m\u001b[0m\u001b[1;33m\u001b[0m\u001b[0m\n\u001b[0;32m      2\u001b[0m \u001b[1;33m\u001b[0m\u001b[0m\n\u001b[1;32m----> 3\u001b[1;33m     \u001b[1;32mreturn\u001b[0m \u001b[1;33m-\u001b[0m \u001b[1;36m0.33\u001b[0m \u001b[1;33m*\u001b[0m \u001b[0mph\u001b[0m \u001b[1;33m+\u001b[0m \u001b[1;36m0.45\u001b[0m \u001b[1;33m*\u001b[0m \u001b[0mcalc\u001b[0m \u001b[1;33m-\u001b[0m \u001b[1;36m0.15\u001b[0m \u001b[1;32mif\u001b[0m \u001b[0my\u001b[0m \u001b[1;33m<\u001b[0m \u001b[1;36m0\u001b[0m \u001b[1;32melse\u001b[0m \u001b[1;36m1\u001b[0m\u001b[1;33m\u001b[0m\u001b[1;33m\u001b[0m\u001b[0m\n\u001b[0m\u001b[0;32m      4\u001b[0m \u001b[1;33m\u001b[0m\u001b[0m\n\u001b[0;32m      5\u001b[0m \u001b[1;33m\u001b[0m\u001b[0m\n",
      "\u001b[1;31mNameError\u001b[0m: name 'y' is not defined"
     ]
    }
   ],
   "source": [
    "def decisor (ph , calc):\n",
    "    \n",
    "    return - 0.33 * ph + 0.45 * calc - 0.15 if y < 0 else 1\n",
    "\n",
    "\n",
    "print(decisor(0 , 0))\n",
    "print(decisor(0 , 1))\n",
    "print(decisor(1 , 0))\n",
    "print(decisor(1 , 1))"
   ]
  },
  {
   "cell_type": "code",
   "execution_count": 15,
   "metadata": {
    "scrolled": true
   },
   "outputs": [
    {
     "ename": "NameError",
     "evalue": "name 'y' is not defined",
     "output_type": "error",
     "traceback": [
      "\u001b[1;31m---------------------------------------------------------------------------\u001b[0m",
      "\u001b[1;31mNameError\u001b[0m                                 Traceback (most recent call last)",
      "\u001b[1;32m<ipython-input-15-f6e3e05a2982>\u001b[0m in \u001b[0;36m<module>\u001b[1;34m\u001b[0m\n\u001b[1;32m----> 1\u001b[1;33m \u001b[1;32massert\u001b[0m \u001b[0mdecisor\u001b[0m\u001b[1;33m(\u001b[0m\u001b[1;36m0\u001b[0m\u001b[1;33m,\u001b[0m\u001b[1;36m0\u001b[0m\u001b[1;33m)\u001b[0m \u001b[1;33m==\u001b[0m \u001b[1;36m0\u001b[0m\u001b[1;33m\u001b[0m\u001b[1;33m\u001b[0m\u001b[0m\n\u001b[0m\u001b[0;32m      2\u001b[0m \u001b[1;32massert\u001b[0m \u001b[0mdecisor\u001b[0m\u001b[1;33m(\u001b[0m\u001b[1;36m1\u001b[0m\u001b[1;33m,\u001b[0m\u001b[1;36m0\u001b[0m\u001b[1;33m)\u001b[0m \u001b[1;33m==\u001b[0m \u001b[1;36m0\u001b[0m\u001b[1;33m\u001b[0m\u001b[1;33m\u001b[0m\u001b[0m\n\u001b[0;32m      3\u001b[0m \u001b[1;32massert\u001b[0m \u001b[0mdecisor\u001b[0m\u001b[1;33m(\u001b[0m\u001b[1;36m0\u001b[0m\u001b[1;33m,\u001b[0m\u001b[1;36m1\u001b[0m\u001b[1;33m)\u001b[0m \u001b[1;33m==\u001b[0m \u001b[1;36m1\u001b[0m\u001b[1;33m\u001b[0m\u001b[1;33m\u001b[0m\u001b[0m\n",
      "\u001b[1;32m<ipython-input-14-c2f89751ae88>\u001b[0m in \u001b[0;36mdecisor\u001b[1;34m(ph, calc)\u001b[0m\n\u001b[0;32m      1\u001b[0m \u001b[1;32mdef\u001b[0m \u001b[0mdecisor\u001b[0m \u001b[1;33m(\u001b[0m\u001b[0mph\u001b[0m \u001b[1;33m,\u001b[0m \u001b[0mcalc\u001b[0m\u001b[1;33m)\u001b[0m\u001b[1;33m:\u001b[0m\u001b[1;33m\u001b[0m\u001b[1;33m\u001b[0m\u001b[0m\n\u001b[0;32m      2\u001b[0m \u001b[1;33m\u001b[0m\u001b[0m\n\u001b[1;32m----> 3\u001b[1;33m     \u001b[1;32mreturn\u001b[0m \u001b[1;33m-\u001b[0m \u001b[1;36m0.33\u001b[0m \u001b[1;33m*\u001b[0m \u001b[0mph\u001b[0m \u001b[1;33m+\u001b[0m \u001b[1;36m0.45\u001b[0m \u001b[1;33m*\u001b[0m \u001b[0mcalc\u001b[0m \u001b[1;33m-\u001b[0m \u001b[1;36m0.15\u001b[0m \u001b[1;32mif\u001b[0m \u001b[0my\u001b[0m \u001b[1;33m<\u001b[0m \u001b[1;36m0\u001b[0m \u001b[1;32melse\u001b[0m \u001b[1;36m1\u001b[0m\u001b[1;33m\u001b[0m\u001b[1;33m\u001b[0m\u001b[0m\n\u001b[0m\u001b[0;32m      4\u001b[0m \u001b[1;33m\u001b[0m\u001b[0m\n\u001b[0;32m      5\u001b[0m \u001b[1;33m\u001b[0m\u001b[0m\n",
      "\u001b[1;31mNameError\u001b[0m: name 'y' is not defined"
     ]
    }
   ],
   "source": [
    "assert decisor(0,0) == 0\n",
    "assert decisor(1,0) == 0\n",
    "assert decisor(0,1) == 1"
   ]
  },
  {
   "cell_type": "markdown",
   "metadata": {},
   "source": [
    "### Classificazione \n",
    "\n",
    "Definire una lista di nome `target` che contiene i valori della colonna `r` del dataset. Definire una seconda lista, di nome `actual` che contiene la sequenza dei valori che si ottiene applicando la funzione `decisor` ai valori di 'ph' e 'calc' di ciascuna riga del dataset."
   ]
  },
  {
   "cell_type": "code",
   "execution_count": null,
   "metadata": {},
   "outputs": [],
   "source": []
  },
  {
   "cell_type": "markdown",
   "metadata": {},
   "source": [
    "### Accuratezza \n",
    "\n",
    "Calcolare l'accuratezza della classificazione effettuata mediante la funzione `decisor` e rappresentata in `actual`. Per calcolare l'accuratezza, occorre contare il numero di volte in cui il valore del target è diverso dal valore della classificazione, dividere il valore ottenuto per il numero di righe del dataset e restituire in `acc` il complemento a 1 del risultato. "
   ]
  },
  {
   "cell_type": "code",
   "execution_count": null,
   "metadata": {
    "scrolled": true
   },
   "outputs": [],
   "source": []
  },
  {
   "cell_type": "code",
   "execution_count": 33,
   "metadata": {},
   "outputs": [],
   "source": [
    "assert 0 < acc < 1"
   ]
  }
 ],
 "metadata": {
  "kernelspec": {
   "display_name": "Python 3",
   "language": "python",
   "name": "python3"
  },
  "language_info": {
   "codemirror_mode": {
    "name": "ipython",
    "version": 3
   },
   "file_extension": ".py",
   "mimetype": "text/x-python",
   "name": "python",
   "nbconvert_exporter": "python",
   "pygments_lexer": "ipython3",
   "version": "3.8.8"
  }
 },
 "nbformat": 4,
 "nbformat_minor": 4
}

{
 "cells": [
  {
   "cell_type": "markdown",
   "metadata": {
    "deletable": false,
    "editable": false,
    "nbgrader": {
     "checksum": "888371777df6aa1bdd52e6754aa71553",
     "grade": false,
     "grade_id": "cell-fe142c7888e01719",
     "locked": true,
     "schema_version": 1,
     "solution": false
    }
   },
   "source": [
    "# Prova di esame (laboratorio)\n",
    "\n",
    "La prova avrà una durata massima di due ore e porterà a una valutazione massima di 21 punti. Il voto finale si otterrà per somma del punteggio del test di teoria e della prova di laboratorio. \n",
    "\n",
    "La prova consiste in un insieme di quiz proposti attraverso un Jupyter Notebook (non sono ammessi altri strumenti software) da svolgere sui computer del laboratorio (non sono ammessi altri strumenti hardware). Durante la prova si può consultare il libro di testo, le slide usate a lezione, un manuale python (approvato dal docente) oppure le guide in linea suggerite da Jupyter Notebook. Non sono ammessi altri strumenti di consultazione. "
   ]
  },
  {
   "cell_type": "markdown",
   "metadata": {
    "deletable": false,
    "editable": false,
    "nbgrader": {
     "checksum": "0109249b2f80a22e4f22f3da2c072fb1",
     "grade": false,
     "grade_id": "cell-9689b2f1c71af2ed",
     "locked": true,
     "schema_version": 1,
     "solution": false
    }
   },
   "source": [
    "**Prima della prova**\n",
    "\n",
    "Specificare la informazioni richieste nelle celle sottostanti e salvare il notebook con il proprio nome.\n",
    "\n",
    "**Durante la prova**\n",
    "\n",
    "Nelle celle markdown, cancellare il testo \"YOUR ANSWER HERE\" con la propria risposta. Nelle celle codice, rimuovere la linea di codice\n",
    "```python\n",
    "raise NotImplementedError()\n",
    "```\n",
    "e sostituirla con la propria implementazione.\n",
    "Dopo ogni cella codice che deve contenere la risposta al quesito, esiste una cella codice con delle *asserzioni*, ossia delle istruzioni che verificano la correttezza della propria soluzione. (Queste asserzioni saranno usate per valutare la correttezza della risposta data e assegnare un punteggio.) E' possibile eseguire queste celle per verificare che la soluzione proposta sia corretta.\n",
    "\n",
    "\n",
    "**Dopo la prova**\n",
    "\n",
    "Salvare il file dopo aver terminato. Consegnare l'elaborato utilizzando la piattaforma ADA. "
   ]
  },
  {
   "cell_type": "markdown",
   "metadata": {
    "deletable": false,
    "editable": false,
    "nbgrader": {
     "checksum": "a172831515f982ba1fa983420a9c955d",
     "grade": false,
     "grade_id": "cell-87a2a93c5c4ec366",
     "locked": true,
     "schema_version": 1,
     "solution": false
    }
   },
   "source": [
    "## Dataset"
   ]
  },
  {
   "cell_type": "markdown",
   "metadata": {
    "deletable": false,
    "editable": false,
    "nbgrader": {
     "checksum": "dec4c653b7b2fb19767a174d8f1bc677",
     "grade": false,
     "grade_id": "cell-9faeede5eae3f878",
     "locked": true,
     "schema_version": 1,
     "solution": false
    }
   },
   "source": [
    "### Dati Benderly e Zwick: Inflazione, crescita e rendimenti azionari\n",
    "#### Descrizione\n",
    "\n",
    "Dati delle serie temporali, 1952-1982. \n",
    "\n",
    "#### Formato\n",
    "\n",
    "File CSV con 31 osservazioni su 5 variabili (più l'indice di riga):\n",
    "\n",
    "- returns: rendimenti annuali reali delle azioni, misurati utilizzando la base di dati Ibbotson-Sinquefeld.\n",
    "- growth: tasso di crescita annuale della produzione, misurato dal PIL reale (da un dato anno all'anno successivo).\n",
    "- inflation: tasso d'inflazione, misurato come crescita del tasso dei prezzi (da dicembre dell'anno precedente a dicembre dell'anno in corso).\n",
    "- growth2: tasso di crescita annuale del PNL reale dato da Baltagi.\n",
    "- inflation2: tasso di inflazione come dato da Baltagi\n",
    "\n",
    "    (Baltagi è il nome del ricercatore che ha studiato la serie temporale)\n"
   ]
  },
  {
   "cell_type": "markdown",
   "metadata": {
    "deletable": false,
    "editable": false,
    "nbgrader": {
     "checksum": "8b0f8c96e16e50879a5c817978cc3904",
     "grade": false,
     "grade_id": "cell-2fb4322968bdf349",
     "locked": true,
     "schema_version": 1,
     "solution": false
    }
   },
   "source": [
    "## Domande"
   ]
  },
  {
   "cell_type": "markdown",
   "metadata": {
    "deletable": false,
    "editable": false,
    "nbgrader": {
     "checksum": "69d36805c9eb744717862baf5e307328",
     "grade": false,
     "grade_id": "cell-5acd4046437997ea",
     "locked": true,
     "schema_version": 1,
     "solution": false
    }
   },
   "source": [
    "### Caricamento dati\n",
    "\n",
    "Definire un dataframe di nome `dataset` e popolarla con le righe del file `BenderlyZwick.csv`. Utilizzate la prima colonna come indice di riga (utilizzare il parametro `index_col`)"
   ]
  },
  {
   "cell_type": "code",
   "execution_count": 1,
   "metadata": {
    "deletable": false,
    "nbgrader": {
     "checksum": "7414a3346c45a35538890695fcfaefc6",
     "grade": false,
     "grade_id": "cell-e07bdfedfd0c707d",
     "locked": false,
     "schema_version": 1,
     "solution": true
    }
   },
   "outputs": [
    {
     "data": {
      "text/html": [
       "<div>\n",
       "<style scoped>\n",
       "    .dataframe tbody tr th:only-of-type {\n",
       "        vertical-align: middle;\n",
       "    }\n",
       "\n",
       "    .dataframe tbody tr th {\n",
       "        vertical-align: top;\n",
       "    }\n",
       "\n",
       "    .dataframe thead th {\n",
       "        text-align: right;\n",
       "    }\n",
       "</style>\n",
       "<table border=\"1\" class=\"dataframe\">\n",
       "  <thead>\n",
       "    <tr style=\"text-align: right;\">\n",
       "      <th></th>\n",
       "      <th>returns</th>\n",
       "      <th>growth</th>\n",
       "      <th>inflation</th>\n",
       "      <th>growth2</th>\n",
       "      <th>inflation2</th>\n",
       "    </tr>\n",
       "  </thead>\n",
       "  <tbody>\n",
       "    <tr>\n",
       "      <th>1</th>\n",
       "      <td>NaN</td>\n",
       "      <td>NaN</td>\n",
       "      <td>NaN</td>\n",
       "      <td>3.9</td>\n",
       "      <td>2.2</td>\n",
       "    </tr>\n",
       "    <tr>\n",
       "      <th>2</th>\n",
       "      <td>NaN</td>\n",
       "      <td>NaN</td>\n",
       "      <td>NaN</td>\n",
       "      <td>4.0</td>\n",
       "      <td>2.1</td>\n",
       "    </tr>\n",
       "    <tr>\n",
       "      <th>3</th>\n",
       "      <td>53.0</td>\n",
       "      <td>6.7</td>\n",
       "      <td>-0.4</td>\n",
       "      <td>-1.3</td>\n",
       "      <td>0.6</td>\n",
       "    </tr>\n",
       "    <tr>\n",
       "      <th>4</th>\n",
       "      <td>31.2</td>\n",
       "      <td>2.1</td>\n",
       "      <td>0.4</td>\n",
       "      <td>5.6</td>\n",
       "      <td>1.3</td>\n",
       "    </tr>\n",
       "    <tr>\n",
       "      <th>5</th>\n",
       "      <td>3.7</td>\n",
       "      <td>1.8</td>\n",
       "      <td>2.9</td>\n",
       "      <td>2.1</td>\n",
       "      <td>1.9</td>\n",
       "    </tr>\n",
       "  </tbody>\n",
       "</table>\n",
       "</div>"
      ],
      "text/plain": [
       "   returns  growth  inflation  growth2  inflation2\n",
       "1      NaN     NaN        NaN      3.9         2.2\n",
       "2      NaN     NaN        NaN      4.0         2.1\n",
       "3     53.0     6.7       -0.4     -1.3         0.6\n",
       "4     31.2     2.1        0.4      5.6         1.3\n",
       "5      3.7     1.8        2.9      2.1         1.9"
      ]
     },
     "execution_count": 1,
     "metadata": {},
     "output_type": "execute_result"
    }
   ],
   "source": [
    "import pandas as pd\n",
    "\n",
    "dataset = pd.read_excel('BenderlyZwick.xlsx' , index_col = 0)\n",
    "\n",
    "dataset.head()"
   ]
  },
  {
   "cell_type": "code",
   "execution_count": 2,
   "metadata": {
    "deletable": false,
    "editable": false,
    "nbgrader": {
     "checksum": "5a2ecee084437ce9fb69cae3820e2cf5",
     "grade": true,
     "grade_id": "cell-4d9c038b064ce1ba",
     "locked": true,
     "points": 1,
     "schema_version": 1,
     "solution": false
    }
   },
   "outputs": [],
   "source": [
    "assert dataset.shape[0] == 31   # 31 osservazioni"
   ]
  },
  {
   "cell_type": "code",
   "execution_count": 3,
   "metadata": {
    "deletable": false,
    "editable": false,
    "nbgrader": {
     "checksum": "b7a09dab460df6c8fdde125f1ac5b4c4",
     "grade": true,
     "grade_id": "cell-90386c6f098c4a16",
     "locked": true,
     "points": 1,
     "schema_version": 1,
     "solution": false
    }
   },
   "outputs": [],
   "source": [
    "assert dataset.shape[1] >= 5   # almeno 5 colonne"
   ]
  },
  {
   "cell_type": "code",
   "execution_count": 4,
   "metadata": {
    "deletable": false,
    "editable": false,
    "nbgrader": {
     "checksum": "5af163b2c8732c8eb5fa2c2e1eedbdc8",
     "grade": true,
     "grade_id": "cell-6c2343029509c845",
     "locked": true,
     "points": 1,
     "schema_version": 1,
     "solution": false
    }
   },
   "outputs": [],
   "source": [
    "assert dataset.shape[1] == 5   # esattamente 5 colonne se la prima è usata come indice di riga"
   ]
  },
  {
   "cell_type": "markdown",
   "metadata": {
    "deletable": false,
    "editable": false,
    "nbgrader": {
     "checksum": "f95ef7c5214e9c004d6b1d55f16635be",
     "grade": false,
     "grade_id": "cell-fece50c2d370c95d",
     "locked": true,
     "schema_version": 1,
     "solution": false
    }
   },
   "source": [
    "### Funzioni\n",
    "\n",
    "Definire una funzione `rel_inc` con un solo argomento iterabile `it`. Se l'argomento rappresenta una sequenza di valori $a_0,a_1,\\ldots, a_n$, allora la funzione restituisce una lista  costituita dalla sequenza $b_0, b_1, \\ldots, b_n$ dove:\n",
    "- $b_0$ è un valore `nan` (si ottiene con l'espressione `float('nan')`\n",
    "- $b_i = \\frac{b_i-b_{i-1}}{b_{i-1}}$ se $b_{i-1} \\neq 0$, altrimenti $b_i=+\\infty$, per $i=1,2,\\ldots,n$ (il valore $+\\infty$ si rappresenta con `float('+inf')`\n",
    "\n"
   ]
  },
  {
   "cell_type": "code",
   "execution_count": 5,
   "metadata": {
    "deletable": false,
    "nbgrader": {
     "checksum": "d743c4b5e90c1bfe92ecae100b68ebcd",
     "grade": false,
     "grade_id": "cell-bb2a311664f39556",
     "locked": false,
     "schema_version": 1,
     "solution": true
    }
   },
   "outputs": [
    {
     "data": {
      "text/plain": [
       "[nan, 1.0, -1.0, inf, 0.3333333333333333]"
      ]
     },
     "execution_count": 5,
     "metadata": {},
     "output_type": "execute_result"
    }
   ],
   "source": [
    "import math\n",
    "\n",
    "def rel_inc(it):\n",
    "    \n",
    "    return [\n",
    "        float('nan') if i == 0 else (it[i] - it[i - 1]) / it[i - 1] if it[i - 1] != 0 else float('+inf') \n",
    "        for i in range(len(it))\n",
    "    ]\n",
    "\n",
    "\n",
    "rel_inc([1,2,0,3,4])"
   ]
  },
  {
   "cell_type": "code",
   "execution_count": 6,
   "metadata": {
    "deletable": false,
    "editable": false,
    "nbgrader": {
     "checksum": "4a66ea1c56bec98cbaa649dfc8b4a360",
     "grade": true,
     "grade_id": "cell-0b6fa7d4e343c7db",
     "locked": true,
     "points": 1,
     "schema_version": 1,
     "solution": false
    }
   },
   "outputs": [],
   "source": [
    "assert math.isnan(rel_inc([0])[0])   # il primo elemento deve essere NaN (si può testare solo con math.isnan)"
   ]
  },
  {
   "cell_type": "code",
   "execution_count": 7,
   "metadata": {
    "deletable": false,
    "editable": false,
    "nbgrader": {
     "checksum": "31006d4a646c9059e610ad0b6cd95a1b",
     "grade": true,
     "grade_id": "cell-9601cad30e15a79e",
     "locked": true,
     "points": 1,
     "schema_version": 1,
     "solution": false
    }
   },
   "outputs": [],
   "source": [
    "assert rel_inc([1,2])[1] == 1.   # ultimo incremento del 100%"
   ]
  },
  {
   "cell_type": "code",
   "execution_count": 8,
   "metadata": {
    "deletable": false,
    "editable": false,
    "nbgrader": {
     "checksum": "f9e33354ff0d38eff17c434f28befd84",
     "grade": true,
     "grade_id": "cell-d46dbd3f0070dfa2",
     "locked": true,
     "points": 1,
     "schema_version": 1,
     "solution": false
    }
   },
   "outputs": [],
   "source": [
    "assert  rel_inc([1,2,0])[2] == -1.   # ultimo decremento del 100%"
   ]
  },
  {
   "cell_type": "code",
   "execution_count": 9,
   "metadata": {
    "deletable": false,
    "editable": false,
    "nbgrader": {
     "checksum": "fa9db339f843a2d8699f997181ccd33b",
     "grade": true,
     "grade_id": "cell-8afde8819de71b7f",
     "locked": true,
     "points": 1,
     "schema_version": 1,
     "solution": false
    }
   },
   "outputs": [],
   "source": [
    "assert  rel_inc([1,2,0, 1])[3] == float('+inf')  # ultimo incremento infinito"
   ]
  },
  {
   "cell_type": "code",
   "execution_count": 10,
   "metadata": {
    "deletable": false,
    "editable": false,
    "nbgrader": {
     "checksum": "dc559f78b6ac02dc088d61c48edd9c07",
     "grade": true,
     "grade_id": "cell-25a1e8cab9033cc0",
     "locked": true,
     "points": 1,
     "schema_version": 1,
     "solution": false
    }
   },
   "outputs": [],
   "source": [
    "assert len(rel_inc([1,2,0,3,4])) == len([1,2,0,3,4]) # la funzione preserva la lunghezza della lista"
   ]
  },
  {
   "cell_type": "markdown",
   "metadata": {
    "deletable": false,
    "editable": false,
    "nbgrader": {
     "checksum": "65b4bcc29af250ce47a7083bc14909a1",
     "grade": false,
     "grade_id": "cell-47650db8bfac4ac9",
     "locked": true,
     "schema_version": 1,
     "solution": false
    }
   },
   "source": [
    "### Manipolazione di DataFrame\n",
    "\n",
    "Aggiungere una colonna in `dataset` che contiene la differenza dei valori di `growth` meno `growth2`. La nuova colonna si chiamerà `delta_g`"
   ]
  },
  {
   "cell_type": "code",
   "execution_count": 11,
   "metadata": {
    "deletable": false,
    "nbgrader": {
     "checksum": "73926ee967160c0d6b8c7d30c5d0cad7",
     "grade": false,
     "grade_id": "cell-7deacb3c4ea06b9e",
     "locked": false,
     "schema_version": 1,
     "solution": true
    }
   },
   "outputs": [
    {
     "data": {
      "text/html": [
       "<div>\n",
       "<style scoped>\n",
       "    .dataframe tbody tr th:only-of-type {\n",
       "        vertical-align: middle;\n",
       "    }\n",
       "\n",
       "    .dataframe tbody tr th {\n",
       "        vertical-align: top;\n",
       "    }\n",
       "\n",
       "    .dataframe thead th {\n",
       "        text-align: right;\n",
       "    }\n",
       "</style>\n",
       "<table border=\"1\" class=\"dataframe\">\n",
       "  <thead>\n",
       "    <tr style=\"text-align: right;\">\n",
       "      <th></th>\n",
       "      <th>returns</th>\n",
       "      <th>growth</th>\n",
       "      <th>inflation</th>\n",
       "      <th>growth2</th>\n",
       "      <th>inflation2</th>\n",
       "      <th>delta_g</th>\n",
       "    </tr>\n",
       "  </thead>\n",
       "  <tbody>\n",
       "    <tr>\n",
       "      <th>1</th>\n",
       "      <td>NaN</td>\n",
       "      <td>NaN</td>\n",
       "      <td>NaN</td>\n",
       "      <td>3.9</td>\n",
       "      <td>2.2</td>\n",
       "      <td>NaN</td>\n",
       "    </tr>\n",
       "    <tr>\n",
       "      <th>2</th>\n",
       "      <td>NaN</td>\n",
       "      <td>NaN</td>\n",
       "      <td>NaN</td>\n",
       "      <td>4.0</td>\n",
       "      <td>2.1</td>\n",
       "      <td>NaN</td>\n",
       "    </tr>\n",
       "    <tr>\n",
       "      <th>3</th>\n",
       "      <td>53.0</td>\n",
       "      <td>6.7</td>\n",
       "      <td>-0.4</td>\n",
       "      <td>-1.3</td>\n",
       "      <td>0.6</td>\n",
       "      <td>8.0</td>\n",
       "    </tr>\n",
       "    <tr>\n",
       "      <th>4</th>\n",
       "      <td>31.2</td>\n",
       "      <td>2.1</td>\n",
       "      <td>0.4</td>\n",
       "      <td>5.6</td>\n",
       "      <td>1.3</td>\n",
       "      <td>-3.5</td>\n",
       "    </tr>\n",
       "    <tr>\n",
       "      <th>5</th>\n",
       "      <td>3.7</td>\n",
       "      <td>1.8</td>\n",
       "      <td>2.9</td>\n",
       "      <td>2.1</td>\n",
       "      <td>1.9</td>\n",
       "      <td>-0.3</td>\n",
       "    </tr>\n",
       "  </tbody>\n",
       "</table>\n",
       "</div>"
      ],
      "text/plain": [
       "   returns  growth  inflation  growth2  inflation2  delta_g\n",
       "1      NaN     NaN        NaN      3.9         2.2      NaN\n",
       "2      NaN     NaN        NaN      4.0         2.1      NaN\n",
       "3     53.0     6.7       -0.4     -1.3         0.6      8.0\n",
       "4     31.2     2.1        0.4      5.6         1.3     -3.5\n",
       "5      3.7     1.8        2.9      2.1         1.9     -0.3"
      ]
     },
     "execution_count": 11,
     "metadata": {},
     "output_type": "execute_result"
    }
   ],
   "source": [
    "dataset['delta_g'] = dataset.growth - dataset.growth2\n",
    "\n",
    "dataset.head()"
   ]
  },
  {
   "cell_type": "code",
   "execution_count": 12,
   "metadata": {
    "deletable": false,
    "editable": false,
    "nbgrader": {
     "checksum": "64317429585e5bf31691284a827f41f0",
     "grade": true,
     "grade_id": "cell-70a4927ccdce1125",
     "locked": true,
     "points": 1,
     "schema_version": 1,
     "solution": false
    }
   },
   "outputs": [],
   "source": [
    "assert 'delta_g' in dataset.columns"
   ]
  },
  {
   "cell_type": "markdown",
   "metadata": {
    "deletable": false,
    "editable": false,
    "nbgrader": {
     "checksum": "59a52da7ce01f97452772627619c2fa0",
     "grade": false,
     "grade_id": "cell-3480e3b292e22eb0",
     "locked": true,
     "schema_version": 1,
     "solution": false
    }
   },
   "source": [
    "### Selezioni\n",
    "\n",
    "Definire una variabile di nome `corr` valorizzata come segue. Se la media dei valori in `delta_g`, in valore assoluto, è minore di 0.1, allora `corr` sarà valorizzata alla *stringa* `'0'`, altrimenti se la media è positiva, allora `corr` sarà valorizzata a `'+'`, altrimenti a `'-'`. (Attenione: `delta_g` contiene valori mancanti)"
   ]
  },
  {
   "cell_type": "code",
   "execution_count": 13,
   "metadata": {
    "deletable": false,
    "nbgrader": {
     "checksum": "8e1078f844dba3deac67f9326c5b84c2",
     "grade": false,
     "grade_id": "cell-9e3c7e6a5daecdda",
     "locked": false,
     "schema_version": 1,
     "solution": true
    }
   },
   "outputs": [
    {
     "name": "stdout",
     "output_type": "stream",
     "text": [
      "+\n"
     ]
    }
   ],
   "source": [
    "corr = '0' if math.fabs(dataset.delta_g.mean()) <= 0 else '+' if dataset.delta_g.mean() > 0 else '-'\n",
    "\n",
    "print(corr)"
   ]
  },
  {
   "cell_type": "code",
   "execution_count": 14,
   "metadata": {
    "deletable": false,
    "editable": false,
    "nbgrader": {
     "checksum": "821c83fa99911ce705b8f477e6dea426",
     "grade": true,
     "grade_id": "cell-86b24e24d23f0e91",
     "locked": true,
     "points": 1,
     "schema_version": 1,
     "solution": false
    }
   },
   "outputs": [],
   "source": [
    "assert corr in '0+-'  # corr è un carattere valido"
   ]
  },
  {
   "cell_type": "code",
   "execution_count": 15,
   "metadata": {
    "deletable": false,
    "editable": false,
    "nbgrader": {
     "checksum": "f73babc89594a5aad4bc0544c192ca53",
     "grade": true,
     "grade_id": "cell-fe712569b6119a77",
     "locked": true,
     "points": 1,
     "schema_version": 1,
     "solution": false
    }
   },
   "outputs": [],
   "source": [
    "assert ord(corr) == 43 # corr è il carattere giusto"
   ]
  },
  {
   "cell_type": "markdown",
   "metadata": {
    "deletable": false,
    "editable": false,
    "nbgrader": {
     "checksum": "1a2b9f45973784d595670adad28ad499",
     "grade": false,
     "grade_id": "cell-5888f615fffd9123",
     "locked": true,
     "schema_version": 1,
     "solution": false
    }
   },
   "source": [
    "### Comprensioni di lista\n",
    "\n",
    "Attraverso una comprensione di lista, definire una lista di nome `pn` con tanti elementi quante le righe del dataset. L'i-esimo elemento di `pn` sarà `+` se l'i-esimo valore della colonna `growth2` del dataset è maggiore o uguale a 0, altrimenti sarà `-`."
   ]
  },
  {
   "cell_type": "code",
   "execution_count": 16,
   "metadata": {
    "deletable": false,
    "nbgrader": {
     "checksum": "35ee747e09ae272019c789199abb0047",
     "grade": false,
     "grade_id": "cell-a1cde59baab28e5a",
     "locked": false,
     "schema_version": 1,
     "solution": true
    }
   },
   "outputs": [
    {
     "data": {
      "text/plain": [
       "['+',\n",
       " '+',\n",
       " '-',\n",
       " '+',\n",
       " '+',\n",
       " '+',\n",
       " '-',\n",
       " '+',\n",
       " '+',\n",
       " '+',\n",
       " '+',\n",
       " '+',\n",
       " '+',\n",
       " '+',\n",
       " '+',\n",
       " '+',\n",
       " '+',\n",
       " '+',\n",
       " '-',\n",
       " '+',\n",
       " '+',\n",
       " '+',\n",
       " '-',\n",
       " '-',\n",
       " '+',\n",
       " '+',\n",
       " '+',\n",
       " '+',\n",
       " '-',\n",
       " '+',\n",
       " '-']"
      ]
     },
     "execution_count": 16,
     "metadata": {},
     "output_type": "execute_result"
    }
   ],
   "source": [
    "pn = ['+' if elem >= 0 else '-' for elem in dataset.growth2]\n",
    "\n",
    "pn"
   ]
  },
  {
   "cell_type": "code",
   "execution_count": 17,
   "metadata": {
    "deletable": false,
    "editable": false,
    "nbgrader": {
     "checksum": "dc26f5e0fcaa6cef8c9a89f5ff264a5b",
     "grade": true,
     "grade_id": "cell-7a98cf40b95e093d",
     "locked": true,
     "points": 1,
     "schema_version": 1,
     "solution": false
    }
   },
   "outputs": [],
   "source": [
    "assert len(pn) == len(dataset)   # Stesso numero di righe"
   ]
  },
  {
   "cell_type": "code",
   "execution_count": 18,
   "metadata": {
    "deletable": false,
    "editable": false,
    "nbgrader": {
     "checksum": "fb2e2c8b91292169f125c5fcde6bb435",
     "grade": true,
     "grade_id": "cell-d5f59566445d5514",
     "locked": true,
     "points": 1,
     "schema_version": 1,
     "solution": false
    }
   },
   "outputs": [],
   "source": [
    "assert all(v in '+-' for v in pn)    # tutti gli elementi sono validi"
   ]
  },
  {
   "cell_type": "markdown",
   "metadata": {
    "deletable": false,
    "editable": false,
    "nbgrader": {
     "checksum": "5587652e9a4b91ddb968c9ef2fce95af",
     "grade": false,
     "grade_id": "cell-d2537c40d2ce6468",
     "locked": true,
     "schema_version": 1,
     "solution": false
    }
   },
   "source": [
    "### Concatenamento di stringhe\n",
    "\n",
    "Attraverso i metodi di stringa, definire una stringa di none `spn` che consiste nel concatenamento di tutti i caratteri della lista `pn`."
   ]
  },
  {
   "cell_type": "code",
   "execution_count": 19,
   "metadata": {
    "deletable": false,
    "nbgrader": {
     "checksum": "b1be06752ca4db5164adf57e3d39ffab",
     "grade": false,
     "grade_id": "cell-6b2c3b24abd0ce1c",
     "locked": false,
     "schema_version": 1,
     "solution": true
    }
   },
   "outputs": [
    {
     "name": "stdout",
     "output_type": "stream",
     "text": [
      "++-+++-+++++++++++-+++--++++-+-\n"
     ]
    }
   ],
   "source": [
    "spn = ''.join(elem for elem in pn)\n",
    "\n",
    "print(spn)"
   ]
  },
  {
   "cell_type": "code",
   "execution_count": 20,
   "metadata": {
    "deletable": false,
    "editable": false,
    "nbgrader": {
     "checksum": "906ea4dcb77296222f7df7d9f575193f",
     "grade": true,
     "grade_id": "cell-cd94a4d165c7dc4e",
     "locked": true,
     "points": 1,
     "schema_version": 1,
     "solution": false
    }
   },
   "outputs": [],
   "source": [
    "assert len(spn) == len(pn)   # Stessa lunghezza di pn"
   ]
  },
  {
   "cell_type": "code",
   "execution_count": 21,
   "metadata": {
    "deletable": false,
    "editable": false,
    "nbgrader": {
     "checksum": "4f0c0f63cb66d45862bca8843ee1a3a1",
     "grade": true,
     "grade_id": "cell-5427e8e524b127de",
     "locked": true,
     "points": 1,
     "schema_version": 1,
     "solution": false
    }
   },
   "outputs": [],
   "source": [
    "assert all(c in '+-' for c in spn)  # Caratteri validi "
   ]
  },
  {
   "cell_type": "code",
   "execution_count": 22,
   "metadata": {
    "deletable": false,
    "editable": false,
    "nbgrader": {
     "checksum": "3bda0353753f8bb585f1a05e41413401",
     "grade": true,
     "grade_id": "cell-0c207a497405689b",
     "locked": true,
     "points": 1,
     "schema_version": 1,
     "solution": false
    }
   },
   "outputs": [],
   "source": [
    "from random import randrange\n",
    "\n",
    "rand_i = randrange(len(spn))\n",
    "assert spn[rand_i] == pn[rand_i]   # Valori corrispondenti tra spn e pn"
   ]
  },
  {
   "cell_type": "markdown",
   "metadata": {
    "deletable": false,
    "editable": false,
    "nbgrader": {
     "checksum": "a40cdf6590b71e8359c6c87697c87ea8",
     "grade": false,
     "grade_id": "cell-78f53fca1237dd25",
     "locked": true,
     "schema_version": 1,
     "solution": false
    }
   },
   "source": [
    "### Espressioni regolari\n",
    "\n",
    "Attraverso le espressioni regolari, sostituire le sequenze in `spn` costituite da un trattino, seguito da due o più segni '+' e seguiti da un altro trattino, con il carattere 'P'. Nel risultato, se tra una P e l'altra occorrono due o più simboli '+', sostituire tutta la sequenza dei '+' con una 'M'. Memorizzare il risultato nella variabile `red_spn`"
   ]
  },
  {
   "cell_type": "code",
   "execution_count": 23,
   "metadata": {
    "deletable": false,
    "nbgrader": {
     "checksum": "e9b7c7862de01ba5932b3b1c2ab5d550",
     "grade": false,
     "grade_id": "cell-496113176d7bee91",
     "locked": false,
     "schema_version": 1,
     "solution": true
    }
   },
   "outputs": [],
   "source": [
    "import re\n",
    "\n",
    "red_spn = re.sub(r'[P][+]{2,}[P]' , 'PMP' , re.sub(r'[-][+]{2,}[-]' , 'P' , spn))"
   ]
  },
  {
   "cell_type": "code",
   "execution_count": 24,
   "metadata": {
    "deletable": false,
    "editable": false,
    "nbgrader": {
     "checksum": "24f25e702fed657379e929cca8583184",
     "grade": true,
     "grade_id": "cell-70f90563fc48e733",
     "locked": true,
     "points": 1,
     "schema_version": 1,
     "solution": false
    }
   },
   "outputs": [],
   "source": [
    "assert all(c in '+-PM' for c in red_spn)   # caratteri validi"
   ]
  },
  {
   "cell_type": "code",
   "execution_count": 25,
   "metadata": {
    "deletable": false,
    "editable": false,
    "nbgrader": {
     "checksum": "aac49c3c7e5df4473c19c188bd0262a5",
     "grade": true,
     "grade_id": "cell-6fa92ee0f4866a8c",
     "locked": true,
     "points": 1,
     "schema_version": 1,
     "solution": false
    }
   },
   "outputs": [],
   "source": [
    "assert 'PMP' in red_spn    # seconda sostituzione corretta"
   ]
  },
  {
   "cell_type": "code",
   "execution_count": 26,
   "metadata": {
    "deletable": false,
    "editable": false,
    "nbgrader": {
     "checksum": "46a9898f580453823b1b41ab4cfbf0ef",
     "grade": true,
     "grade_id": "cell-a8c25ca2bc67e85d",
     "locked": true,
     "points": 1,
     "schema_version": 1,
     "solution": false
    }
   },
   "outputs": [],
   "source": [
    "assert '++P' in red_spn   # prima sostituzione corretta"
   ]
  },
  {
   "cell_type": "markdown",
   "metadata": {
    "deletable": false,
    "editable": false,
    "nbgrader": {
     "checksum": "09726f8312cc3b89b43b69ec7fe93608",
     "grade": false,
     "grade_id": "cell-7a366c55379c6e78",
     "locked": true,
     "schema_version": 1,
     "solution": false
    }
   },
   "source": [
    "### Dizionari\n",
    "\n",
    "Definire un dizionario di nome `count` che associ, a ciascun carattere presente in `red_spn`, la relativa frequenza all'interno della stringa.\n",
    "\n",
    "(Nota: se non si è risolto l'esercizio precedente, valorizzare `red_spn` a '-+PPMP++')"
   ]
  },
  {
   "cell_type": "code",
   "execution_count": 27,
   "metadata": {
    "deletable": false,
    "nbgrader": {
     "checksum": "d1babac1654fcbfa46fac3e1619a1add",
     "grade": false,
     "grade_id": "cell-fd2f47561e380acb",
     "locked": false,
     "schema_version": 1,
     "solution": true
    }
   },
   "outputs": [
    {
     "name": "stdout",
     "output_type": "stream",
     "text": [
      "{'+': 3, 'P': 3, 'M': 1, '-': 1}\n"
     ]
    }
   ],
   "source": [
    "count = dict((elem , red_spn.count(elem)) for elem in red_spn)\n",
    "\n",
    "print(count)"
   ]
  },
  {
   "cell_type": "code",
   "execution_count": 28,
   "metadata": {
    "deletable": false,
    "editable": false,
    "nbgrader": {
     "checksum": "3dbb102653c0bd674c92ee96ffedfca3",
     "grade": true,
     "grade_id": "cell-03c0c8258e4644a4",
     "locked": true,
     "points": 1,
     "schema_version": 1,
     "solution": false
    }
   },
   "outputs": [],
   "source": [
    "assert (count['+'] == count['P']) and (count['M'] == count['-']) # valori corretti"
   ]
  },
  {
   "cell_type": "code",
   "execution_count": 29,
   "metadata": {
    "deletable": false,
    "editable": false,
    "nbgrader": {
     "checksum": "d8fabdd9402baf6ec897d3be7c52f01f",
     "grade": true,
     "grade_id": "cell-773a985278ecff8b",
     "locked": true,
     "points": 0,
     "schema_version": 1,
     "solution": false
    }
   },
   "outputs": [],
   "source": [
    "assert all(type(v)==int for v in count.values())   # tutti i valori sono interi"
   ]
  }
 ],
 "metadata": {
  "kernelspec": {
   "display_name": "Python 3",
   "language": "python",
   "name": "python3"
  },
  "language_info": {
   "codemirror_mode": {
    "name": "ipython",
    "version": 3
   },
   "file_extension": ".py",
   "mimetype": "text/x-python",
   "name": "python",
   "nbconvert_exporter": "python",
   "pygments_lexer": "ipython3",
   "version": "3.8.8"
  },
  "nbTranslate": {
   "displayLangs": [
    "it",
    "en"
   ],
   "hotkey": "alt-t",
   "langInMainMenu": true,
   "sourceLang": "en",
   "targetLang": "it",
   "useGoogleTranslate": true
  },
  "toc": {
   "base_numbering": 1,
   "nav_menu": {},
   "number_sections": true,
   "sideBar": true,
   "skip_h1_title": false,
   "title_cell": "Table of Contents",
   "title_sidebar": "Contents",
   "toc_cell": false,
   "toc_position": {},
   "toc_section_display": true,
   "toc_window_display": true
  },
  "varInspector": {
   "cols": {
    "lenName": 16,
    "lenType": 16,
    "lenVar": 40
   },
   "kernels_config": {
    "python": {
     "delete_cmd_postfix": "",
     "delete_cmd_prefix": "del ",
     "library": "var_list.py",
     "varRefreshCmd": "print(var_dic_list())"
    },
    "r": {
     "delete_cmd_postfix": ") ",
     "delete_cmd_prefix": "rm(",
     "library": "var_list.r",
     "varRefreshCmd": "cat(var_dic_list()) "
    }
   },
   "types_to_exclude": [
    "module",
    "function",
    "builtin_function_or_method",
    "instance",
    "_Feature"
   ],
   "window_display": false
  }
 },
 "nbformat": 4,
 "nbformat_minor": 4
}

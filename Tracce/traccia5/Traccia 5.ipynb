{
 "cells": [
  {
   "cell_type": "markdown",
   "metadata": {
    "deletable": false,
    "editable": false,
    "nbgrader": {
     "checksum": "888371777df6aa1bdd52e6754aa71553",
     "grade": false,
     "grade_id": "cell-fe142c7888e01719",
     "locked": true,
     "schema_version": 1,
     "solution": false
    }
   },
   "source": [
    "# Prova di esame (laboratorio)\n",
    "\n",
    "La prova avrà una durata massima di due ore e porterà a una valutazione massima di 21 punti. Il voto finale si otterrà per somma del punteggio del test di teoria e della prova di laboratorio. \n",
    "\n",
    "La prova consiste in un insieme di quiz proposti attraverso un Jupyter Notebook (non sono ammessi altri strumenti software) da svolgere sui computer del laboratorio (non sono ammessi altri strumenti hardware). Durante la prova si può consultare il libro di testo, le slide usate a lezione, un manuale python (approvato dal docente) oppure le guide in linea suggerite da Jupyter Notebook. Non sono ammessi altri strumenti di consultazione. "
   ]
  },
  {
   "cell_type": "markdown",
   "metadata": {
    "deletable": false,
    "editable": false,
    "nbgrader": {
     "checksum": "8f665d5b209bfd9f3ed7e6aca6a23274",
     "grade": false,
     "grade_id": "cell-87a2a93c5c4ec366",
     "locked": true,
     "schema_version": 1,
     "solution": false
    }
   },
   "source": [
    "## Traccia"
   ]
  },
  {
   "cell_type": "markdown",
   "metadata": {
    "deletable": false,
    "editable": false,
    "nbgrader": {
     "checksum": "3de12f78c45dbb18233d9a83633f7363",
     "grade": false,
     "grade_id": "cell-9160a6fcd8a4cfe8",
     "locked": true,
     "schema_version": 1,
     "solution": false
    }
   },
   "source": [
    "**Consumer Price Index in Argentina**\n",
    "\n",
    "Serie temporale dell'indice dei prezzi al consumo (CPI) in Argentina (indice con 1969 = 1)\n",
    "\n",
    "*Formato*\n",
    "\n",
    "Il dataset contiene 80 osservazioni su 2 variabili oltre all'indice di riga.\n",
    "\n",
    "1. Quartile (es. 1970 = I trimestre 1970; 1970.25 = II trimestre 1970; 1970.5 = III trimestre 1970; 1970.75 = IV trimestre 1970)\n",
    "2. Indice dei prezzi al consumo (es. 4.29 = i prezzi al consumo sono 4.29 volte quelli del 1969)\n"
   ]
  },
  {
   "cell_type": "markdown",
   "metadata": {
    "deletable": false,
    "editable": false,
    "nbgrader": {
     "checksum": "0109249b2f80a22e4f22f3da2c072fb1",
     "grade": false,
     "grade_id": "cell-9689b2f1c71af2ed",
     "locked": true,
     "schema_version": 1,
     "solution": false
    }
   },
   "source": [
    "**Prima della prova**\n",
    "\n",
    "Specificare la informazioni richieste nelle celle sottostanti e salvare il notebook con il proprio nome.\n",
    "\n",
    "**Durante la prova**\n",
    "\n",
    "Nelle celle markdown, cancellare il testo \"YOUR ANSWER HERE\" con la propria risposta. Nelle celle codice, rimuovere la linea di codice\n",
    "```python\n",
    "raise NotImplementedError()\n",
    "```\n",
    "e sostituirla con la propria implementazione.\n",
    "Dopo ogni cella codice che deve contenere la risposta al quesito, esiste una cella codice con delle *asserzioni*, ossia delle istruzioni che verificano la correttezza della propria soluzione. (Queste asserzioni saranno usate per valutare la correttezza della risposta data e assegnare un punteggio.) E' possibile eseguire queste celle per verificare che la soluzione proposta sia corretta.\n",
    "\n",
    "\n",
    "**Dopo la prova**\n",
    "\n",
    "Salvare il file dopo aver terminato. Consegnare l'elaborato utilizzando la piattaforma ADA. "
   ]
  },
  {
   "cell_type": "markdown",
   "metadata": {
    "deletable": false,
    "editable": false,
    "nbgrader": {
     "checksum": "d1f29d3c1fce4ab7f5bd0ca324e99469",
     "grade": false,
     "grade_id": "cell-d7b79950b2f5b107",
     "locked": true,
     "schema_version": 1,
     "solution": false
    }
   },
   "source": [
    "### Caricamento dati (3 pt)\n",
    "\n",
    "Utilizzando il modulo csv, caricare i dati in un dizionario di nome `data` che associ a ogni quartile il corrispondente indice dei prezzi. Non caricare la prima riga, che contiene le intestazioni di colonna. Assicurarsi che chiavi e valori siano numerici."
   ]
  },
  {
   "cell_type": "code",
   "execution_count": 2,
   "metadata": {
    "deletable": false,
    "nbgrader": {
     "checksum": "cb77057d0e948eaf278ebc3187d95035",
     "grade": false,
     "grade_id": "cell-9d9fcd51888aa565",
     "locked": false,
     "schema_version": 1,
     "solution": true
    }
   },
   "outputs": [
    {
     "name": "stdout",
     "output_type": "stream",
     "text": [
      "[(1970.0, 1.01), (1970.25, 1.06), (1970.5, 1.13), (1970.75, 1.24), (1971.0, 1.33), (1971.25, 1.45), (1971.5, 1.64), (1971.75, 1.77), (1972.0, 2.24), (1972.25, 2.58)]\n"
     ]
    }
   ],
   "source": [
    "import csv\n",
    "\n",
    "with open('ArgentinaCPI.csv') as arg:\n",
    "    data = dict(map(float , elem[1 :]) for elem in list(csv.reader(arg))[1 :])\n",
    "\n",
    "print(list(data.items())[0:10])"
   ]
  },
  {
   "cell_type": "code",
   "execution_count": 3,
   "metadata": {
    "deletable": false,
    "editable": false,
    "nbgrader": {
     "checksum": "a7a8d386c8fef86d3433872ab4cac374",
     "grade": true,
     "grade_id": "cell-a086756412710090",
     "locked": true,
     "points": 2,
     "schema_version": 1,
     "solution": false
    }
   },
   "outputs": [],
   "source": [
    "assert data[1970.25] > 1"
   ]
  },
  {
   "cell_type": "code",
   "execution_count": 4,
   "metadata": {
    "deletable": false,
    "editable": false,
    "nbgrader": {
     "checksum": "0c1fbcbe1d83620ca4c46eaf1e23e566",
     "grade": true,
     "grade_id": "cell-fbc2c970e0903bfb",
     "locked": true,
     "points": 1,
     "schema_version": 1,
     "solution": false
    }
   },
   "outputs": [],
   "source": [
    "assert len(data) == 80"
   ]
  },
  {
   "cell_type": "markdown",
   "metadata": {
    "deletable": false,
    "editable": false,
    "nbgrader": {
     "checksum": "95ef04a72c3fd4ceef3c378ab289b1d0",
     "grade": false,
     "grade_id": "cell-6d43f9a290431b8c",
     "locked": true,
     "schema_version": 1,
     "solution": false
    }
   },
   "source": [
    "### Numpy (3 pt)\n",
    "\n",
    "Definire un array numpy denominato `cpi` costituito da tutti i *valori* contenuti nel dizionario `data`"
   ]
  },
  {
   "cell_type": "code",
   "execution_count": 5,
   "metadata": {
    "deletable": false,
    "nbgrader": {
     "checksum": "226470fec73646dd4799a4990743264e",
     "grade": false,
     "grade_id": "cell-a4240d006d126823",
     "locked": false,
     "schema_version": 1,
     "solution": true
    }
   },
   "outputs": [
    {
     "data": {
      "text/plain": [
       "array([1.01, 1.06, 1.13, 1.24, 1.33, 1.45, 1.64, 1.77, 2.24, 2.58])"
      ]
     },
     "execution_count": 5,
     "metadata": {},
     "output_type": "execute_result"
    }
   ],
   "source": [
    "import numpy as np\n",
    "\n",
    "cpi = np.array(list(data.values()))\n",
    "\n",
    "cpi[0:10]"
   ]
  },
  {
   "cell_type": "code",
   "execution_count": 6,
   "metadata": {
    "deletable": false,
    "editable": false,
    "nbgrader": {
     "checksum": "b0ead179ad48fd440a61adbc59a01936",
     "grade": true,
     "grade_id": "cell-3ab67b3d04961e97",
     "locked": true,
     "points": 2,
     "schema_version": 1,
     "solution": false
    }
   },
   "outputs": [],
   "source": [
    "assert 2 >= cpi[0] >= 1"
   ]
  },
  {
   "cell_type": "code",
   "execution_count": 7,
   "metadata": {
    "deletable": false,
    "editable": false,
    "nbgrader": {
     "checksum": "605dac583b30d144725562b8c0ac4fe2",
     "grade": true,
     "grade_id": "cell-ce7030b2279e845e",
     "locked": true,
     "points": 1,
     "schema_version": 1,
     "solution": false
    }
   },
   "outputs": [],
   "source": [
    "assert cpi.shape == (80,)"
   ]
  },
  {
   "cell_type": "markdown",
   "metadata": {
    "deletable": false,
    "editable": false,
    "nbgrader": {
     "checksum": "4fcfae82f542493ac9009d8ee143a099",
     "grade": false,
     "grade_id": "cell-15a414a2da4594a6",
     "locked": true,
     "schema_version": 1,
     "solution": false
    }
   },
   "source": [
    "### Funzioni (3 pt)\n",
    "\n",
    "Definire una funzione denominata `diag` con argomento `X` che si assume essere un array bidimensionale (matrice). La funzione restituisce un array corrispondente alla diagonale di `X`, ossia a tutti gli elementi con stesso indice di riga e colonna. La funzione `diag` deve restituire la diagonale anche quando `X` è una matrica rettangolare (cioé quando il numero di righe e colonne non coincidono)."
   ]
  },
  {
   "cell_type": "code",
   "execution_count": 8,
   "metadata": {
    "deletable": false,
    "nbgrader": {
     "checksum": "ac33ca350c028df083538ceb7dbea95b",
     "grade": false,
     "grade_id": "cell-157dd055a8b8e1c1",
     "locked": false,
     "schema_version": 1,
     "solution": true
    }
   },
   "outputs": [
    {
     "name": "stdout",
     "output_type": "stream",
     "text": [
      "[1 5 9]\n"
     ]
    }
   ],
   "source": [
    "def diag(X):\n",
    "    \n",
    "    return np.array([X[i][i] for i in range(len(X) if len(X) <= len(X[0]) else len(X[0]))])\n",
    "\n",
    "    \n",
    "sample = np.array([\n",
    "    [1, 2, 3],\n",
    "    [4, 5, 6],\n",
    "    [7, 8, 9]\n",
    "])\n",
    "\n",
    "print(diag(sample))"
   ]
  },
  {
   "cell_type": "code",
   "execution_count": 9,
   "metadata": {
    "deletable": false,
    "editable": false,
    "nbgrader": {
     "checksum": "8e3031a80e8373d7e84c36d315178d3f",
     "grade": true,
     "grade_id": "cell-ae080418e8f7e903",
     "locked": true,
     "points": 1,
     "schema_version": 1,
     "solution": false
    }
   },
   "outputs": [],
   "source": [
    "assert all(diag(sample) == np.array([1, 5, 9]))"
   ]
  },
  {
   "cell_type": "code",
   "execution_count": 10,
   "metadata": {
    "deletable": false,
    "editable": false,
    "nbgrader": {
     "checksum": "4cb1662dd78ae881a782c34036e8185f",
     "grade": true,
     "grade_id": "cell-0ce74c1b779c777f",
     "locked": true,
     "points": 1,
     "schema_version": 1,
     "solution": false
    }
   },
   "outputs": [],
   "source": [
    "assert all(diag(sample[:,0:2]) == np.array([1, 5]))"
   ]
  },
  {
   "cell_type": "code",
   "execution_count": 11,
   "metadata": {
    "deletable": false,
    "editable": false,
    "nbgrader": {
     "checksum": "695f45a014f1094321af074a394323f9",
     "grade": true,
     "grade_id": "cell-5a5827720de713f6",
     "locked": true,
     "points": 1,
     "schema_version": 1,
     "solution": false
    }
   },
   "outputs": [],
   "source": [
    "assert all(diag(sample[1:,:]) == np.array([4, 8]))"
   ]
  },
  {
   "cell_type": "markdown",
   "metadata": {
    "deletable": false,
    "editable": false,
    "nbgrader": {
     "checksum": "c936aad0f33572e28ea4041a852a54e4",
     "grade": false,
     "grade_id": "cell-156a5af4bc08580c",
     "locked": true,
     "schema_version": 1,
     "solution": false
    }
   },
   "source": [
    "### Reshaping (3 pt)\n",
    "\n",
    "Ridimensionare l'array `cpi` in una matrice di 4 colonne per 20 righe denominata `cpi_mx`. Applicare la funzione `diag` alla matrice per estrarre gli elementi diagonali e memorizzarli nell'array `cpi_d`."
   ]
  },
  {
   "cell_type": "code",
   "execution_count": 12,
   "metadata": {
    "deletable": false,
    "nbgrader": {
     "checksum": "55d0b196149f1de0c9ec03a77acb7804",
     "grade": false,
     "grade_id": "cell-861662c0ec7a2033",
     "locked": false,
     "schema_version": 1,
     "solution": true
    }
   },
   "outputs": [
    {
     "name": "stdout",
     "output_type": "stream",
     "text": [
      "[[1.01 1.06 1.13 1.24]\n",
      " [1.33 1.45 1.64 1.77]\n",
      " [2.24 2.58 2.92 3.2 ]\n",
      " [4.26 4.89 4.94 5.15]\n",
      " [5.19 5.57 6.   6.92]]\n",
      "[1.01 1.45 2.92 5.15]\n"
     ]
    }
   ],
   "source": [
    "cpi_mx = cpi.reshape(20 , 4)\n",
    "cpi_d = diag(cpi_mx)\n",
    "\n",
    "print(cpi_mx[:5,:])\n",
    "print(cpi_d)"
   ]
  },
  {
   "cell_type": "code",
   "execution_count": 13,
   "metadata": {
    "deletable": false,
    "editable": false,
    "nbgrader": {
     "checksum": "abee236adbd538e4152c4e23f70df613",
     "grade": true,
     "grade_id": "cell-555875e6b6bab9fc",
     "locked": true,
     "points": 2,
     "schema_version": 1,
     "solution": false
    }
   },
   "outputs": [],
   "source": [
    "assert cpi_mx.shape == (20, 4)"
   ]
  },
  {
   "cell_type": "code",
   "execution_count": 14,
   "metadata": {
    "deletable": false,
    "editable": false,
    "nbgrader": {
     "checksum": "71b55bcd87102f885cb677ce4ccfce26",
     "grade": true,
     "grade_id": "cell-49fb107b1ca77a8e",
     "locked": true,
     "points": 1,
     "schema_version": 1,
     "solution": false
    }
   },
   "outputs": [],
   "source": [
    "assert all(cpi_d == np.array([1.01, 1.45, 2.92, 5.15]))"
   ]
  },
  {
   "cell_type": "markdown",
   "metadata": {
    "deletable": false,
    "editable": false,
    "nbgrader": {
     "checksum": "420123bb42f611771a2340c756c6ffaa",
     "grade": false,
     "grade_id": "cell-88917c21f528e92d",
     "locked": true,
     "schema_version": 1,
     "solution": false
    }
   },
   "source": [
    "### Comprensioni (3 pt)\n",
    "\n",
    "Definire una lista denominata `ratios` dove ciascun elemento corrisponde al rapporto di un valore nell'array `cpi` con quello di quattro posizioni precedenti (per esempio, `ratios[0] == cpi[4]/cpi[0]`). Utilizzare le comprensioni di lista per generare la lista. "
   ]
  },
  {
   "cell_type": "code",
   "execution_count": 15,
   "metadata": {
    "deletable": false,
    "nbgrader": {
     "checksum": "c1c4289575590588266749bd3e0730d7",
     "grade": false,
     "grade_id": "cell-cfb86a3e55514142",
     "locked": false,
     "schema_version": 1,
     "solution": true
    }
   },
   "outputs": [
    {
     "name": "stdout",
     "output_type": "stream",
     "text": [
      "[1.316831683168317, 1.3679245283018866, 1.4513274336283186, 1.4274193548387097, 1.6842105263157896, 1.7793103448275862, 1.7804878048780488, 1.807909604519774, 1.901785714285714, 1.8953488372093021]\n"
     ]
    }
   ],
   "source": [
    "ratios = [cpi[i] / cpi[i - 4] for i in range(4 , len(cpi))]\n",
    "\n",
    "print(ratios[0:10])"
   ]
  },
  {
   "cell_type": "code",
   "execution_count": 16,
   "metadata": {
    "deletable": false,
    "editable": false,
    "nbgrader": {
     "checksum": "939dbec8d3083c2174d913ec6983bc09",
     "grade": true,
     "grade_id": "cell-6b6be11a4fcfd5c0",
     "locked": true,
     "points": 1,
     "schema_version": 1,
     "solution": false
    }
   },
   "outputs": [],
   "source": [
    "assert type(ratios)==list"
   ]
  },
  {
   "cell_type": "code",
   "execution_count": 17,
   "metadata": {
    "deletable": false,
    "editable": false,
    "nbgrader": {
     "checksum": "37fe2e4de0818ef1f2c07cb1db7511a8",
     "grade": true,
     "grade_id": "cell-d927d730c9531c76",
     "locked": true,
     "points": 1,
     "schema_version": 1,
     "solution": false
    }
   },
   "outputs": [],
   "source": [
    "assert len(ratios)==76"
   ]
  },
  {
   "cell_type": "code",
   "execution_count": 18,
   "metadata": {
    "deletable": false,
    "editable": false,
    "nbgrader": {
     "checksum": "94585b6fa7259495798a2d4830e976d9",
     "grade": true,
     "grade_id": "cell-905a803a70708ef4",
     "locked": true,
     "points": 1,
     "schema_version": 1,
     "solution": false
    }
   },
   "outputs": [],
   "source": [
    "assert all(r > 1 for r in ratios)"
   ]
  },
  {
   "cell_type": "markdown",
   "metadata": {
    "deletable": false,
    "editable": false,
    "nbgrader": {
     "checksum": "84f7ecffe47119d7b6cae91028f43451",
     "grade": false,
     "grade_id": "cell-431ab3d56afe54cc",
     "locked": true,
     "schema_version": 1,
     "solution": false
    }
   },
   "source": [
    "### Formattazione di stringhe (3 pt)\n",
    "\n",
    "Utilizzando il metodo `format` della classe `str` definire una lista di stringhe denominata `cpi_s` i cui elementi sono rappresentazioni in stringa degli elementi corrispondenti di `cpi` formattati in 13 caratteri con due cifre decimali ed eventuali zeri iniziali (p.e. `1.316831683168317` --> `'0000000001.32'`"
   ]
  },
  {
   "cell_type": "code",
   "execution_count": 19,
   "metadata": {
    "deletable": false,
    "nbgrader": {
     "checksum": "437bed5175758fdb90ec07b839bba747",
     "grade": false,
     "grade_id": "cell-bcd409bbce87196e",
     "locked": false,
     "schema_version": 1,
     "solution": true
    }
   },
   "outputs": [
    {
     "data": {
      "text/plain": [
       "['0022297936.00',\n",
       " '0032220516.00',\n",
       " '0041661128.00',\n",
       " '0064616412.00',\n",
       " '0116430000.00',\n",
       " '0155770000.00',\n",
       " '0203130000.00',\n",
       " '0679960000.00',\n",
       " '4537300000.00',\n",
       " '6611700000.00']"
      ]
     },
     "execution_count": 19,
     "metadata": {},
     "output_type": "execute_result"
    }
   ],
   "source": [
    "cpi_s = ['{0:013.2f}'.format(elem) for elem in cpi]\n",
    "\n",
    "cpi_s[70:]"
   ]
  },
  {
   "cell_type": "code",
   "execution_count": 20,
   "metadata": {
    "deletable": false,
    "editable": false,
    "nbgrader": {
     "checksum": "aa792f4ece2b46e652c4a593d75de00b",
     "grade": true,
     "grade_id": "cell-bf88ebad7485cbb2",
     "locked": true,
     "points": 1,
     "schema_version": 1,
     "solution": false
    }
   },
   "outputs": [],
   "source": [
    "assert all(len(s)==13 for s in cpi_s)"
   ]
  },
  {
   "cell_type": "code",
   "execution_count": 21,
   "metadata": {
    "deletable": false,
    "editable": false,
    "nbgrader": {
     "checksum": "d45ad16d644b8d8d2474f50d961e7ef0",
     "grade": true,
     "grade_id": "cell-c7b9a244a5c2918f",
     "locked": true,
     "points": 1,
     "schema_version": 1,
     "solution": false
    }
   },
   "outputs": [],
   "source": [
    "import re\n",
    "assert all(re.fullmatch(r'\\d+\\.\\d\\d', s) for s in cpi_s)"
   ]
  },
  {
   "cell_type": "code",
   "execution_count": 22,
   "metadata": {
    "deletable": false,
    "editable": false,
    "nbgrader": {
     "checksum": "609b6302389f3076d6b3040d7d57ca9d",
     "grade": true,
     "grade_id": "cell-6fe0617c27983a89",
     "locked": true,
     "points": 1,
     "schema_version": 1,
     "solution": false
    }
   },
   "outputs": [],
   "source": [
    "assert all(re.fullmatch(r'^\\d.*',s) for s in cpi_s)"
   ]
  },
  {
   "cell_type": "markdown",
   "metadata": {
    "deletable": false,
    "editable": false,
    "nbgrader": {
     "checksum": "679e1fb14979a8be85cf30410b705411",
     "grade": false,
     "grade_id": "cell-44631472e549f704",
     "locked": true,
     "schema_version": 1,
     "solution": false
    }
   },
   "source": [
    "### Programmazione funzionale\n",
    "\n",
    "Utilizzando la funzione `filter` e le espressioni lambda, generare una lista denominata `filtered_cpi` che contiene le stringhe di `cpi_s` che soddisfino i seguenti vincoli:\n",
    "1. La cifra corrispondente all'unità deve essere pari;\n",
    "2. Il numero rappresentato deve essere intero (cioé con parte decimale uguale a 0) "
   ]
  },
  {
   "cell_type": "code",
   "execution_count": 23,
   "metadata": {
    "deletable": false,
    "nbgrader": {
     "checksum": "97bd87ee02e854816579adc361729590",
     "grade": false,
     "grade_id": "cell-34407a93efaac316",
     "locked": false,
     "schema_version": 1,
     "solution": true
    }
   },
   "outputs": [
    {
     "data": {
      "text/plain": [
       "['0000000006.00',\n",
       " '0000000744.00',\n",
       " '0001196314.00',\n",
       " '0002180880.00',\n",
       " '0004484544.00',\n",
       " '0007194400.00',\n",
       " '0009834494.00',\n",
       " '0011798442.00',\n",
       " '0014267856.00',\n",
       " '0016727634.00',\n",
       " '0022297936.00',\n",
       " '0032220516.00',\n",
       " '0041661128.00',\n",
       " '0064616412.00',\n",
       " '0116430000.00',\n",
       " '0155770000.00',\n",
       " '0203130000.00',\n",
       " '0679960000.00',\n",
       " '4537300000.00',\n",
       " '6611700000.00']"
      ]
     },
     "execution_count": 23,
     "metadata": {},
     "output_type": "execute_result"
    }
   ],
   "source": [
    "import re \n",
    "\n",
    "filtered_cpi = list(filter(lambda x : re.fullmatch(r'\\d{9}[02468].0{2}' , x) , cpi_s))\n",
    "\n",
    "filtered_cpi"
   ]
  },
  {
   "cell_type": "code",
   "execution_count": 24,
   "metadata": {
    "deletable": false,
    "editable": false,
    "nbgrader": {
     "checksum": "85dcb5da4d5cb4b9f12c1222dcd8754f",
     "grade": true,
     "grade_id": "cell-5771077351f0efa7",
     "locked": true,
     "points": 1,
     "schema_version": 1,
     "solution": false
    }
   },
   "outputs": [],
   "source": [
    "assert type(filtered_cpi[0])==str"
   ]
  },
  {
   "cell_type": "code",
   "execution_count": 25,
   "metadata": {
    "deletable": false,
    "editable": false,
    "nbgrader": {
     "checksum": "fe4ab78d59c298ff15f145d714fb18c5",
     "grade": true,
     "grade_id": "cell-1442963af56d0ea4",
     "locked": true,
     "points": 1,
     "schema_version": 1,
     "solution": false
    }
   },
   "outputs": [],
   "source": [
    "assert all(re.fullmatch(r'.*\\.00', s) for s in filtered_cpi)"
   ]
  },
  {
   "cell_type": "code",
   "execution_count": 26,
   "metadata": {
    "deletable": false,
    "editable": false,
    "nbgrader": {
     "checksum": "eedc7f8eb08aaf7dc744e0445e7207dd",
     "grade": true,
     "grade_id": "cell-134347f6114444d3",
     "locked": true,
     "points": 1,
     "schema_version": 1,
     "solution": false
    }
   },
   "outputs": [],
   "source": [
    "assert all(re.fullmatch(r'\\d{9}[02468].*', s) for s in filtered_cpi)"
   ]
  }
 ],
 "metadata": {
  "kernelspec": {
   "display_name": "Python 3",
   "language": "python",
   "name": "python3"
  },
  "language_info": {
   "codemirror_mode": {
    "name": "ipython",
    "version": 3
   },
   "file_extension": ".py",
   "mimetype": "text/x-python",
   "name": "python",
   "nbconvert_exporter": "python",
   "pygments_lexer": "ipython3",
   "version": "3.8.8"
  },
  "nbTranslate": {
   "displayLangs": [
    "it",
    "en"
   ],
   "hotkey": "alt-t",
   "langInMainMenu": true,
   "sourceLang": "en",
   "targetLang": "it",
   "useGoogleTranslate": true
  },
  "toc": {
   "base_numbering": 1,
   "nav_menu": {},
   "number_sections": true,
   "sideBar": true,
   "skip_h1_title": false,
   "title_cell": "Table of Contents",
   "title_sidebar": "Contents",
   "toc_cell": false,
   "toc_position": {},
   "toc_section_display": true,
   "toc_window_display": false
  },
  "varInspector": {
   "cols": {
    "lenName": 16,
    "lenType": 16,
    "lenVar": 40
   },
   "kernels_config": {
    "python": {
     "delete_cmd_postfix": "",
     "delete_cmd_prefix": "del ",
     "library": "var_list.py",
     "varRefreshCmd": "print(var_dic_list())"
    },
    "r": {
     "delete_cmd_postfix": ") ",
     "delete_cmd_prefix": "rm(",
     "library": "var_list.r",
     "varRefreshCmd": "cat(var_dic_list()) "
    }
   },
   "types_to_exclude": [
    "module",
    "function",
    "builtin_function_or_method",
    "instance",
    "_Feature"
   ],
   "window_display": false
  }
 },
 "nbformat": 4,
 "nbformat_minor": 4
}

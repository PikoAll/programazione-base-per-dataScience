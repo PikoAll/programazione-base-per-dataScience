{
 "cells": [
  {
   "cell_type": "markdown",
   "metadata": {
    "deletable": false,
    "editable": false,
    "nbgrader": {
     "checksum": "888371777df6aa1bdd52e6754aa71553",
     "grade": false,
     "grade_id": "cell-fe142c7888e01719",
     "locked": true,
     "schema_version": 1,
     "solution": false
    }
   },
   "source": [
    "# Prova di esame (laboratorio)\n",
    "\n",
    "La prova avrà una durata massima di due ore e porterà a una valutazione massima di 21 punti. Il voto finale si otterrà per somma del punteggio del test di teoria e della prova di laboratorio. \n",
    "\n",
    "La prova consiste in un insieme di quiz proposti attraverso un Jupyter Notebook (non sono ammessi altri strumenti software) da svolgere sui computer del laboratorio (non sono ammessi altri strumenti hardware). Durante la prova si può consultare il libro di testo, le slide usate a lezione, un manuale python (approvato dal docente) oppure le guide in linea suggerite da Jupyter Notebook. Non sono ammessi altri strumenti di consultazione. "
   ]
  },
  {
   "cell_type": "markdown",
   "metadata": {
    "deletable": false,
    "editable": false,
    "nbgrader": {
     "checksum": "0109249b2f80a22e4f22f3da2c072fb1",
     "grade": false,
     "grade_id": "cell-9689b2f1c71af2ed",
     "locked": true,
     "schema_version": 1,
     "solution": false
    }
   },
   "source": [
    "**Prima della prova**\n",
    "\n",
    "Specificare la informazioni richieste nelle celle sottostanti e salvare il notebook con il proprio nome.\n",
    "\n",
    "**Durante la prova**\n",
    "\n",
    "Nelle celle markdown, cancellare il testo \"YOUR ANSWER HERE\" con la propria risposta. Nelle celle codice, rimuovere la linea di codice\n",
    "```python\n",
    "raise NotImplementedError()\n",
    "```\n",
    "e sostituirla con la propria implementazione.\n",
    "Dopo ogni cella codice che deve contenere la risposta al quesito, esiste una cella codice con delle *asserzioni*, ossia delle istruzioni che verificano la correttezza della propria soluzione. (Queste asserzioni saranno usate per valutare la correttezza della risposta data e assegnare un punteggio.) E' possibile eseguire queste celle per verificare che la soluzione proposta sia corretta.\n",
    "\n",
    "\n",
    "**Dopo la prova**\n",
    "\n",
    "Salvare il file dopo aver terminato. Consegnare l'elaborato utilizzando la piattaforma ADA. "
   ]
  },
  {
   "cell_type": "markdown",
   "metadata": {
    "deletable": false,
    "editable": false,
    "nbgrader": {
     "checksum": "a172831515f982ba1fa983420a9c955d",
     "grade": false,
     "grade_id": "cell-87a2a93c5c4ec366",
     "locked": true,
     "schema_version": 1,
     "solution": false
    }
   },
   "source": [
    "## Dataset"
   ]
  },
  {
   "cell_type": "markdown",
   "metadata": {
    "deletable": false,
    "editable": false,
    "nbgrader": {
     "checksum": "0e73241b37cbf1d26fade66e93fd7e07",
     "grade": false,
     "grade_id": "cell-9faeede5eae3f878",
     "locked": true,
     "schema_version": 1,
     "solution": false
    }
   },
   "source": [
    "### Salari bancari\n",
    "#### Descrizione\n",
    "\n",
    "Informazioni su impiegati di una banca statunitense \n",
    "\n",
    "#### Formato\n",
    "\n",
    "File CSV con 474 osservazioni su 4 variabili (più l'indice di riga):\n",
    "\n",
    "- job: Categoria = \"custodial\", \"admin\", \"manage\".\n",
    "- education = Scolarità (in anni)\n",
    "- gender = genere\n",
    "- minority = l'impiegato appartiene a una minorità?\n"
   ]
  },
  {
   "cell_type": "markdown",
   "metadata": {
    "deletable": false,
    "editable": false,
    "nbgrader": {
     "checksum": "8b0f8c96e16e50879a5c817978cc3904",
     "grade": false,
     "grade_id": "cell-2fb4322968bdf349",
     "locked": true,
     "schema_version": 1,
     "solution": false
    }
   },
   "source": [
    "## Domande"
   ]
  },
  {
   "cell_type": "markdown",
   "metadata": {
    "deletable": false,
    "editable": false,
    "nbgrader": {
     "checksum": "e2dcf1e4f44f2cdee80adc91a38a9626",
     "grade": false,
     "grade_id": "cell-5acd4046437997ea",
     "locked": true,
     "schema_version": 1,
     "solution": false
    }
   },
   "source": [
    "### Caricamento dati\n",
    "\n",
    "Definire una lista di nome `dataset` e popolarla con le righe del file `BankWages.csv`. Attenzione: ogni elemento di `dataset` deve essere una stringa e corrispondere con una riga del file. Eliminare il primo elemento dalla lista."
   ]
  },
  {
   "cell_type": "code",
   "execution_count": 1,
   "metadata": {
    "deletable": false,
    "nbgrader": {
     "checksum": "cc797f516c3f0ef30988761bd4cd0a8c",
     "grade": false,
     "grade_id": "cell-fb0bcfc66e6e01a6",
     "locked": false,
     "schema_version": 1,
     "solution": true
    }
   },
   "outputs": [
    {
     "data": {
      "text/plain": [
       "['\"1\",\"manage\",15,\"male\",\"no\"\\n',\n",
       " '\"2\",\"admin\",16,\"male\",\"no\"\\n',\n",
       " '\"3\",\"admin\",12,\"female\",\"no\"\\n',\n",
       " '\"4\",\"admin\",8,\"female\",\"no\"\\n',\n",
       " '\"5\",\"admin\",15,\"male\",\"no\"\\n',\n",
       " '\"6\",\"admin\",15,\"male\",\"no\"\\n',\n",
       " '\"7\",\"admin\",15,\"male\",\"no\"\\n',\n",
       " '\"8\",\"admin\",12,\"female\",\"no\"\\n',\n",
       " '\"9\",\"admin\",15,\"female\",\"no\"\\n',\n",
       " '\"10\",\"admin\",12,\"female\",\"no\"\\n']"
      ]
     },
     "execution_count": 1,
     "metadata": {},
     "output_type": "execute_result"
    }
   ],
   "source": [
    "with open('BankWages.csv') as bank:\n",
    "    dataset = list(bank.readlines())[1 :]\n",
    "\n",
    "dataset[0:10]"
   ]
  },
  {
   "cell_type": "code",
   "execution_count": 2,
   "metadata": {
    "deletable": false,
    "editable": false,
    "nbgrader": {
     "checksum": "8a783ad818c24656c9334611f77d7524",
     "grade": true,
     "grade_id": "cell-0fd6199488f46dbc",
     "locked": true,
     "points": 1,
     "schema_version": 1,
     "solution": false
    }
   },
   "outputs": [],
   "source": [
    "assert len(dataset) >= 474, \"Hai caricato correttamente il dataset?\""
   ]
  },
  {
   "cell_type": "code",
   "execution_count": 3,
   "metadata": {
    "deletable": false,
    "editable": false,
    "nbgrader": {
     "checksum": "16788cca1ef4f7ddbc7b2984b66f616c",
     "grade": true,
     "grade_id": "cell-15526262dfb14d63",
     "locked": true,
     "points": 1,
     "schema_version": 1,
     "solution": false
    }
   },
   "outputs": [],
   "source": [
    "assert len(dataset) == 474, \"Hai eliminato la prima riga?\""
   ]
  },
  {
   "cell_type": "code",
   "execution_count": 4,
   "metadata": {
    "deletable": false,
    "editable": false,
    "nbgrader": {
     "checksum": "6a22ff4bd6a4a3b53e9278930d830470",
     "grade": true,
     "grade_id": "cell-53e389ec62ca545f",
     "locked": true,
     "points": 1,
     "schema_version": 1,
     "solution": false
    }
   },
   "outputs": [],
   "source": [
    "assert type(dataset[0]) == str, \"Hai caricato correttamente gli elementi del dataset?\""
   ]
  },
  {
   "cell_type": "markdown",
   "metadata": {
    "deletable": false,
    "editable": false,
    "nbgrader": {
     "checksum": "2fc838a5f73b8fd1df9a5a57de1759bd",
     "grade": false,
     "grade_id": "cell-fbb4e1c9347ee630",
     "locked": true,
     "schema_version": 1,
     "solution": false
    }
   },
   "source": [
    "### Manipolazione di stringhe\n",
    "\n",
    "Modificare ciascun elemento di `dataset` per eliminare i caratteri `\"` e `\\n` dalla stringa. Per esempio, la stringa `'\"1\",\"manage\",15,\"male\",\"no\"\\n'` deve diventare `'1,manage,15,male,no'`."
   ]
  },
  {
   "cell_type": "code",
   "execution_count": 5,
   "metadata": {
    "deletable": false,
    "nbgrader": {
     "checksum": "3e4682ab9f88c06e3f33cb83492a8c3b",
     "grade": false,
     "grade_id": "cell-016aedaeb0d4cb30",
     "locked": false,
     "schema_version": 1,
     "solution": true
    }
   },
   "outputs": [
    {
     "data": {
      "text/plain": [
       "['1,manage,15,male,no',\n",
       " '2,admin,16,male,no',\n",
       " '3,admin,12,female,no',\n",
       " '4,admin,8,female,no',\n",
       " '5,admin,15,male,no',\n",
       " '6,admin,15,male,no',\n",
       " '7,admin,15,male,no',\n",
       " '8,admin,12,female,no',\n",
       " '9,admin,15,female,no',\n",
       " '10,admin,12,female,no']"
      ]
     },
     "execution_count": 5,
     "metadata": {},
     "output_type": "execute_result"
    }
   ],
   "source": [
    "dataset = [elem.replace('\"' , '').replace('\\n' , '') for elem in dataset]\n",
    "\n",
    "dataset[0:10]"
   ]
  },
  {
   "cell_type": "code",
   "execution_count": 6,
   "metadata": {
    "deletable": false,
    "editable": false,
    "nbgrader": {
     "checksum": "de6fdeea53705d36c31988e93478cfc1",
     "grade": true,
     "grade_id": "cell-173698c1a9b3a63f",
     "locked": true,
     "points": 1,
     "schema_version": 1,
     "solution": false
    }
   },
   "outputs": [],
   "source": [
    "assert all('\"' not in s for s in dataset), \"Hai eliminato tutti i doppi apici?\""
   ]
  },
  {
   "cell_type": "code",
   "execution_count": 7,
   "metadata": {
    "deletable": false,
    "editable": false,
    "nbgrader": {
     "checksum": "5c469f7a12934affbce8da5869431435",
     "grade": true,
     "grade_id": "cell-65ea9d2c3a0cba33",
     "locked": true,
     "points": 1,
     "schema_version": 1,
     "solution": false
    }
   },
   "outputs": [],
   "source": [
    "assert all('\\n' not in s for s in dataset), \"Hai eliminato tutte le newline?\""
   ]
  },
  {
   "cell_type": "code",
   "execution_count": 8,
   "metadata": {
    "deletable": false,
    "editable": false,
    "nbgrader": {
     "checksum": "2468b3ccfdc0f97daac1d78d9a8f58b8",
     "grade": true,
     "grade_id": "cell-8701d64e78a1bff2",
     "locked": true,
     "points": 1,
     "schema_version": 1,
     "solution": false
    }
   },
   "outputs": [],
   "source": [
    "assert len(dataset) >= 474, \"Hai modificato correttamente il dataset?\""
   ]
  },
  {
   "cell_type": "markdown",
   "metadata": {
    "deletable": false,
    "editable": false,
    "nbgrader": {
     "checksum": "b14ed955fb28c144a50d8d266b482372",
     "grade": false,
     "grade_id": "cell-6ee6668410c4de43",
     "locked": true,
     "schema_version": 1,
     "solution": false
    }
   },
   "source": [
    "### Funzioni\n",
    "\n",
    "Definire una funzione con nome `abbrv` con parametro `s` (si assume una stringa) che opera in questo modo:\n",
    "> Se la stringa `s` non contiene caratteri numerici, ha una lunghezza maggiore a 4 caratteri e non finisce con il punto `.`, restituisce una stringa costituita dai primi tre caratteri di `s` seguiti dal punto `.`, altrimenti restituisce la stringa `s`"
   ]
  },
  {
   "cell_type": "code",
   "execution_count": 9,
   "metadata": {
    "deletable": false,
    "nbgrader": {
     "checksum": "c50e64c030a4d9e81202ef50793b744f",
     "grade": false,
     "grade_id": "cell-246f3549ea2d6410",
     "locked": false,
     "schema_version": 1,
     "solution": true
    }
   },
   "outputs": [
    {
     "data": {
      "text/plain": [
       "'abb.'"
      ]
     },
     "execution_count": 9,
     "metadata": {},
     "output_type": "execute_result"
    }
   ],
   "source": [
    "def abbrv(s):\n",
    "    \n",
    "    return s[0 : 3] + '.' if len(s) > 4 and not s.endswith('.') and not True in [s[i].isdigit() for i in range(len(s))] else s\n",
    "\n",
    "\n",
    "abbrv('abbreviato')"
   ]
  },
  {
   "cell_type": "code",
   "execution_count": 10,
   "metadata": {
    "deletable": false,
    "editable": false,
    "nbgrader": {
     "checksum": "30571b05f9cc0967b250834abc43c9da",
     "grade": true,
     "grade_id": "cell-d82fddac25e2cc0c",
     "locked": true,
     "points": 1,
     "schema_version": 1,
     "solution": false
    }
   },
   "outputs": [],
   "source": [
    "assert abbrv('extra10')=='extra10', \"Hai verificato la condizione sui caratteri?\""
   ]
  },
  {
   "cell_type": "code",
   "execution_count": 11,
   "metadata": {
    "deletable": false,
    "editable": false,
    "nbgrader": {
     "checksum": "c26d4daabb7a8d236366661edaed660c",
     "grade": true,
     "grade_id": "cell-ad285abda81682d0",
     "locked": true,
     "points": 1,
     "schema_version": 1,
     "solution": false
    }
   },
   "outputs": [],
   "source": [
    "assert abbrv('male')=='male', \"Hai verificato la condizione sulla lunghezza?\""
   ]
  },
  {
   "cell_type": "code",
   "execution_count": 12,
   "metadata": {
    "deletable": false,
    "editable": false,
    "nbgrader": {
     "checksum": "ff168f30b59305531991b1c6f686fe91",
     "grade": true,
     "grade_id": "cell-bf0e6bc0979d0da9",
     "locked": true,
     "points": 1,
     "schema_version": 1,
     "solution": false
    }
   },
   "outputs": [],
   "source": [
    "assert abbrv('manage.')=='manage.', \"Hai verificato la condizione sul punto?\""
   ]
  },
  {
   "cell_type": "code",
   "execution_count": 13,
   "metadata": {
    "deletable": false,
    "editable": false,
    "nbgrader": {
     "checksum": "8fd768b39db57c145e29707288b05fe4",
     "grade": true,
     "grade_id": "cell-a0576cf39e65d155",
     "locked": true,
     "points": 1,
     "schema_version": 1,
     "solution": false
    }
   },
   "outputs": [],
   "source": [
    "assert abbrv('female')=='fem.', \"Hai trasformato correttamente la stringa?\""
   ]
  },
  {
   "cell_type": "markdown",
   "metadata": {
    "deletable": false,
    "editable": false,
    "nbgrader": {
     "checksum": "9731520a86e3f1e9b9419fa99f220521",
     "grade": false,
     "grade_id": "cell-d6b613e37ee49bd7",
     "locked": true,
     "schema_version": 1,
     "solution": false
    }
   },
   "source": [
    "### Programmazione funzionale\n",
    "\n",
    "Attraverso la funzione `map` e i metodi `split` e `join` e utilizzando l'istruzione `lambda` definire una funzione `f` che scompone la stringa `s` nelle sottostringhe separate da virgola, applica a ciascuna sottostringa la funzione `abbrv` e ricompone la stringa unendo le sottostringhe con la virgola.\n",
    "\n",
    "Per esempio: `f(\"1,manage,15,male,no\")==\"1,man.,15,male,no\"`"
   ]
  },
  {
   "cell_type": "code",
   "execution_count": 14,
   "metadata": {
    "deletable": false,
    "nbgrader": {
     "checksum": "272e43a48a5ecb64b074b0b4bb0f5bed",
     "grade": false,
     "grade_id": "cell-4aa5f12869696723",
     "locked": false,
     "schema_version": 1,
     "solution": true
    }
   },
   "outputs": [],
   "source": [
    "def f(s):\n",
    "  \n",
    "    return ','.join(elem for elem in map(lambda x: abbrv(x), s.split(',')))"
   ]
  },
  {
   "cell_type": "code",
   "execution_count": 15,
   "metadata": {
    "deletable": false,
    "editable": false,
    "nbgrader": {
     "checksum": "df3a98d0b607e981c531dea00057a442",
     "grade": true,
     "grade_id": "cell-5b8e638086c74638",
     "locked": true,
     "points": 1,
     "schema_version": 1,
     "solution": false
    }
   },
   "outputs": [],
   "source": [
    "assert f(\"1,manage,15,male,no\")==\"1,man.,15,male,no\", \"Hai definito correttamente la funzione?\""
   ]
  },
  {
   "cell_type": "markdown",
   "metadata": {
    "deletable": false,
    "editable": false,
    "nbgrader": {
     "checksum": "c63c205760739bfa4683f0131909ea1b",
     "grade": false,
     "grade_id": "cell-e6e9f32f0fee9423",
     "locked": true,
     "schema_version": 1,
     "solution": false
    }
   },
   "source": [
    "Attraverso la funzione `map`, applicare la funzione `f` a tutti gli elementi di dataset. Restituire il risultato in un oggetto di nome `dataset_map`"
   ]
  },
  {
   "cell_type": "code",
   "execution_count": 16,
   "metadata": {
    "deletable": false,
    "nbgrader": {
     "checksum": "12d4a62847164fe952dee6f93b65b6e7",
     "grade": false,
     "grade_id": "cell-f1fe14efaddfcf9f",
     "locked": false,
     "schema_version": 1,
     "solution": true
    }
   },
   "outputs": [],
   "source": [
    "dataset_map = map(f, dataset)"
   ]
  },
  {
   "cell_type": "code",
   "execution_count": 17,
   "metadata": {
    "deletable": false,
    "editable": false,
    "nbgrader": {
     "checksum": "ae4900892e32dd42a728591ca15d3325",
     "grade": true,
     "grade_id": "cell-652081ba3e9d5a94",
     "locked": true,
     "points": 1,
     "schema_version": 1,
     "solution": false
    }
   },
   "outputs": [],
   "source": [
    "assert type(dataset_map) == map, \"Hai creato correttamente la map?\""
   ]
  },
  {
   "cell_type": "markdown",
   "metadata": {
    "deletable": false,
    "editable": false,
    "nbgrader": {
     "checksum": "85f5d432294548b711c63154575e938a",
     "grade": false,
     "grade_id": "cell-13e2a053e25dc470",
     "locked": true,
     "schema_version": 1,
     "solution": false
    }
   },
   "source": [
    "Utilizzando la funzione `filter`, filtrare da `dataset_map` solo gli elementi che hanno una lunghezza pari a 20. Memorizzare il risultato nella variabile `dataset_filter`"
   ]
  },
  {
   "cell_type": "code",
   "execution_count": 18,
   "metadata": {
    "deletable": false,
    "nbgrader": {
     "checksum": "8351694815c83554d2252a5c7ea61b19",
     "grade": false,
     "grade_id": "cell-cdb49e2a2df3d356",
     "locked": false,
     "schema_version": 1,
     "solution": true
    }
   },
   "outputs": [],
   "source": [
    "dataset_filter = filter(lambda x: len(x) == 20, dataset_map)"
   ]
  },
  {
   "cell_type": "code",
   "execution_count": 19,
   "metadata": {
    "deletable": false,
    "editable": false,
    "nbgrader": {
     "checksum": "9a2ef4e5a1320c7b5802c4c5199619fe",
     "grade": true,
     "grade_id": "cell-180e1f7b1fdebcb6",
     "locked": true,
     "points": 1,
     "schema_version": 1,
     "solution": false
    }
   },
   "outputs": [],
   "source": [
    "assert type(dataset_filter) == filter, \"Hai costruito correttamente il filtro?\""
   ]
  },
  {
   "cell_type": "markdown",
   "metadata": {
    "deletable": false,
    "editable": false,
    "nbgrader": {
     "checksum": "c03827371408543a458169f7dfdb7f14",
     "grade": false,
     "grade_id": "cell-97c5172deefd19f8",
     "locked": true,
     "schema_version": 1,
     "solution": false
    }
   },
   "source": [
    "Trasformare `dataset_filter` in una lista denominata `filtered_dataset`."
   ]
  },
  {
   "cell_type": "code",
   "execution_count": 20,
   "metadata": {
    "deletable": false,
    "nbgrader": {
     "checksum": "2aaacdff5ef75120c7d738cdfa477e5d",
     "grade": false,
     "grade_id": "cell-faf152cf262df067",
     "locked": false,
     "schema_version": 1,
     "solution": true
    }
   },
   "outputs": [
    {
     "data": {
      "text/plain": [
       "['109,adm.,12,male,yes',\n",
       " '110,adm.,15,male,yes',\n",
       " '111,cus.,12,male,yes',\n",
       " '112,cus.,12,male,yes',\n",
       " '125,adm.,12,male,yes',\n",
       " '126,cus.,15,male,yes',\n",
       " '127,cus.,12,male,yes',\n",
       " '128,adm.,12,fem.,yes',\n",
       " '145,adm.,12,male,yes',\n",
       " '146,adm.,18,male,yes']"
      ]
     },
     "execution_count": 20,
     "metadata": {},
     "output_type": "execute_result"
    }
   ],
   "source": [
    "filtered_dataset = list(dataset_filter)\n",
    "\n",
    "filtered_dataset[0:10]"
   ]
  },
  {
   "cell_type": "code",
   "execution_count": 21,
   "metadata": {
    "deletable": false,
    "editable": false,
    "nbgrader": {
     "checksum": "eb8be162c33177ae0689a9da738500b0",
     "grade": true,
     "grade_id": "cell-39a50bd8bc0e684f",
     "locked": true,
     "points": 1,
     "schema_version": 1,
     "solution": false
    }
   },
   "outputs": [],
   "source": [
    "assert all(len(s)==20 for s in filtered_dataset), \"Hai applicato correttamente la condizione di filtro?\""
   ]
  },
  {
   "cell_type": "markdown",
   "metadata": {
    "deletable": false,
    "editable": false,
    "nbgrader": {
     "checksum": "a8dd8a89249830ddf2714f017aa435e4",
     "grade": false,
     "grade_id": "cell-4117a7d6316d219b",
     "locked": true,
     "schema_version": 1,
     "solution": false
    }
   },
   "source": [
    "### Espressioni regolari\n",
    "\n",
    "Utilizzando le espressioni regolari, estrarre dalla lista `dataset` le stringhe che corrispondono a impiegati che hanno una scolarità inferiore a 10 anni (dunque una sola cifra nel campo \"education\"). Memorizzare la lista delle stringhe estratte nella variabile `low_education`. (Suggerimento: osservate che il campo scolarità è l'unico numerico racchiuso tra due virgole.)"
   ]
  },
  {
   "cell_type": "code",
   "execution_count": 22,
   "metadata": {
    "collapsed": true,
    "deletable": false,
    "nbgrader": {
     "checksum": "1ff4d92a2280bb90fae839d305dea4ee",
     "grade": false,
     "grade_id": "cell-6ef526e123e4a02e",
     "locked": false,
     "schema_version": 1,
     "solution": true
    }
   },
   "outputs": [
    {
     "data": {
      "text/plain": [
       "['4,admin,8,female,no',\n",
       " '12,admin,8,male,yes',\n",
       " '36,admin,8,female,no',\n",
       " '44,admin,8,male,no',\n",
       " '61,admin,8,male,yes',\n",
       " '65,admin,8,male,no',\n",
       " '84,admin,8,female,yes',\n",
       " '90,admin,8,female,no',\n",
       " '92,admin,8,female,no',\n",
       " '96,custodial,8,male,yes']"
      ]
     },
     "execution_count": 22,
     "metadata": {},
     "output_type": "execute_result"
    }
   ],
   "source": [
    "import re \n",
    "\n",
    "low_education = [elem for elem in dataset if re.fullmatch(r'.*,\\d,.*', elem)]\n",
    "\n",
    "low_education[:10]"
   ]
  },
  {
   "cell_type": "code",
   "execution_count": 23,
   "metadata": {
    "deletable": false,
    "editable": false,
    "nbgrader": {
     "checksum": "f5be82b1f6dc13a04c75ce425c526065",
     "grade": true,
     "grade_id": "cell-3cf64938652f67d6",
     "locked": true,
     "points": 1,
     "schema_version": 1,
     "solution": false
    }
   },
   "outputs": [],
   "source": [
    "assert 60>len(low_education)>50, \"Hai filtrato correttamente gli elementi della lista?\""
   ]
  },
  {
   "cell_type": "code",
   "execution_count": 24,
   "metadata": {
    "deletable": false,
    "editable": false,
    "nbgrader": {
     "checksum": "acddba7a9264ff8ac401f35a03f8df8f",
     "grade": true,
     "grade_id": "cell-101764eaf9921f7a",
     "locked": true,
     "points": 1,
     "schema_version": 1,
     "solution": false
    }
   },
   "outputs": [],
   "source": [
    "assert all(',8,' in s for s in low_education), \"Hai utilizzato l'espressione regolare corretta?\""
   ]
  },
  {
   "cell_type": "code",
   "execution_count": 25,
   "metadata": {
    "deletable": false,
    "editable": false,
    "nbgrader": {
     "checksum": "12e4659be31b49a6145a2148f54514e7",
     "grade": true,
     "grade_id": "cell-c5d74c1eceab8e9b",
     "locked": true,
     "points": 1,
     "schema_version": 1,
     "solution": false
    }
   },
   "outputs": [],
   "source": [
    "assert all('male' in s for s in low_education), \"Hai estratto l'intera stringa?\""
   ]
  },
  {
   "cell_type": "markdown",
   "metadata": {
    "deletable": false,
    "editable": false,
    "nbgrader": {
     "checksum": "871ac1e1a9342442a02191f236660060",
     "grade": false,
     "grade_id": "cell-724611405400d9e2",
     "locked": true,
     "schema_version": 1,
     "solution": false
    }
   },
   "source": [
    "Utilizzando le espressioni regolari, estrarre il genere (`male`/`female`) da ciascuna stringa di `low_education`. Memorizzare il risultato nella lista `low_education_gender`"
   ]
  },
  {
   "cell_type": "code",
   "execution_count": 26,
   "metadata": {
    "deletable": false,
    "nbgrader": {
     "checksum": "16bfaac8c15f784ccaea284d3427b138",
     "grade": false,
     "grade_id": "cell-f531dfbb5ae5dd5f",
     "locked": false,
     "schema_version": 1,
     "solution": true
    }
   },
   "outputs": [
    {
     "data": {
      "text/plain": [
       "['female',\n",
       " 'male',\n",
       " 'female',\n",
       " 'male',\n",
       " 'male',\n",
       " 'male',\n",
       " 'female',\n",
       " 'female',\n",
       " 'female',\n",
       " 'male']"
      ]
     },
     "execution_count": 26,
     "metadata": {},
     "output_type": "execute_result"
    }
   ],
   "source": [
    "low_education_gender = [re.search(r'(fe)?male', elem).group() for elem in low_education]\n",
    "\n",
    "low_education_gender[:10]"
   ]
  },
  {
   "cell_type": "code",
   "execution_count": 27,
   "metadata": {
    "deletable": false,
    "editable": false,
    "nbgrader": {
     "checksum": "59301ca4bd6ae86a49e65dccf54f006d",
     "grade": true,
     "grade_id": "cell-61cc5b0b6bea2460",
     "locked": true,
     "points": 1,
     "schema_version": 1,
     "solution": false
    }
   },
   "outputs": [],
   "source": [
    "assert all(type(s) == str for s in low_education_gender), \"Hai estratto correttamente le stringhe?\""
   ]
  },
  {
   "cell_type": "code",
   "execution_count": 28,
   "metadata": {
    "deletable": false,
    "editable": false,
    "nbgrader": {
     "checksum": "4d4cd5de022665a828652f78459472fa",
     "grade": true,
     "grade_id": "cell-69e8cca2f033ff43",
     "locked": true,
     "points": 1,
     "schema_version": 1,
     "solution": false
    }
   },
   "outputs": [],
   "source": [
    "assert len(low_education)==len(low_education_gender), \"Ogni elemento di low_education produce un risultato!\""
   ]
  },
  {
   "cell_type": "code",
   "execution_count": 29,
   "metadata": {
    "deletable": false,
    "editable": false,
    "nbgrader": {
     "checksum": "4aa5802b003fb0531ed029f075538db8",
     "grade": true,
     "grade_id": "cell-727ab594eea33a24",
     "locked": true,
     "points": 1,
     "schema_version": 1,
     "solution": false
    }
   },
   "outputs": [],
   "source": [
    "assert all(s=='male' or s=='female' for s in low_education_gender), \"Hai utilizzato l'espressione regolare corretta?\""
   ]
  },
  {
   "cell_type": "markdown",
   "metadata": {
    "deletable": false,
    "editable": false,
    "nbgrader": {
     "checksum": "edd206928d33883ee25320d10a438c70",
     "grade": false,
     "grade_id": "cell-d8a6352d338aa504",
     "locked": true,
     "schema_version": 1,
     "solution": false
    }
   },
   "source": [
    "Calcola la percentuale di maschi (\"`male`\") in `low_education_gender` e memorizza la percentuale in una stringa `perc` con una cifra decimale (es. `32.2%`)"
   ]
  },
  {
   "cell_type": "code",
   "execution_count": 30,
   "metadata": {
    "deletable": false,
    "nbgrader": {
     "checksum": "79342c61e909be83e5b698b1c16af6fc",
     "grade": false,
     "grade_id": "cell-1ff9191e4e9277e6",
     "locked": false,
     "schema_version": 1,
     "solution": true
    }
   },
   "outputs": [
    {
     "data": {
      "text/plain": [
       "'43.4%'"
      ]
     },
     "execution_count": 30,
     "metadata": {},
     "output_type": "execute_result"
    }
   ],
   "source": [
    "pattern = r'male'\n",
    "perc = f'{len([elem for elem in low_education_gender if re.fullmatch(pattern, elem)]) / len (low_education_gender):.1%}'\n",
    "\n",
    "perc"
   ]
  },
  {
   "cell_type": "code",
   "execution_count": 31,
   "metadata": {
    "deletable": false,
    "editable": false,
    "nbgrader": {
     "checksum": "4aa8805bff036297fafb7e00258c4b15",
     "grade": true,
     "grade_id": "cell-6a781142a9065e27",
     "locked": true,
     "points": 1,
     "schema_version": 1,
     "solution": false
    }
   },
   "outputs": [],
   "source": [
    "assert re.fullmatch(r'\\d{2}\\.\\d%', perc), \"Hai calcolato e formattato correttamente i risultati?\""
   ]
  }
 ],
 "metadata": {
  "kernelspec": {
   "display_name": "Python 3",
   "language": "python",
   "name": "python3"
  },
  "language_info": {
   "codemirror_mode": {
    "name": "ipython",
    "version": 3
   },
   "file_extension": ".py",
   "mimetype": "text/x-python",
   "name": "python",
   "nbconvert_exporter": "python",
   "pygments_lexer": "ipython3",
   "version": "3.8.8"
  },
  "nbTranslate": {
   "displayLangs": [
    "*"
   ],
   "hotkey": "alt-t",
   "langInMainMenu": true,
   "sourceLang": "en",
   "targetLang": "it",
   "useGoogleTranslate": true
  },
  "toc": {
   "base_numbering": 1,
   "nav_menu": {},
   "number_sections": true,
   "sideBar": true,
   "skip_h1_title": false,
   "title_cell": "Table of Contents",
   "title_sidebar": "Contents",
   "toc_cell": false,
   "toc_position": {},
   "toc_section_display": true,
   "toc_window_display": false
  },
  "varInspector": {
   "cols": {
    "lenName": 16,
    "lenType": 16,
    "lenVar": 40
   },
   "kernels_config": {
    "python": {
     "delete_cmd_postfix": "",
     "delete_cmd_prefix": "del ",
     "library": "var_list.py",
     "varRefreshCmd": "print(var_dic_list())"
    },
    "r": {
     "delete_cmd_postfix": ") ",
     "delete_cmd_prefix": "rm(",
     "library": "var_list.r",
     "varRefreshCmd": "cat(var_dic_list()) "
    }
   },
   "types_to_exclude": [
    "module",
    "function",
    "builtin_function_or_method",
    "instance",
    "_Feature"
   ],
   "window_display": false
  }
 },
 "nbformat": 4,
 "nbformat_minor": 4
}
